{
 "cells": [
  {
   "cell_type": "code",
   "execution_count": 7,
   "id": "6ebe6ecf-3b45-4c72-8035-1df682406322",
   "metadata": {},
   "outputs": [
    {
     "name": "stdout",
     "output_type": "stream",
     "text": [
      "Requirement already satisfied: ensemble-boxes in c:\\users\\z\\anaconda3\\envs\\reboot\\lib\\site-packages (1.0.9)\n",
      "Requirement already satisfied: numpy in c:\\users\\z\\anaconda3\\envs\\reboot\\lib\\site-packages (from ensemble-boxes) (2.0.2)\n",
      "Requirement already satisfied: pandas in c:\\users\\z\\anaconda3\\envs\\reboot\\lib\\site-packages (from ensemble-boxes) (2.2.3)\n",
      "Requirement already satisfied: numba in c:\\users\\z\\anaconda3\\envs\\reboot\\lib\\site-packages (from ensemble-boxes) (0.60.0)\n",
      "Requirement already satisfied: llvmlite<0.44,>=0.43.0dev0 in c:\\users\\z\\anaconda3\\envs\\reboot\\lib\\site-packages (from numba->ensemble-boxes) (0.43.0)\n",
      "Requirement already satisfied: python-dateutil>=2.8.2 in c:\\users\\z\\anaconda3\\envs\\reboot\\lib\\site-packages (from pandas->ensemble-boxes) (2.9.0.post0)\n",
      "Requirement already satisfied: pytz>=2020.1 in c:\\users\\z\\anaconda3\\envs\\reboot\\lib\\site-packages (from pandas->ensemble-boxes) (2023.4)\n",
      "Requirement already satisfied: tzdata>=2022.7 in c:\\users\\z\\anaconda3\\envs\\reboot\\lib\\site-packages (from pandas->ensemble-boxes) (2024.2)\n",
      "Requirement already satisfied: six>=1.5 in c:\\users\\z\\anaconda3\\envs\\reboot\\lib\\site-packages (from python-dateutil>=2.8.2->pandas->ensemble-boxes) (1.16.0)\n"
     ]
    },
    {
     "data": {
      "text/plain": [
       "'\\nhttps://github.com/ZFTurbo/Weighted-Boxes-Fusion\\n'"
      ]
     },
     "execution_count": 7,
     "metadata": {},
     "output_type": "execute_result"
    }
   ],
   "source": [
    "!pip install ensemble-boxes"
   ]
  },
  {
   "cell_type": "code",
   "execution_count": 2,
   "id": "4ea20cca-286d-4f08-bc50-9ac87c713ca8",
   "metadata": {},
   "outputs": [],
   "source": [
    "import pandas as pd\n",
    "from ensemble_boxes import *\n",
    "import numpy as np\n",
    "from pycocotools.coco import COCO\n",
    "from tqdm import tqdm\n",
    "import os"
   ]
  },
  {
   "cell_type": "code",
   "execution_count": 3,
   "id": "2c35c17e-f80b-4076-966c-ff5b72ef13e7",
   "metadata": {},
   "outputs": [],
   "source": [
    "# ensemble csv files\n",
    "\n",
    "directory_path = \".\\weightensemble\"\n",
    "\n",
    "# 모든 .csv 파일을 리스트로 저장\n",
    "submission_files = [os.path.join(directory_path, file) for file in os.listdir(directory_path) if file.endswith('.csv')]\n",
    "submission_df = [pd.read_csv(file) for file in submission_files]"
   ]
  },
  {
   "cell_type": "code",
   "execution_count": 5,
   "id": "9dbaf5e5-803b-4363-8862-38373b409d29",
   "metadata": {},
   "outputs": [
    {
     "name": "stdout",
     "output_type": "stream",
     "text": [
      "[0.3064, 0.3107, 0.3565, 0.3703, 0.3718, 0.3968, 0.4226, 0.4263, 0.4331, 0.4385, 0.4442, 0.449, 0.4578, 0.5548, 0.5765, 0.5772, 0.5946, 0.6087, 0.6153, 0.6214, 0.6269, 0.6278, 0.6282, 0.6292, 0.6293, 0.6313, 0.632, 0.6326, 0.6328, 0.633, 0.6333, 0.6335, 0.6371, 0.6408, 0.6423, 0.6467, 0.6492, 0.6495, 0.6591, 0.6596, 0.6635, 0.6645, 0.6743, 0.6828]\n"
     ]
    }
   ],
   "source": [
    "weights = [float(os.path.splitext(os.path.basename(file))[0]) / 10000 for file in submission_files]\n",
    "\n",
    "# 결과 출력\n",
    "print(weights)"
   ]
  },
  {
   "cell_type": "code",
   "execution_count": 6,
   "id": "7e5c7416-ba03-4a96-8fad-a30a83516087",
   "metadata": {},
   "outputs": [
    {
     "name": "stdout",
     "output_type": "stream",
     "text": [
      "Number of submission files: 44\n",
      "Number of weights: 44\n"
     ]
    }
   ],
   "source": [
    "print(f\"Number of submission files: {len(submission_files)}\")\n",
    "print(f\"Number of weights: {len(weights)}\")"
   ]
  },
  {
   "cell_type": "code",
   "execution_count": 7,
   "id": "37b54a1e-5aa8-47d1-bfae-800ce98d55c5",
   "metadata": {},
   "outputs": [],
   "source": [
    "image_ids = submission_df[0]['image_id'].tolist()\n",
    "assert len(image_ids)==4871"
   ]
  },
  {
   "cell_type": "code",
   "execution_count": 8,
   "id": "714fdcf3-f608-4802-a7ed-adf409ae4eb9",
   "metadata": {},
   "outputs": [
    {
     "name": "stdout",
     "output_type": "stream",
     "text": [
      "loading annotations into memory...\n",
      "Done (t=0.01s)\n",
      "creating index...\n",
      "index created!\n"
     ]
    }
   ],
   "source": [
    "annotation = r'C:\\Users\\z\\OneDrive - Sejong University\\바탕 화면\\네이버 부스트캠프 제출용\\네이버 부캠\\프로젝트2\\data\\datatest\\test.json' ### test.json 경로 넣기 ###\n",
    "coco = COCO(annotation)\n"
   ]
  },
  {
   "cell_type": "code",
   "execution_count": 9,
   "id": "741c427b-dd9e-465d-a770-0e6e167c331c",
   "metadata": {
    "scrolled": true
   },
   "outputs": [
    {
     "name": "stderr",
     "output_type": "stream",
     "text": [
      "  0%|                                                                                         | 0/4871 [00:00<?, ?it/s]C:\\Users\\z\\anaconda3\\envs\\reboot\\lib\\site-packages\\ensemble_boxes\\ensemble_boxes_wbf.py:63: UserWarning: Y2 > 1 in box. Set it to 1. Check that you normalize boxes in [0, 1] range.\n",
      "  warnings.warn('Y2 > 1 in box. Set it to 1. Check that you normalize boxes in [0, 1] range.')\n",
      "  0%|                                                                                 | 1/4871 [00:00<31:39,  2.56it/s]C:\\Users\\z\\anaconda3\\envs\\reboot\\lib\\site-packages\\ensemble_boxes\\ensemble_boxes_wbf.py:54: UserWarning: Y1 < 0 in box. Set it to 0.\n",
      "  warnings.warn('Y1 < 0 in box. Set it to 0.')\n",
      "C:\\Users\\z\\anaconda3\\envs\\reboot\\lib\\site-packages\\ensemble_boxes\\ensemble_boxes_wbf.py:51: UserWarning: X2 > 1 in box. Set it to 1. Check that you normalize boxes in [0, 1] range.\n",
      "  warnings.warn('X2 > 1 in box. Set it to 1. Check that you normalize boxes in [0, 1] range.')\n",
      "C:\\Users\\z\\anaconda3\\envs\\reboot\\lib\\site-packages\\ensemble_boxes\\ensemble_boxes_wbf.py:42: UserWarning: X1 < 0 in box. Set it to 0.\n",
      "  warnings.warn('X1 < 0 in box. Set it to 0.')\n",
      "  0%|▏                                                                               | 10/4871 [00:03<24:58,  3.24it/s]"
     ]
    },
    {
     "name": "stdout",
     "output_type": "stream",
     "text": [
      "Warning: image_id test/0009.jpg submission_df index 0.4442has 1 bounding boxes. maybe \n",
      "Warning: incorrect number of weights 44. Must be: 43. Set weights equal to 1.\n"
     ]
    },
    {
     "name": "stderr",
     "output_type": "stream",
     "text": [
      "  0%|▎                                                                               | 17/4871 [00:05<21:38,  3.74it/s]"
     ]
    },
    {
     "name": "stdout",
     "output_type": "stream",
     "text": [
      "Warning: image_id test/0017.jpg submission_df index 0.449has 1 bounding boxes. maybe \n",
      "Warning: image_id test/0017.jpg submission_df index 0.5772has 1 bounding boxes. maybe \n",
      "Warning: incorrect number of weights 44. Must be: 42. Set weights equal to 1.\n"
     ]
    },
    {
     "name": "stderr",
     "output_type": "stream",
     "text": [
      "  0%|▎                                                                               | 21/4871 [00:06<25:29,  3.17it/s]"
     ]
    },
    {
     "name": "stdout",
     "output_type": "stream",
     "text": [
      "Warning: image_id test/0020.jpg submission_df index 0.4442has 1 bounding boxes. maybe \n",
      "Warning: incorrect number of weights 44. Must be: 43. Set weights equal to 1.\n"
     ]
    },
    {
     "name": "stderr",
     "output_type": "stream",
     "text": [
      "  1%|▌                                                                               | 31/4871 [00:09<17:19,  4.65it/s]"
     ]
    },
    {
     "name": "stdout",
     "output_type": "stream",
     "text": [
      "Warning: image_id test/0030.jpg submission_df index 0.4442has 1 bounding boxes. maybe \n",
      "Warning: incorrect number of weights 44. Must be: 43. Set weights equal to 1.\n"
     ]
    },
    {
     "name": "stderr",
     "output_type": "stream",
     "text": [
      "  1%|▌                                                                               | 34/4871 [00:09<19:09,  4.21it/s]"
     ]
    },
    {
     "name": "stdout",
     "output_type": "stream",
     "text": [
      "Warning: image_id test/0034.jpg submission_df index 0.4442has 1 bounding boxes. maybe \n",
      "Warning: incorrect number of weights 44. Must be: 43. Set weights equal to 1.\n"
     ]
    },
    {
     "name": "stderr",
     "output_type": "stream",
     "text": [
      "  1%|▋                                                                               | 44/4871 [00:13<22:45,  3.53it/s]"
     ]
    },
    {
     "name": "stdout",
     "output_type": "stream",
     "text": [
      "Warning: image_id test/0043.jpg submission_df index 0.4331has 1 bounding boxes. maybe \n",
      "Warning: incorrect number of weights 44. Must be: 43. Set weights equal to 1.\n",
      "Warning: image_id test/0044.jpg submission_df index 0.4331has 1 bounding boxes. maybe \n",
      "Warning: image_id test/0044.jpg submission_df index 0.4442has 1 bounding boxes. maybe \n",
      "Warning: image_id test/0044.jpg submission_df index 0.449has 1 bounding boxes. maybe \n",
      "Warning: image_id test/0044.jpg submission_df index 0.4578has 1 bounding boxes. maybe \n",
      "Warning: incorrect number of weights 44. Must be: 40. Set weights equal to 1.\n"
     ]
    },
    {
     "name": "stderr",
     "output_type": "stream",
     "text": [
      "  1%|█                                                                               | 62/4871 [00:18<22:34,  3.55it/s]"
     ]
    },
    {
     "name": "stdout",
     "output_type": "stream",
     "text": [
      "Warning: image_id test/0061.jpg submission_df index 0.4578has 1 bounding boxes. maybe \n",
      "Warning: incorrect number of weights 44. Must be: 43. Set weights equal to 1.\n"
     ]
    },
    {
     "name": "stderr",
     "output_type": "stream",
     "text": [
      "  2%|█▋                                                                             | 102/4871 [00:29<22:51,  3.48it/s]"
     ]
    },
    {
     "name": "stdout",
     "output_type": "stream",
     "text": [
      "Warning: image_id test/0101.jpg submission_df index 0.4331has 1 bounding boxes. maybe \n",
      "Warning: incorrect number of weights 44. Must be: 43. Set weights equal to 1.\n"
     ]
    },
    {
     "name": "stderr",
     "output_type": "stream",
     "text": [
      "  3%|█▉                                                                             | 123/4871 [00:35<22:34,  3.51it/s]"
     ]
    },
    {
     "name": "stdout",
     "output_type": "stream",
     "text": [
      "Warning: image_id test/0123.jpg submission_df index 0.4331has 1 bounding boxes. maybe \n",
      "Warning: incorrect number of weights 44. Must be: 43. Set weights equal to 1.\n"
     ]
    },
    {
     "name": "stderr",
     "output_type": "stream",
     "text": [
      "  3%|██▏                                                                            | 134/4871 [00:38<17:25,  4.53it/s]"
     ]
    },
    {
     "name": "stdout",
     "output_type": "stream",
     "text": [
      "Warning: image_id test/0134.jpg submission_df index 0.4331has 1 bounding boxes. maybe \n",
      "Warning: image_id test/0134.jpg submission_df index 0.4442has 1 bounding boxes. maybe \n",
      "Warning: incorrect number of weights 44. Must be: 42. Set weights equal to 1.\n"
     ]
    },
    {
     "name": "stderr",
     "output_type": "stream",
     "text": [
      "  3%|██▏                                                                            | 137/4871 [00:39<24:20,  3.24it/s]"
     ]
    },
    {
     "name": "stdout",
     "output_type": "stream",
     "text": [
      "Warning: image_id test/0137.jpg submission_df index 0.4331has 1 bounding boxes. maybe \n",
      "Warning: incorrect number of weights 44. Must be: 43. Set weights equal to 1.\n"
     ]
    },
    {
     "name": "stderr",
     "output_type": "stream",
     "text": [
      "  3%|██▋                                                                            | 162/4871 [00:45<19:06,  4.11it/s]"
     ]
    },
    {
     "name": "stdout",
     "output_type": "stream",
     "text": [
      "Warning: image_id test/0161.jpg submission_df index 0.4331has 1 bounding boxes. maybe \n",
      "Warning: image_id test/0161.jpg submission_df index 0.4442has 1 bounding boxes. maybe \n",
      "Warning: incorrect number of weights 44. Must be: 42. Set weights equal to 1.\n"
     ]
    },
    {
     "name": "stderr",
     "output_type": "stream",
     "text": [
      "  4%|██▊                                                                            | 176/4871 [00:49<25:07,  3.11it/s]"
     ]
    },
    {
     "name": "stdout",
     "output_type": "stream",
     "text": [
      "Warning: image_id test/0176.jpg submission_df index 0.4442has 1 bounding boxes. maybe \n",
      "Warning: incorrect number of weights 44. Must be: 43. Set weights equal to 1.\n"
     ]
    },
    {
     "name": "stderr",
     "output_type": "stream",
     "text": [
      "  4%|██▉                                                                            | 181/4871 [00:51<26:29,  2.95it/s]"
     ]
    },
    {
     "name": "stdout",
     "output_type": "stream",
     "text": [
      "Warning: image_id test/0180.jpg submission_df index 0.4442has 1 bounding boxes. maybe \n",
      "Warning: incorrect number of weights 44. Must be: 43. Set weights equal to 1.\n"
     ]
    },
    {
     "name": "stderr",
     "output_type": "stream",
     "text": [
      "  4%|███                                                                            | 192/4871 [00:55<23:34,  3.31it/s]"
     ]
    },
    {
     "name": "stdout",
     "output_type": "stream",
     "text": [
      "Warning: image_id test/0191.jpg submission_df index 0.4331has 1 bounding boxes. maybe \n",
      "Warning: incorrect number of weights 44. Must be: 43. Set weights equal to 1.\n"
     ]
    },
    {
     "name": "stderr",
     "output_type": "stream",
     "text": [
      "  5%|███▊                                                                           | 233/4871 [01:06<22:07,  3.49it/s]"
     ]
    },
    {
     "name": "stdout",
     "output_type": "stream",
     "text": [
      "Warning: image_id test/0233.jpg submission_df index 0.4331has 1 bounding boxes. maybe \n",
      "Warning: incorrect number of weights 44. Must be: 43. Set weights equal to 1.\n"
     ]
    },
    {
     "name": "stderr",
     "output_type": "stream",
     "text": [
      "  5%|███▊                                                                           | 237/4871 [01:07<25:45,  3.00it/s]"
     ]
    },
    {
     "name": "stdout",
     "output_type": "stream",
     "text": [
      "Warning: image_id test/0237.jpg submission_df index 0.4331has 1 bounding boxes. maybe \n",
      "Warning: image_id test/0237.jpg submission_df index 0.4578has 1 bounding boxes. maybe \n",
      "Warning: incorrect number of weights 44. Must be: 42. Set weights equal to 1.\n"
     ]
    },
    {
     "name": "stderr",
     "output_type": "stream",
     "text": [
      "  5%|████                                                                           | 250/4871 [01:11<21:27,  3.59it/s]"
     ]
    },
    {
     "name": "stdout",
     "output_type": "stream",
     "text": [
      "Warning: image_id test/0249.jpg submission_df index 0.4331has 1 bounding boxes. maybe \n",
      "Warning: image_id test/0249.jpg submission_df index 0.4578has 1 bounding boxes. maybe \n",
      "Warning: incorrect number of weights 44. Must be: 42. Set weights equal to 1.\n"
     ]
    },
    {
     "name": "stderr",
     "output_type": "stream",
     "text": [
      "  5%|████                                                                           | 251/4871 [01:11<24:57,  3.09it/s]"
     ]
    },
    {
     "name": "stdout",
     "output_type": "stream",
     "text": [
      "Warning: image_id test/0251.jpg submission_df index 0.4442has 1 bounding boxes. maybe \n",
      "Warning: incorrect number of weights 44. Must be: 43. Set weights equal to 1.\n"
     ]
    },
    {
     "name": "stderr",
     "output_type": "stream",
     "text": [
      "  6%|████▍                                                                          | 277/4871 [01:19<20:53,  3.67it/s]"
     ]
    },
    {
     "name": "stdout",
     "output_type": "stream",
     "text": [
      "Warning: image_id test/0276.jpg submission_df index 0.4331has 1 bounding boxes. maybe \n",
      "Warning: image_id test/0276.jpg submission_df index 0.4442has 1 bounding boxes. maybe \n",
      "Warning: image_id test/0276.jpg submission_df index 0.4578has 1 bounding boxes. maybe \n",
      "Warning: incorrect number of weights 44. Must be: 41. Set weights equal to 1.\n"
     ]
    },
    {
     "name": "stderr",
     "output_type": "stream",
     "text": [
      "  6%|████▋                                                                          | 291/4871 [01:23<17:29,  4.36it/s]"
     ]
    },
    {
     "name": "stdout",
     "output_type": "stream",
     "text": [
      "Warning: image_id test/0290.jpg submission_df index 0.4331has 1 bounding boxes. maybe \n",
      "Warning: image_id test/0290.jpg submission_df index 0.4385has 1 bounding boxes. maybe \n",
      "Warning: incorrect number of weights 44. Must be: 42. Set weights equal to 1.\n"
     ]
    },
    {
     "name": "stderr",
     "output_type": "stream",
     "text": [
      "  8%|██████▌                                                                        | 402/4871 [01:55<18:56,  3.93it/s]"
     ]
    },
    {
     "name": "stdout",
     "output_type": "stream",
     "text": [
      "Warning: image_id test/0402.jpg submission_df index 0.4331has 1 bounding boxes. maybe \n",
      "Warning: image_id test/0402.jpg submission_df index 0.4578has 1 bounding boxes. maybe \n",
      "Warning: incorrect number of weights 44. Must be: 42. Set weights equal to 1.\n"
     ]
    },
    {
     "name": "stderr",
     "output_type": "stream",
     "text": [
      " 10%|███████▌                                                                       | 467/4871 [02:14<21:31,  3.41it/s]"
     ]
    },
    {
     "name": "stdout",
     "output_type": "stream",
     "text": [
      "Warning: image_id test/0466.jpg submission_df index 0.4331has 1 bounding boxes. maybe \n",
      "Warning: incorrect number of weights 44. Must be: 43. Set weights equal to 1.\n"
     ]
    },
    {
     "name": "stderr",
     "output_type": "stream",
     "text": [
      " 10%|███████▋                                                                       | 474/4871 [02:16<23:22,  3.13it/s]"
     ]
    },
    {
     "name": "stdout",
     "output_type": "stream",
     "text": [
      "Warning: image_id test/0474.jpg submission_df index 0.4331has 1 bounding boxes. maybe \n",
      "Warning: incorrect number of weights 44. Must be: 43. Set weights equal to 1.\n"
     ]
    },
    {
     "name": "stderr",
     "output_type": "stream",
     "text": [
      " 10%|███████▊                                                                       | 482/4871 [02:18<16:41,  4.38it/s]"
     ]
    },
    {
     "name": "stdout",
     "output_type": "stream",
     "text": [
      "Warning: image_id test/0482.jpg submission_df index 0.4578has 1 bounding boxes. maybe \n",
      "Warning: image_id test/0482.jpg submission_df index 0.5548has 1 bounding boxes. maybe \n",
      "Warning: incorrect number of weights 44. Must be: 42. Set weights equal to 1.\n"
     ]
    },
    {
     "name": "stderr",
     "output_type": "stream",
     "text": [
      " 10%|███████▉                                                                       | 486/4871 [02:19<15:20,  4.77it/s]"
     ]
    },
    {
     "name": "stdout",
     "output_type": "stream",
     "text": [
      "Warning: image_id test/0485.jpg submission_df index 0.4442has 1 bounding boxes. maybe \n",
      "Warning: incorrect number of weights 44. Must be: 43. Set weights equal to 1.\n"
     ]
    },
    {
     "name": "stderr",
     "output_type": "stream",
     "text": [
      " 11%|████████▋                                                                      | 533/4871 [02:32<24:28,  2.95it/s]"
     ]
    },
    {
     "name": "stdout",
     "output_type": "stream",
     "text": [
      "Warning: image_id test/0533.jpg submission_df index 0.4442has 1 bounding boxes. maybe \n",
      "Warning: incorrect number of weights 44. Must be: 43. Set weights equal to 1.\n"
     ]
    },
    {
     "name": "stderr",
     "output_type": "stream",
     "text": [
      " 11%|█████████                                                                      | 560/4871 [02:41<17:52,  4.02it/s]"
     ]
    },
    {
     "name": "stdout",
     "output_type": "stream",
     "text": [
      "Warning: image_id test/0559.jpg submission_df index 0.4331has 1 bounding boxes. maybe \n",
      "Warning: image_id test/0559.jpg submission_df index 0.4578has 1 bounding boxes. maybe \n",
      "Warning: incorrect number of weights 44. Must be: 42. Set weights equal to 1.\n"
     ]
    },
    {
     "name": "stderr",
     "output_type": "stream",
     "text": [
      " 13%|██████████▏                                                                    | 626/4871 [02:59<16:21,  4.33it/s]"
     ]
    },
    {
     "name": "stdout",
     "output_type": "stream",
     "text": [
      "Warning: image_id test/0626.jpg submission_df index 0.4442has 1 bounding boxes. maybe \n",
      "Warning: incorrect number of weights 44. Must be: 43. Set weights equal to 1.\n"
     ]
    },
    {
     "name": "stderr",
     "output_type": "stream",
     "text": [
      " 13%|██████████▍                                                                    | 640/4871 [03:04<22:21,  3.15it/s]"
     ]
    },
    {
     "name": "stdout",
     "output_type": "stream",
     "text": [
      "Warning: image_id test/0639.jpg submission_df index 0.4578has 1 bounding boxes. maybe \n",
      "Warning: incorrect number of weights 44. Must be: 43. Set weights equal to 1.\n"
     ]
    },
    {
     "name": "stderr",
     "output_type": "stream",
     "text": [
      " 13%|██████████▌                                                                    | 651/4871 [03:08<22:47,  3.09it/s]"
     ]
    },
    {
     "name": "stdout",
     "output_type": "stream",
     "text": [
      "Warning: image_id test/0650.jpg submission_df index 0.5548has 1 bounding boxes. maybe \n",
      "Warning: incorrect number of weights 44. Must be: 43. Set weights equal to 1.\n"
     ]
    },
    {
     "name": "stderr",
     "output_type": "stream",
     "text": [
      " 14%|███████████▎                                                                   | 696/4871 [03:20<14:34,  4.78it/s]"
     ]
    },
    {
     "name": "stdout",
     "output_type": "stream",
     "text": [
      "Warning: image_id test/0695.jpg submission_df index 0.4442has 1 bounding boxes. maybe \n",
      "Warning: incorrect number of weights 44. Must be: 43. Set weights equal to 1.\n"
     ]
    },
    {
     "name": "stderr",
     "output_type": "stream",
     "text": [
      " 15%|███████████▌                                                                   | 710/4871 [03:24<19:00,  3.65it/s]"
     ]
    },
    {
     "name": "stdout",
     "output_type": "stream",
     "text": [
      "Warning: image_id test/0709.jpg submission_df index 0.4331has 1 bounding boxes. maybe \n",
      "Warning: image_id test/0709.jpg submission_df index 0.449has 1 bounding boxes. maybe \n",
      "Warning: image_id test/0709.jpg submission_df index 0.4578has 1 bounding boxes. maybe \n",
      "Warning: incorrect number of weights 44. Must be: 41. Set weights equal to 1.\n"
     ]
    },
    {
     "name": "stderr",
     "output_type": "stream",
     "text": [
      " 15%|███████████▌                                                                   | 714/4871 [03:25<19:00,  3.64it/s]"
     ]
    },
    {
     "name": "stdout",
     "output_type": "stream",
     "text": [
      "Warning: image_id test/0713.jpg submission_df index 0.4331has 1 bounding boxes. maybe \n",
      "Warning: image_id test/0713.jpg submission_df index 0.4578has 1 bounding boxes. maybe \n",
      "Warning: incorrect number of weights 44. Must be: 42. Set weights equal to 1.\n"
     ]
    },
    {
     "name": "stderr",
     "output_type": "stream",
     "text": [
      " 15%|████████████▏                                                                  | 749/4871 [03:35<25:52,  2.66it/s]"
     ]
    },
    {
     "name": "stdout",
     "output_type": "stream",
     "text": [
      "Warning: image_id test/0749.jpg submission_df index 0.449has 1 bounding boxes. maybe \n",
      "Warning: incorrect number of weights 44. Must be: 43. Set weights equal to 1.\n"
     ]
    },
    {
     "name": "stderr",
     "output_type": "stream",
     "text": [
      " 16%|████████████▌                                                                  | 771/4871 [03:43<25:30,  2.68it/s]"
     ]
    },
    {
     "name": "stdout",
     "output_type": "stream",
     "text": [
      "Warning: image_id test/0771.jpg submission_df index 0.4442has 1 bounding boxes. maybe \n",
      "Warning: incorrect number of weights 44. Must be: 43. Set weights equal to 1.\n"
     ]
    },
    {
     "name": "stderr",
     "output_type": "stream",
     "text": [
      " 16%|████████████▋                                                                  | 782/4871 [03:47<28:01,  2.43it/s]"
     ]
    },
    {
     "name": "stdout",
     "output_type": "stream",
     "text": [
      "Warning: image_id test/0782.jpg submission_df index 0.4331has 1 bounding boxes. maybe \n",
      "Warning: incorrect number of weights 44. Must be: 43. Set weights equal to 1.\n"
     ]
    },
    {
     "name": "stderr",
     "output_type": "stream",
     "text": [
      " 16%|████████████▉                                                                  | 798/4871 [03:52<19:16,  3.52it/s]"
     ]
    },
    {
     "name": "stdout",
     "output_type": "stream",
     "text": [
      "Warning: image_id test/0797.jpg submission_df index 0.4578has 1 bounding boxes. maybe \n",
      "Warning: incorrect number of weights 44. Must be: 43. Set weights equal to 1.\n"
     ]
    },
    {
     "name": "stderr",
     "output_type": "stream",
     "text": [
      " 17%|█████████████▌                                                                 | 834/4871 [04:05<20:59,  3.20it/s]"
     ]
    },
    {
     "name": "stdout",
     "output_type": "stream",
     "text": [
      "Warning: image_id test/0834.jpg submission_df index 0.4442has 1 bounding boxes. maybe \n",
      "Warning: incorrect number of weights 44. Must be: 43. Set weights equal to 1.\n"
     ]
    },
    {
     "name": "stderr",
     "output_type": "stream",
     "text": [
      " 17%|█████████████▌                                                                 | 840/4871 [04:07<22:33,  2.98it/s]"
     ]
    },
    {
     "name": "stdout",
     "output_type": "stream",
     "text": [
      "Warning: image_id test/0840.jpg submission_df index 0.4331has 1 bounding boxes. maybe \n",
      "Warning: incorrect number of weights 44. Must be: 43. Set weights equal to 1.\n"
     ]
    },
    {
     "name": "stderr",
     "output_type": "stream",
     "text": [
      " 17%|█████████████▊                                                                 | 849/4871 [04:10<14:51,  4.51it/s]"
     ]
    },
    {
     "name": "stdout",
     "output_type": "stream",
     "text": [
      "Warning: image_id test/0849.jpg submission_df index 0.4331has 1 bounding boxes. maybe \n",
      "Warning: image_id test/0849.jpg submission_df index 0.4578has 1 bounding boxes. maybe \n",
      "Warning: incorrect number of weights 44. Must be: 42. Set weights equal to 1.\n"
     ]
    },
    {
     "name": "stderr",
     "output_type": "stream",
     "text": [
      " 18%|██████████████                                                                 | 870/4871 [04:16<21:02,  3.17it/s]"
     ]
    },
    {
     "name": "stdout",
     "output_type": "stream",
     "text": [
      "Warning: image_id test/0870.jpg submission_df index 0.4331has 1 bounding boxes. maybe \n",
      "Warning: image_id test/0870.jpg submission_df index 0.4442has 1 bounding boxes. maybe \n",
      "Warning: image_id test/0870.jpg submission_df index 0.4578has 1 bounding boxes. maybe \n",
      "Warning: incorrect number of weights 44. Must be: 41. Set weights equal to 1.\n"
     ]
    },
    {
     "name": "stderr",
     "output_type": "stream",
     "text": [
      " 18%|██████████████▎                                                                | 882/4871 [04:19<17:48,  3.73it/s]"
     ]
    },
    {
     "name": "stdout",
     "output_type": "stream",
     "text": [
      "Warning: image_id test/0882.jpg submission_df index 0.4331has 1 bounding boxes. maybe \n",
      "Warning: image_id test/0882.jpg submission_df index 0.4442has 1 bounding boxes. maybe \n",
      "Warning: image_id test/0882.jpg submission_df index 0.4578has 1 bounding boxes. maybe \n",
      "Warning: incorrect number of weights 44. Must be: 41. Set weights equal to 1.\n"
     ]
    },
    {
     "name": "stderr",
     "output_type": "stream",
     "text": [
      " 19%|███████████████▏                                                               | 934/4871 [04:34<18:14,  3.60it/s]"
     ]
    },
    {
     "name": "stdout",
     "output_type": "stream",
     "text": [
      "Warning: image_id test/0934.jpg submission_df index 0.4331has 1 bounding boxes. maybe \n",
      "Warning: image_id test/0934.jpg submission_df index 0.4442has 1 bounding boxes. maybe \n",
      "Warning: image_id test/0934.jpg submission_df index 0.4578has 1 bounding boxes. maybe \n",
      "Warning: incorrect number of weights 44. Must be: 41. Set weights equal to 1.\n"
     ]
    },
    {
     "name": "stderr",
     "output_type": "stream",
     "text": [
      " 19%|███████████████▏                                                               | 937/4871 [04:35<16:51,  3.89it/s]"
     ]
    },
    {
     "name": "stdout",
     "output_type": "stream",
     "text": [
      "Warning: image_id test/0936.jpg submission_df index 0.4331has 1 bounding boxes. maybe \n",
      "Warning: incorrect number of weights 44. Must be: 43. Set weights equal to 1.\n"
     ]
    },
    {
     "name": "stderr",
     "output_type": "stream",
     "text": [
      " 20%|███████████████▍                                                               | 953/4871 [04:40<17:59,  3.63it/s]"
     ]
    },
    {
     "name": "stdout",
     "output_type": "stream",
     "text": [
      "Warning: image_id test/0953.jpg submission_df index 0.4331has 1 bounding boxes. maybe \n",
      "Warning: incorrect number of weights 44. Must be: 43. Set weights equal to 1.\n"
     ]
    },
    {
     "name": "stderr",
     "output_type": "stream",
     "text": [
      " 20%|███████████████▊                                                               | 976/4871 [04:48<21:46,  2.98it/s]"
     ]
    },
    {
     "name": "stdout",
     "output_type": "stream",
     "text": [
      "Warning: image_id test/0976.jpg submission_df index 0.4331has 1 bounding boxes. maybe \n",
      "Warning: incorrect number of weights 44. Must be: 43. Set weights equal to 1.\n"
     ]
    },
    {
     "name": "stderr",
     "output_type": "stream",
     "text": [
      " 21%|████████████████                                                              | 1001/4871 [04:56<16:15,  3.97it/s]"
     ]
    },
    {
     "name": "stdout",
     "output_type": "stream",
     "text": [
      "Warning: image_id test/1001.jpg submission_df index 0.4578has 1 bounding boxes. maybe \n",
      "Warning: incorrect number of weights 44. Must be: 43. Set weights equal to 1.\n"
     ]
    },
    {
     "name": "stderr",
     "output_type": "stream",
     "text": [
      " 21%|████████████████▍                                                             | 1026/4871 [05:03<14:05,  4.55it/s]"
     ]
    },
    {
     "name": "stdout",
     "output_type": "stream",
     "text": [
      "Warning: image_id test/1026.jpg submission_df index 0.4331has 1 bounding boxes. maybe \n",
      "Warning: image_id test/1026.jpg submission_df index 0.4578has 1 bounding boxes. maybe \n",
      "Warning: incorrect number of weights 44. Must be: 42. Set weights equal to 1.\n"
     ]
    },
    {
     "name": "stderr",
     "output_type": "stream",
     "text": [
      " 22%|█████████████████▎                                                            | 1080/4871 [05:19<15:14,  4.15it/s]"
     ]
    },
    {
     "name": "stdout",
     "output_type": "stream",
     "text": [
      "Warning: image_id test/1080.jpg submission_df index 0.4331has 1 bounding boxes. maybe \n",
      "Warning: incorrect number of weights 44. Must be: 43. Set weights equal to 1.\n"
     ]
    },
    {
     "name": "stderr",
     "output_type": "stream",
     "text": [
      " 23%|█████████████████▉                                                            | 1118/4871 [05:30<13:03,  4.79it/s]"
     ]
    },
    {
     "name": "stdout",
     "output_type": "stream",
     "text": [
      "Warning: image_id test/1117.jpg submission_df index 0.4442has 1 bounding boxes. maybe \n",
      "Warning: incorrect number of weights 44. Must be: 43. Set weights equal to 1.\n"
     ]
    },
    {
     "name": "stderr",
     "output_type": "stream",
     "text": [
      " 23%|█████████████████▉                                                            | 1124/4871 [05:31<11:33,  5.40it/s]"
     ]
    },
    {
     "name": "stdout",
     "output_type": "stream",
     "text": [
      "Warning: image_id test/1123.jpg submission_df index 0.4578has 1 bounding boxes. maybe \n",
      "Warning: incorrect number of weights 44. Must be: 43. Set weights equal to 1.\n"
     ]
    },
    {
     "name": "stderr",
     "output_type": "stream",
     "text": [
      " 24%|██████████████████▎                                                           | 1146/4871 [05:38<16:41,  3.72it/s]"
     ]
    },
    {
     "name": "stdout",
     "output_type": "stream",
     "text": [
      "Warning: image_id test/1145.jpg submission_df index 0.4331has 1 bounding boxes. maybe \n",
      "Warning: incorrect number of weights 44. Must be: 43. Set weights equal to 1.\n"
     ]
    },
    {
     "name": "stderr",
     "output_type": "stream",
     "text": [
      " 24%|██████████████████▍                                                           | 1152/4871 [05:39<13:50,  4.48it/s]"
     ]
    },
    {
     "name": "stdout",
     "output_type": "stream",
     "text": [
      "Warning: image_id test/1152.jpg submission_df index 0.4331has 1 bounding boxes. maybe \n",
      "Warning: incorrect number of weights 44. Must be: 43. Set weights equal to 1.\n"
     ]
    },
    {
     "name": "stderr",
     "output_type": "stream",
     "text": [
      " 24%|██████████████████▋                                                           | 1169/4871 [05:43<16:35,  3.72it/s]"
     ]
    },
    {
     "name": "stdout",
     "output_type": "stream",
     "text": [
      "Warning: image_id test/1168.jpg submission_df index 0.4442has 1 bounding boxes. maybe \n",
      "Warning: incorrect number of weights 44. Must be: 43. Set weights equal to 1.\n"
     ]
    },
    {
     "name": "stderr",
     "output_type": "stream",
     "text": [
      " 24%|██████████████████▉                                                           | 1186/4871 [05:47<10:58,  5.60it/s]"
     ]
    },
    {
     "name": "stdout",
     "output_type": "stream",
     "text": [
      "Warning: image_id test/1185.jpg submission_df index 0.4442has 1 bounding boxes. maybe \n",
      "Warning: incorrect number of weights 44. Must be: 43. Set weights equal to 1.\n"
     ]
    },
    {
     "name": "stderr",
     "output_type": "stream",
     "text": [
      " 25%|███████████████████                                                           | 1194/4871 [05:49<14:20,  4.27it/s]"
     ]
    },
    {
     "name": "stdout",
     "output_type": "stream",
     "text": [
      "Warning: image_id test/1194.jpg submission_df index 0.4578has 1 bounding boxes. maybe \n",
      "Warning: incorrect number of weights 44. Must be: 43. Set weights equal to 1.\n"
     ]
    },
    {
     "name": "stderr",
     "output_type": "stream",
     "text": [
      " 25%|███████████████████▏                                                          | 1195/4871 [05:50<20:24,  3.00it/s]"
     ]
    },
    {
     "name": "stdout",
     "output_type": "stream",
     "text": [
      "Warning: image_id test/1195.jpg submission_df index 0.449has 1 bounding boxes. maybe \n",
      "Warning: image_id test/1195.jpg submission_df index 0.4578has 1 bounding boxes. maybe \n",
      "Warning: incorrect number of weights 44. Must be: 42. Set weights equal to 1.\n"
     ]
    },
    {
     "name": "stderr",
     "output_type": "stream",
     "text": [
      " 25%|███████████████████▎                                                          | 1208/4871 [05:53<18:55,  3.23it/s]"
     ]
    },
    {
     "name": "stdout",
     "output_type": "stream",
     "text": [
      "Warning: image_id test/1208.jpg submission_df index 0.4442has 1 bounding boxes. maybe \n",
      "Warning: image_id test/1208.jpg submission_df index 0.449has 1 bounding boxes. maybe \n",
      "Warning: incorrect number of weights 44. Must be: 42. Set weights equal to 1.\n"
     ]
    },
    {
     "name": "stderr",
     "output_type": "stream",
     "text": [
      " 25%|███████████████████▋                                                          | 1228/4871 [05:59<14:01,  4.33it/s]"
     ]
    },
    {
     "name": "stdout",
     "output_type": "stream",
     "text": [
      "Warning: image_id test/1228.jpg submission_df index 0.4331has 1 bounding boxes. maybe \n",
      "Warning: incorrect number of weights 44. Must be: 43. Set weights equal to 1.\n"
     ]
    },
    {
     "name": "stderr",
     "output_type": "stream",
     "text": [
      " 26%|████████████████████                                                          | 1256/4871 [06:07<12:59,  4.64it/s]"
     ]
    },
    {
     "name": "stdout",
     "output_type": "stream",
     "text": [
      "Warning: image_id test/1256.jpg submission_df index 0.4578has 1 bounding boxes. maybe \n",
      "Warning: incorrect number of weights 44. Must be: 43. Set weights equal to 1.\n"
     ]
    },
    {
     "name": "stderr",
     "output_type": "stream",
     "text": [
      " 26%|████████████████████▌                                                         | 1281/4871 [06:15<13:48,  4.33it/s]"
     ]
    },
    {
     "name": "stdout",
     "output_type": "stream",
     "text": [
      "Warning: image_id test/1281.jpg submission_df index 0.4331has 1 bounding boxes. maybe \n",
      "Warning: incorrect number of weights 44. Must be: 43. Set weights equal to 1.\n"
     ]
    },
    {
     "name": "stderr",
     "output_type": "stream",
     "text": [
      " 27%|████████████████████▋                                                         | 1292/4871 [06:17<13:52,  4.30it/s]"
     ]
    },
    {
     "name": "stdout",
     "output_type": "stream",
     "text": [
      "Warning: image_id test/1291.jpg submission_df index 0.4331has 1 bounding boxes. maybe \n",
      "Warning: image_id test/1291.jpg submission_df index 0.4385has 1 bounding boxes. maybe \n",
      "Warning: image_id test/1291.jpg submission_df index 0.4442has 1 bounding boxes. maybe \n",
      "Warning: image_id test/1291.jpg submission_df index 0.4578has 1 bounding boxes. maybe \n",
      "Warning: incorrect number of weights 44. Must be: 40. Set weights equal to 1.\n"
     ]
    },
    {
     "name": "stderr",
     "output_type": "stream",
     "text": [
      " 27%|████████████████████▊                                                         | 1296/4871 [06:18<15:58,  3.73it/s]"
     ]
    },
    {
     "name": "stdout",
     "output_type": "stream",
     "text": [
      "Warning: image_id test/1296.jpg submission_df index 0.4331has 1 bounding boxes. maybe \n",
      "Warning: incorrect number of weights 44. Must be: 43. Set weights equal to 1.\n"
     ]
    },
    {
     "name": "stderr",
     "output_type": "stream",
     "text": [
      " 27%|████████████████████▉                                                         | 1307/4871 [06:21<15:49,  3.75it/s]"
     ]
    },
    {
     "name": "stdout",
     "output_type": "stream",
     "text": [
      "Warning: image_id test/1306.jpg submission_df index 0.4578has 1 bounding boxes. maybe \n",
      "Warning: incorrect number of weights 44. Must be: 43. Set weights equal to 1.\n"
     ]
    },
    {
     "name": "stderr",
     "output_type": "stream",
     "text": [
      " 27%|█████████████████████                                                         | 1318/4871 [06:24<19:00,  3.11it/s]"
     ]
    },
    {
     "name": "stdout",
     "output_type": "stream",
     "text": [
      "Warning: image_id test/1318.jpg submission_df index 0.4442has 1 bounding boxes. maybe \n",
      "Warning: incorrect number of weights 44. Must be: 43. Set weights equal to 1.\n"
     ]
    },
    {
     "name": "stderr",
     "output_type": "stream",
     "text": [
      " 27%|█████████████████████▎                                                        | 1328/4871 [06:27<15:12,  3.88it/s]"
     ]
    },
    {
     "name": "stdout",
     "output_type": "stream",
     "text": [
      "Warning: image_id test/1328.jpg submission_df index 0.449has 1 bounding boxes. maybe \n",
      "Warning: incorrect number of weights 44. Must be: 43. Set weights equal to 1.\n"
     ]
    },
    {
     "name": "stderr",
     "output_type": "stream",
     "text": [
      " 27%|█████████████████████▎                                                        | 1332/4871 [06:28<18:47,  3.14it/s]"
     ]
    },
    {
     "name": "stdout",
     "output_type": "stream",
     "text": [
      "Warning: image_id test/1332.jpg submission_df index 0.4331has 1 bounding boxes. maybe \n",
      "Warning: image_id test/1332.jpg submission_df index 0.4442has 1 bounding boxes. maybe \n",
      "Warning: image_id test/1332.jpg submission_df index 0.4578has 1 bounding boxes. maybe \n",
      "Warning: incorrect number of weights 44. Must be: 41. Set weights equal to 1.\n"
     ]
    },
    {
     "name": "stderr",
     "output_type": "stream",
     "text": [
      " 29%|██████████████████████▎                                                       | 1390/4871 [06:45<16:35,  3.50it/s]"
     ]
    },
    {
     "name": "stdout",
     "output_type": "stream",
     "text": [
      "Warning: image_id test/1390.jpg submission_df index 0.4442has 1 bounding boxes. maybe \n",
      "Warning: incorrect number of weights 44. Must be: 43. Set weights equal to 1.\n"
     ]
    },
    {
     "name": "stderr",
     "output_type": "stream",
     "text": [
      " 29%|██████████████████████▌                                                       | 1412/4871 [06:52<15:21,  3.75it/s]"
     ]
    },
    {
     "name": "stdout",
     "output_type": "stream",
     "text": [
      "Warning: image_id test/1412.jpg submission_df index 0.4331has 1 bounding boxes. maybe \n",
      "Warning: incorrect number of weights 44. Must be: 43. Set weights equal to 1.\n"
     ]
    },
    {
     "name": "stderr",
     "output_type": "stream",
     "text": [
      " 29%|██████████████████████▋                                                       | 1415/4871 [06:52<12:52,  4.47it/s]"
     ]
    },
    {
     "name": "stdout",
     "output_type": "stream",
     "text": [
      "Warning: image_id test/1415.jpg submission_df index 0.4442has 1 bounding boxes. maybe \n",
      "Warning: incorrect number of weights 44. Must be: 43. Set weights equal to 1.\n"
     ]
    },
    {
     "name": "stderr",
     "output_type": "stream",
     "text": [
      " 29%|██████████████████████▊                                                       | 1427/4871 [06:56<16:48,  3.42it/s]"
     ]
    },
    {
     "name": "stdout",
     "output_type": "stream",
     "text": [
      "Warning: image_id test/1427.jpg submission_df index 0.4331has 1 bounding boxes. maybe \n",
      "Warning: incorrect number of weights 44. Must be: 43. Set weights equal to 1.\n"
     ]
    },
    {
     "name": "stderr",
     "output_type": "stream",
     "text": [
      " 30%|███████████████████████                                                       | 1440/4871 [07:00<15:17,  3.74it/s]"
     ]
    },
    {
     "name": "stdout",
     "output_type": "stream",
     "text": [
      "Warning: image_id test/1440.jpg submission_df index 0.4442has 1 bounding boxes. maybe \n",
      "Warning: image_id test/1440.jpg submission_df index 0.4578has 1 bounding boxes. maybe \n",
      "Warning: incorrect number of weights 44. Must be: 42. Set weights equal to 1.\n"
     ]
    },
    {
     "name": "stderr",
     "output_type": "stream",
     "text": [
      " 30%|███████████████████████▌                                                      | 1469/4871 [07:08<13:26,  4.22it/s]"
     ]
    },
    {
     "name": "stdout",
     "output_type": "stream",
     "text": [
      "Warning: image_id test/1468.jpg submission_df index 0.4331has 1 bounding boxes. maybe \n",
      "Warning: image_id test/1468.jpg submission_df index 0.4578has 1 bounding boxes. maybe \n",
      "Warning: incorrect number of weights 44. Must be: 42. Set weights equal to 1.\n"
     ]
    },
    {
     "name": "stderr",
     "output_type": "stream",
     "text": [
      " 30%|███████████████████████▌                                                      | 1470/4871 [07:08<13:39,  4.15it/s]"
     ]
    },
    {
     "name": "stdout",
     "output_type": "stream",
     "text": [
      "Warning: image_id test/1470.jpg submission_df index 0.4442has 1 bounding boxes. maybe \n",
      "Warning: incorrect number of weights 44. Must be: 43. Set weights equal to 1.\n"
     ]
    },
    {
     "name": "stderr",
     "output_type": "stream",
     "text": [
      " 30%|███████████████████████▌                                                      | 1473/4871 [07:08<11:32,  4.90it/s]"
     ]
    },
    {
     "name": "stdout",
     "output_type": "stream",
     "text": [
      "Warning: image_id test/1472.jpg submission_df index 0.4331has 1 bounding boxes. maybe \n",
      "Warning: image_id test/1472.jpg submission_df index 0.4442has 1 bounding boxes. maybe \n",
      "Warning: incorrect number of weights 44. Must be: 42. Set weights equal to 1.\n"
     ]
    },
    {
     "name": "stderr",
     "output_type": "stream",
     "text": [
      " 30%|███████████████████████▌                                                      | 1474/4871 [07:09<12:06,  4.67it/s]"
     ]
    },
    {
     "name": "stdout",
     "output_type": "stream",
     "text": [
      "Warning: image_id test/1474.jpg submission_df index 0.4385has 1 bounding boxes. maybe \n",
      "Warning: image_id test/1474.jpg submission_df index 0.449has 1 bounding boxes. maybe \n",
      "Warning: image_id test/1474.jpg submission_df index 0.4578has 1 bounding boxes. maybe \n",
      "Warning: image_id test/1474.jpg submission_df index 0.5548has 1 bounding boxes. maybe \n",
      "Warning: image_id test/1474.jpg submission_df index 0.5772has 1 bounding boxes. maybe \n",
      "Warning: incorrect number of weights 44. Must be: 39. Set weights equal to 1.\n"
     ]
    },
    {
     "name": "stderr",
     "output_type": "stream",
     "text": [
      " 31%|███████████████████████▉                                                      | 1497/4871 [07:15<20:02,  2.81it/s]"
     ]
    },
    {
     "name": "stdout",
     "output_type": "stream",
     "text": [
      "Warning: image_id test/1497.jpg submission_df index 0.4331has 1 bounding boxes. maybe \n",
      "Warning: image_id test/1497.jpg submission_df index 0.4385has 1 bounding boxes. maybe \n",
      "Warning: image_id test/1497.jpg submission_df index 0.4442has 1 bounding boxes. maybe \n",
      "Warning: image_id test/1497.jpg submission_df index 0.4578has 1 bounding boxes. maybe \n",
      "Warning: image_id test/1497.jpg submission_df index 0.5548has 1 bounding boxes. maybe \n",
      "Warning: incorrect number of weights 44. Must be: 39. Set weights equal to 1.\n"
     ]
    },
    {
     "name": "stderr",
     "output_type": "stream",
     "text": [
      " 31%|████████████████████████▎                                                     | 1516/4871 [07:21<14:20,  3.90it/s]"
     ]
    },
    {
     "name": "stdout",
     "output_type": "stream",
     "text": [
      "Warning: image_id test/1516.jpg submission_df index 0.4331has 1 bounding boxes. maybe \n",
      "Warning: incorrect number of weights 44. Must be: 43. Set weights equal to 1.\n"
     ]
    },
    {
     "name": "stderr",
     "output_type": "stream",
     "text": [
      " 31%|████████████████████████▍                                                     | 1529/4871 [07:24<12:47,  4.36it/s]"
     ]
    },
    {
     "name": "stdout",
     "output_type": "stream",
     "text": [
      "Warning: image_id test/1528.jpg submission_df index 0.3718has 1 bounding boxes. maybe \n",
      "Warning: image_id test/1528.jpg submission_df index 0.3968has 1 bounding boxes. maybe \n",
      "Warning: image_id test/1528.jpg submission_df index 0.4331has 1 bounding boxes. maybe \n",
      "Warning: image_id test/1528.jpg submission_df index 0.4385has 1 bounding boxes. maybe \n",
      "Warning: image_id test/1528.jpg submission_df index 0.4442has 1 bounding boxes. maybe \n",
      "Warning: image_id test/1528.jpg submission_df index 0.449has 1 bounding boxes. maybe \n",
      "Warning: image_id test/1528.jpg submission_df index 0.4578has 1 bounding boxes. maybe \n",
      "Warning: image_id test/1528.jpg submission_df index 0.5548has 1 bounding boxes. maybe \n",
      "Warning: image_id test/1528.jpg submission_df index 0.5772has 1 bounding boxes. maybe \n",
      "Warning: incorrect number of weights 44. Must be: 35. Set weights equal to 1.\n"
     ]
    },
    {
     "name": "stderr",
     "output_type": "stream",
     "text": [
      " 32%|█████████████████████████▏                                                    | 1572/4871 [07:36<13:54,  3.95it/s]"
     ]
    },
    {
     "name": "stdout",
     "output_type": "stream",
     "text": [
      "Warning: image_id test/1572.jpg submission_df index 0.4442has 1 bounding boxes. maybe \n",
      "Warning: incorrect number of weights 44. Must be: 43. Set weights equal to 1.\n"
     ]
    },
    {
     "name": "stderr",
     "output_type": "stream",
     "text": [
      " 32%|█████████████████████████▏                                                    | 1575/4871 [07:37<15:31,  3.54it/s]"
     ]
    },
    {
     "name": "stdout",
     "output_type": "stream",
     "text": [
      "Warning: image_id test/1575.jpg submission_df index 0.4578has 1 bounding boxes. maybe \n",
      "Warning: incorrect number of weights 44. Must be: 43. Set weights equal to 1.\n"
     ]
    },
    {
     "name": "stderr",
     "output_type": "stream",
     "text": [
      " 34%|██████████████████████████▎                                                   | 1642/4871 [07:55<14:07,  3.81it/s]"
     ]
    },
    {
     "name": "stdout",
     "output_type": "stream",
     "text": [
      "Warning: image_id test/1641.jpg submission_df index 0.4442has 1 bounding boxes. maybe \n",
      "Warning: incorrect number of weights 44. Must be: 43. Set weights equal to 1.\n",
      "Warning: image_id test/1642.jpg submission_df index 0.449has 1 bounding boxes. maybe \n",
      "Warning: incorrect number of weights 44. Must be: 43. Set weights equal to 1.\n"
     ]
    },
    {
     "name": "stderr",
     "output_type": "stream",
     "text": [
      " 34%|██████████████████████████▌                                                   | 1659/4871 [08:00<17:04,  3.13it/s]"
     ]
    },
    {
     "name": "stdout",
     "output_type": "stream",
     "text": [
      "Warning: image_id test/1658.jpg submission_df index 0.4442has 1 bounding boxes. maybe \n",
      "Warning: incorrect number of weights 44. Must be: 43. Set weights equal to 1.\n"
     ]
    },
    {
     "name": "stderr",
     "output_type": "stream",
     "text": [
      " 34%|██████████████████████████▊                                                   | 1677/4871 [08:04<14:20,  3.71it/s]"
     ]
    },
    {
     "name": "stdout",
     "output_type": "stream",
     "text": [
      "Warning: image_id test/1677.jpg submission_df index 0.4331has 1 bounding boxes. maybe \n",
      "Warning: image_id test/1677.jpg submission_df index 0.4442has 1 bounding boxes. maybe \n",
      "Warning: image_id test/1677.jpg submission_df index 0.4578has 1 bounding boxes. maybe \n",
      "Warning: incorrect number of weights 44. Must be: 41. Set weights equal to 1.\n"
     ]
    },
    {
     "name": "stderr",
     "output_type": "stream",
     "text": [
      " 35%|██████████████████████████▉                                                   | 1685/4871 [08:06<12:49,  4.14it/s]"
     ]
    },
    {
     "name": "stdout",
     "output_type": "stream",
     "text": [
      "Warning: image_id test/1685.jpg submission_df index 0.4442has 1 bounding boxes. maybe \n",
      "Warning: incorrect number of weights 44. Must be: 43. Set weights equal to 1.\n"
     ]
    },
    {
     "name": "stderr",
     "output_type": "stream",
     "text": [
      " 35%|███████████████████████████▏                                                  | 1695/4871 [08:09<12:01,  4.40it/s]"
     ]
    },
    {
     "name": "stdout",
     "output_type": "stream",
     "text": [
      "Warning: image_id test/1694.jpg submission_df index 0.4331has 1 bounding boxes. maybe \n",
      "Warning: incorrect number of weights 44. Must be: 43. Set weights equal to 1.\n"
     ]
    },
    {
     "name": "stderr",
     "output_type": "stream",
     "text": [
      " 36%|███████████████████████████▊                                                  | 1735/4871 [08:20<14:14,  3.67it/s]"
     ]
    },
    {
     "name": "stdout",
     "output_type": "stream",
     "text": [
      "Warning: image_id test/1735.jpg submission_df index 0.4331has 1 bounding boxes. maybe \n",
      "Warning: image_id test/1735.jpg submission_df index 0.4578has 1 bounding boxes. maybe \n",
      "Warning: incorrect number of weights 44. Must be: 42. Set weights equal to 1.\n"
     ]
    },
    {
     "name": "stderr",
     "output_type": "stream",
     "text": [
      " 36%|████████████████████████████                                                  | 1751/4871 [08:24<13:04,  3.98it/s]"
     ]
    },
    {
     "name": "stdout",
     "output_type": "stream",
     "text": [
      "Warning: image_id test/1750.jpg submission_df index 0.4442has 1 bounding boxes. maybe \n",
      "Warning: incorrect number of weights 44. Must be: 43. Set weights equal to 1.\n"
     ]
    },
    {
     "name": "stderr",
     "output_type": "stream",
     "text": [
      " 36%|████████████████████████████                                                  | 1754/4871 [08:25<13:35,  3.82it/s]"
     ]
    },
    {
     "name": "stdout",
     "output_type": "stream",
     "text": [
      "Warning: image_id test/1753.jpg submission_df index 0.4442has 1 bounding boxes. maybe \n",
      "Warning: incorrect number of weights 44. Must be: 43. Set weights equal to 1.\n"
     ]
    },
    {
     "name": "stderr",
     "output_type": "stream",
     "text": [
      " 36%|████████████████████████████▍                                                 | 1773/4871 [08:29<11:30,  4.49it/s]"
     ]
    },
    {
     "name": "stdout",
     "output_type": "stream",
     "text": [
      "Warning: image_id test/1772.jpg submission_df index 0.4331has 1 bounding boxes. maybe \n",
      "Warning: image_id test/1772.jpg submission_df index 0.4578has 1 bounding boxes. maybe \n",
      "Warning: incorrect number of weights 44. Must be: 42. Set weights equal to 1.\n"
     ]
    },
    {
     "name": "stderr",
     "output_type": "stream",
     "text": [
      " 38%|█████████████████████████████▍                                                | 1836/4871 [08:48<19:00,  2.66it/s]"
     ]
    },
    {
     "name": "stdout",
     "output_type": "stream",
     "text": [
      "Warning: image_id test/1836.jpg submission_df index 0.4578has 1 bounding boxes. maybe \n",
      "Warning: incorrect number of weights 44. Must be: 43. Set weights equal to 1.\n"
     ]
    },
    {
     "name": "stderr",
     "output_type": "stream",
     "text": [
      " 38%|█████████████████████████████▌                                                | 1845/4871 [08:51<15:03,  3.35it/s]"
     ]
    },
    {
     "name": "stdout",
     "output_type": "stream",
     "text": [
      "Warning: image_id test/1844.jpg submission_df index 0.4578has 1 bounding boxes. maybe \n",
      "Warning: incorrect number of weights 44. Must be: 43. Set weights equal to 1.\n"
     ]
    },
    {
     "name": "stderr",
     "output_type": "stream",
     "text": [
      " 38%|█████████████████████████████▉                                                | 1868/4871 [08:58<12:54,  3.88it/s]"
     ]
    },
    {
     "name": "stdout",
     "output_type": "stream",
     "text": [
      "Warning: image_id test/1868.jpg submission_df index 0.4331has 1 bounding boxes. maybe \n",
      "Warning: incorrect number of weights 44. Must be: 43. Set weights equal to 1.\n"
     ]
    },
    {
     "name": "stderr",
     "output_type": "stream",
     "text": [
      " 39%|██████████████████████████████▎                                               | 1890/4871 [09:04<16:10,  3.07it/s]"
     ]
    },
    {
     "name": "stdout",
     "output_type": "stream",
     "text": [
      "Warning: image_id test/1889.jpg submission_df index 0.449has 1 bounding boxes. maybe \n",
      "Warning: incorrect number of weights 44. Must be: 43. Set weights equal to 1.\n"
     ]
    },
    {
     "name": "stderr",
     "output_type": "stream",
     "text": [
      " 39%|██████████████████████████████▎                                               | 1894/4871 [09:05<10:34,  4.69it/s]"
     ]
    },
    {
     "name": "stdout",
     "output_type": "stream",
     "text": [
      "Warning: image_id test/1893.jpg submission_df index 0.4331has 1 bounding boxes. maybe \n",
      "Warning: image_id test/1893.jpg submission_df index 0.4442has 1 bounding boxes. maybe \n",
      "Warning: image_id test/1893.jpg submission_df index 0.4578has 1 bounding boxes. maybe \n",
      "Warning: incorrect number of weights 44. Must be: 41. Set weights equal to 1.\n"
     ]
    },
    {
     "name": "stderr",
     "output_type": "stream",
     "text": [
      " 40%|███████████████████████████████▏                                              | 1951/4871 [09:20<15:08,  3.21it/s]"
     ]
    },
    {
     "name": "stdout",
     "output_type": "stream",
     "text": [
      "Warning: image_id test/1950.jpg submission_df index 0.4331has 1 bounding boxes. maybe \n",
      "Warning: image_id test/1950.jpg submission_df index 0.4578has 1 bounding boxes. maybe \n",
      "Warning: incorrect number of weights 44. Must be: 42. Set weights equal to 1.\n"
     ]
    },
    {
     "name": "stderr",
     "output_type": "stream",
     "text": [
      " 40%|███████████████████████████████▎                                              | 1958/4871 [09:22<16:45,  2.90it/s]"
     ]
    },
    {
     "name": "stdout",
     "output_type": "stream",
     "text": [
      "Warning: image_id test/1958.jpg submission_df index 0.4331has 1 bounding boxes. maybe \n",
      "Warning: image_id test/1958.jpg submission_df index 0.4442has 1 bounding boxes. maybe \n",
      "Warning: incorrect number of weights 44. Must be: 42. Set weights equal to 1.\n"
     ]
    },
    {
     "name": "stderr",
     "output_type": "stream",
     "text": [
      " 40%|███████████████████████████████▎                                              | 1959/4871 [09:23<15:53,  3.05it/s]"
     ]
    },
    {
     "name": "stdout",
     "output_type": "stream",
     "text": [
      "Warning: image_id test/1959.jpg submission_df index 0.4331has 1 bounding boxes. maybe \n",
      "Warning: image_id test/1959.jpg submission_df index 0.4578has 1 bounding boxes. maybe \n",
      "Warning: incorrect number of weights 44. Must be: 42. Set weights equal to 1.\n"
     ]
    },
    {
     "name": "stderr",
     "output_type": "stream",
     "text": [
      " 40%|███████████████████████████████▍                                              | 1964/4871 [09:24<13:33,  3.57it/s]"
     ]
    },
    {
     "name": "stdout",
     "output_type": "stream",
     "text": [
      "Warning: image_id test/1964.jpg submission_df index 0.4331has 1 bounding boxes. maybe \n",
      "Warning: image_id test/1964.jpg submission_df index 0.4578has 1 bounding boxes. maybe \n",
      "Warning: incorrect number of weights 44. Must be: 42. Set weights equal to 1.\n"
     ]
    },
    {
     "name": "stderr",
     "output_type": "stream",
     "text": [
      " 41%|███████████████████████████████▌                                              | 1974/4871 [09:27<11:50,  4.08it/s]"
     ]
    },
    {
     "name": "stdout",
     "output_type": "stream",
     "text": [
      "Warning: image_id test/1974.jpg submission_df index 0.4578has 1 bounding boxes. maybe \n",
      "Warning: incorrect number of weights 44. Must be: 43. Set weights equal to 1.\n"
     ]
    },
    {
     "name": "stderr",
     "output_type": "stream",
     "text": [
      " 41%|███████████████████████████████▊                                              | 1989/4871 [09:30<11:15,  4.27it/s]"
     ]
    },
    {
     "name": "stdout",
     "output_type": "stream",
     "text": [
      "Warning: image_id test/1989.jpg submission_df index 0.4442has 1 bounding boxes. maybe \n",
      "Warning: incorrect number of weights 44. Must be: 43. Set weights equal to 1.\n"
     ]
    },
    {
     "name": "stderr",
     "output_type": "stream",
     "text": [
      " 42%|████████████████████████████████▌                                             | 2037/4871 [09:44<12:31,  3.77it/s]"
     ]
    },
    {
     "name": "stdout",
     "output_type": "stream",
     "text": [
      "Warning: image_id test/2037.jpg submission_df index 0.4331has 1 bounding boxes. maybe \n",
      "Warning: incorrect number of weights 44. Must be: 43. Set weights equal to 1.\n"
     ]
    },
    {
     "name": "stderr",
     "output_type": "stream",
     "text": [
      " 42%|████████████████████████████████▋                                             | 2041/4871 [09:45<10:11,  4.63it/s]"
     ]
    },
    {
     "name": "stdout",
     "output_type": "stream",
     "text": [
      "Warning: image_id test/2040.jpg submission_df index 0.4331has 1 bounding boxes. maybe \n",
      "Warning: incorrect number of weights 44. Must be: 43. Set weights equal to 1.\n"
     ]
    },
    {
     "name": "stderr",
     "output_type": "stream",
     "text": [
      " 42%|████████████████████████████████▊                                             | 2052/4871 [09:48<13:29,  3.48it/s]"
     ]
    },
    {
     "name": "stdout",
     "output_type": "stream",
     "text": [
      "Warning: image_id test/2052.jpg submission_df index 0.4331has 1 bounding boxes. maybe \n",
      "Warning: incorrect number of weights 44. Must be: 43. Set weights equal to 1.\n"
     ]
    },
    {
     "name": "stderr",
     "output_type": "stream",
     "text": [
      " 42%|█████████████████████████████████                                             | 2064/4871 [09:52<16:56,  2.76it/s]"
     ]
    },
    {
     "name": "stdout",
     "output_type": "stream",
     "text": [
      "Warning: image_id test/2064.jpg submission_df index 0.4331has 1 bounding boxes. maybe \n",
      "Warning: incorrect number of weights 44. Must be: 43. Set weights equal to 1.\n"
     ]
    },
    {
     "name": "stderr",
     "output_type": "stream",
     "text": [
      " 43%|█████████████████████████████████▎                                            | 2078/4871 [09:56<13:43,  3.39it/s]"
     ]
    },
    {
     "name": "stdout",
     "output_type": "stream",
     "text": [
      "Warning: image_id test/2078.jpg submission_df index 0.4331has 1 bounding boxes. maybe \n",
      "Warning: incorrect number of weights 44. Must be: 43. Set weights equal to 1.\n"
     ]
    },
    {
     "name": "stderr",
     "output_type": "stream",
     "text": [
      " 43%|█████████████████████████████████▎                                            | 2079/4871 [09:56<13:39,  3.41it/s]"
     ]
    },
    {
     "name": "stdout",
     "output_type": "stream",
     "text": [
      "Warning: image_id test/2079.jpg submission_df index 0.4442has 1 bounding boxes. maybe \n",
      "Warning: incorrect number of weights 44. Must be: 43. Set weights equal to 1.\n"
     ]
    },
    {
     "name": "stderr",
     "output_type": "stream",
     "text": [
      " 43%|█████████████████████████████████▍                                            | 2087/4871 [09:58<11:28,  4.04it/s]"
     ]
    },
    {
     "name": "stdout",
     "output_type": "stream",
     "text": [
      "Warning: image_id test/2087.jpg submission_df index 0.4442has 1 bounding boxes. maybe \n",
      "Warning: incorrect number of weights 44. Must be: 43. Set weights equal to 1.\n"
     ]
    },
    {
     "name": "stderr",
     "output_type": "stream",
     "text": [
      " 43%|█████████████████████████████████▋                                            | 2101/4871 [10:02<13:47,  3.35it/s]"
     ]
    },
    {
     "name": "stdout",
     "output_type": "stream",
     "text": [
      "Warning: image_id test/2101.jpg submission_df index 0.4331has 1 bounding boxes. maybe \n",
      "Warning: incorrect number of weights 44. Must be: 43. Set weights equal to 1.\n"
     ]
    },
    {
     "name": "stderr",
     "output_type": "stream",
     "text": [
      " 44%|█████████████████████████████████▉                                            | 2119/4871 [10:08<15:43,  2.92it/s]"
     ]
    },
    {
     "name": "stdout",
     "output_type": "stream",
     "text": [
      "Warning: image_id test/2119.jpg submission_df index 0.4578has 1 bounding boxes. maybe \n",
      "Warning: incorrect number of weights 44. Must be: 43. Set weights equal to 1.\n"
     ]
    },
    {
     "name": "stderr",
     "output_type": "stream",
     "text": [
      " 44%|█████████████████████████████████▉                                            | 2122/4871 [10:08<13:38,  3.36it/s]"
     ]
    },
    {
     "name": "stdout",
     "output_type": "stream",
     "text": [
      "Warning: image_id test/2122.jpg submission_df index 0.4385has 1 bounding boxes. maybe \n",
      "Warning: incorrect number of weights 44. Must be: 43. Set weights equal to 1.\n"
     ]
    },
    {
     "name": "stderr",
     "output_type": "stream",
     "text": [
      " 44%|██████████████████████████████████▏                                           | 2137/4871 [10:12<10:49,  4.21it/s]"
     ]
    },
    {
     "name": "stdout",
     "output_type": "stream",
     "text": [
      "Warning: image_id test/2137.jpg submission_df index 0.5772has 1 bounding boxes. maybe \n",
      "Warning: incorrect number of weights 44. Must be: 43. Set weights equal to 1.\n"
     ]
    },
    {
     "name": "stderr",
     "output_type": "stream",
     "text": [
      " 44%|██████████████████████████████████▍                                           | 2150/4871 [10:16<15:59,  2.84it/s]"
     ]
    },
    {
     "name": "stdout",
     "output_type": "stream",
     "text": [
      "Warning: image_id test/2150.jpg submission_df index 0.4331has 1 bounding boxes. maybe \n",
      "Warning: image_id test/2150.jpg submission_df index 0.4385has 1 bounding boxes. maybe \n",
      "Warning: image_id test/2150.jpg submission_df index 0.4442has 1 bounding boxes. maybe \n",
      "Warning: image_id test/2150.jpg submission_df index 0.4578has 1 bounding boxes. maybe \n",
      "Warning: image_id test/2150.jpg submission_df index 0.5548has 1 bounding boxes. maybe \n",
      "Warning: incorrect number of weights 44. Must be: 39. Set weights equal to 1.\n"
     ]
    },
    {
     "name": "stderr",
     "output_type": "stream",
     "text": [
      " 44%|██████████████████████████████████▌                                           | 2162/4871 [10:19<13:05,  3.45it/s]"
     ]
    },
    {
     "name": "stdout",
     "output_type": "stream",
     "text": [
      "Warning: image_id test/2161.jpg submission_df index 0.4331has 1 bounding boxes. maybe \n",
      "Warning: incorrect number of weights 44. Must be: 43. Set weights equal to 1.\n",
      "Warning: image_id test/2162.jpg submission_df index 0.4331has 1 bounding boxes. maybe \n",
      "Warning: image_id test/2162.jpg submission_df index 0.4578has 1 bounding boxes. maybe \n",
      "Warning: incorrect number of weights 44. Must be: 42. Set weights equal to 1.\n"
     ]
    },
    {
     "name": "stderr",
     "output_type": "stream",
     "text": [
      " 45%|██████████████████████████████████▋                                           | 2169/4871 [10:22<12:04,  3.73it/s]"
     ]
    },
    {
     "name": "stdout",
     "output_type": "stream",
     "text": [
      "Warning: image_id test/2168.jpg submission_df index 0.4442has 1 bounding boxes. maybe \n",
      "Warning: incorrect number of weights 44. Must be: 43. Set weights equal to 1.\n"
     ]
    },
    {
     "name": "stderr",
     "output_type": "stream",
     "text": [
      " 45%|██████████████████████████████████▉                                           | 2180/4871 [10:25<12:07,  3.70it/s]"
     ]
    },
    {
     "name": "stdout",
     "output_type": "stream",
     "text": [
      "Warning: image_id test/2179.jpg submission_df index 0.4331has 1 bounding boxes. maybe \n",
      "Warning: image_id test/2179.jpg submission_df index 0.4578has 1 bounding boxes. maybe \n",
      "Warning: incorrect number of weights 44. Must be: 42. Set weights equal to 1.\n"
     ]
    },
    {
     "name": "stderr",
     "output_type": "stream",
     "text": [
      " 45%|███████████████████████████████████▏                                          | 2200/4871 [10:31<11:40,  3.81it/s]"
     ]
    },
    {
     "name": "stdout",
     "output_type": "stream",
     "text": [
      "Warning: image_id test/2200.jpg submission_df index 0.4331has 1 bounding boxes. maybe \n",
      "Warning: image_id test/2200.jpg submission_df index 0.4578has 1 bounding boxes. maybe \n",
      "Warning: incorrect number of weights 44. Must be: 42. Set weights equal to 1.\n"
     ]
    },
    {
     "name": "stderr",
     "output_type": "stream",
     "text": [
      " 46%|███████████████████████████████████▉                                          | 2241/4871 [10:43<14:52,  2.95it/s]"
     ]
    },
    {
     "name": "stdout",
     "output_type": "stream",
     "text": [
      "Warning: image_id test/2241.jpg submission_df index 0.4331has 1 bounding boxes. maybe \n",
      "Warning: incorrect number of weights 44. Must be: 43. Set weights equal to 1.\n"
     ]
    },
    {
     "name": "stderr",
     "output_type": "stream",
     "text": [
      " 46%|███████████████████████████████████▉                                          | 2242/4871 [10:44<15:39,  2.80it/s]"
     ]
    },
    {
     "name": "stdout",
     "output_type": "stream",
     "text": [
      "Warning: image_id test/2242.jpg submission_df index 0.4331has 1 bounding boxes. maybe \n",
      "Warning: incorrect number of weights 44. Must be: 43. Set weights equal to 1.\n"
     ]
    },
    {
     "name": "stderr",
     "output_type": "stream",
     "text": [
      " 46%|███████████████████████████████████▉                                          | 2245/4871 [10:44<13:26,  3.26it/s]"
     ]
    },
    {
     "name": "stdout",
     "output_type": "stream",
     "text": [
      "Warning: image_id test/2245.jpg submission_df index 0.4331has 1 bounding boxes. maybe \n",
      "Warning: incorrect number of weights 44. Must be: 43. Set weights equal to 1.\n"
     ]
    },
    {
     "name": "stderr",
     "output_type": "stream",
     "text": [
      " 47%|████████████████████████████████████▎                                         | 2267/4871 [10:51<09:57,  4.36it/s]"
     ]
    },
    {
     "name": "stdout",
     "output_type": "stream",
     "text": [
      "Warning: image_id test/2266.jpg submission_df index 0.4442has 1 bounding boxes. maybe \n",
      "Warning: incorrect number of weights 44. Must be: 43. Set weights equal to 1.\n"
     ]
    },
    {
     "name": "stderr",
     "output_type": "stream",
     "text": [
      " 47%|████████████████████████████████████▌                                         | 2284/4871 [10:55<10:17,  4.19it/s]"
     ]
    },
    {
     "name": "stdout",
     "output_type": "stream",
     "text": [
      "Warning: image_id test/2283.jpg submission_df index 0.4442has 1 bounding boxes. maybe \n",
      "Warning: incorrect number of weights 44. Must be: 43. Set weights equal to 1.\n"
     ]
    },
    {
     "name": "stderr",
     "output_type": "stream",
     "text": [
      " 47%|████████████████████████████████████▌                                         | 2286/4871 [10:56<09:23,  4.59it/s]"
     ]
    },
    {
     "name": "stdout",
     "output_type": "stream",
     "text": [
      "Warning: image_id test/2285.jpg submission_df index 0.5548has 1 bounding boxes. maybe \n",
      "Warning: incorrect number of weights 44. Must be: 43. Set weights equal to 1.\n"
     ]
    },
    {
     "name": "stderr",
     "output_type": "stream",
     "text": [
      " 48%|█████████████████████████████████████▋                                        | 2353/4871 [11:15<08:40,  4.84it/s]"
     ]
    },
    {
     "name": "stdout",
     "output_type": "stream",
     "text": [
      "Warning: image_id test/2352.jpg submission_df index 0.4226has 1 bounding boxes. maybe \n",
      "Warning: image_id test/2352.jpg submission_df index 0.4331has 1 bounding boxes. maybe \n",
      "Warning: image_id test/2352.jpg submission_df index 0.4442has 1 bounding boxes. maybe \n",
      "Warning: incorrect number of weights 44. Must be: 41. Set weights equal to 1.\n"
     ]
    },
    {
     "name": "stderr",
     "output_type": "stream",
     "text": [
      " 49%|██████████████████████████████████████▏                                       | 2388/4871 [11:25<11:45,  3.52it/s]"
     ]
    },
    {
     "name": "stdout",
     "output_type": "stream",
     "text": [
      "Warning: image_id test/2388.jpg submission_df index 0.4331has 1 bounding boxes. maybe \n",
      "Warning: image_id test/2388.jpg submission_df index 0.4442has 1 bounding boxes. maybe \n",
      "Warning: image_id test/2388.jpg submission_df index 0.4578has 1 bounding boxes. maybe \n",
      "Warning: incorrect number of weights 44. Must be: 41. Set weights equal to 1.\n"
     ]
    },
    {
     "name": "stderr",
     "output_type": "stream",
     "text": [
      " 49%|██████████████████████████████████████▌                                       | 2408/4871 [11:31<11:29,  3.57it/s]"
     ]
    },
    {
     "name": "stdout",
     "output_type": "stream",
     "text": [
      "Warning: image_id test/2407.jpg submission_df index 0.449has 1 bounding boxes. maybe \n",
      "Warning: image_id test/2407.jpg submission_df index 0.4578has 1 bounding boxes. maybe \n",
      "Warning: incorrect number of weights 44. Must be: 42. Set weights equal to 1.\n"
     ]
    },
    {
     "name": "stderr",
     "output_type": "stream",
     "text": [
      " 50%|██████████████████████████████████████▉                                       | 2428/4871 [11:36<09:07,  4.47it/s]"
     ]
    },
    {
     "name": "stdout",
     "output_type": "stream",
     "text": [
      "Warning: image_id test/2427.jpg submission_df index 0.4331has 1 bounding boxes. maybe \n",
      "Warning: image_id test/2427.jpg submission_df index 0.4578has 1 bounding boxes. maybe \n",
      "Warning: incorrect number of weights 44. Must be: 42. Set weights equal to 1.\n"
     ]
    },
    {
     "name": "stderr",
     "output_type": "stream",
     "text": [
      " 51%|███████████████████████████████████████▋                                      | 2476/4871 [11:50<12:17,  3.25it/s]"
     ]
    },
    {
     "name": "stdout",
     "output_type": "stream",
     "text": [
      "Warning: image_id test/2476.jpg submission_df index 0.4442has 1 bounding boxes. maybe \n",
      "Warning: incorrect number of weights 44. Must be: 43. Set weights equal to 1.\n"
     ]
    },
    {
     "name": "stderr",
     "output_type": "stream",
     "text": [
      " 51%|███████████████████████████████████████▊                                      | 2486/4871 [11:54<14:24,  2.76it/s]"
     ]
    },
    {
     "name": "stdout",
     "output_type": "stream",
     "text": [
      "Warning: image_id test/2486.jpg submission_df index 0.4442has 1 bounding boxes. maybe \n",
      "Warning: incorrect number of weights 44. Must be: 43. Set weights equal to 1.\n"
     ]
    },
    {
     "name": "stderr",
     "output_type": "stream",
     "text": [
      " 51%|███████████████████████████████████████▉                                      | 2496/4871 [11:57<11:05,  3.57it/s]"
     ]
    },
    {
     "name": "stdout",
     "output_type": "stream",
     "text": [
      "Warning: image_id test/2495.jpg submission_df index 0.4578has 1 bounding boxes. maybe \n",
      "Warning: incorrect number of weights 44. Must be: 43. Set weights equal to 1.\n"
     ]
    },
    {
     "name": "stderr",
     "output_type": "stream",
     "text": [
      " 52%|████████████████████████████████████████▏                                     | 2509/4871 [12:01<12:16,  3.21it/s]"
     ]
    },
    {
     "name": "stdout",
     "output_type": "stream",
     "text": [
      "Warning: image_id test/2508.jpg submission_df index 0.4331has 1 bounding boxes. maybe \n",
      "Warning: image_id test/2508.jpg submission_df index 0.4578has 1 bounding boxes. maybe \n",
      "Warning: incorrect number of weights 44. Must be: 42. Set weights equal to 1.\n"
     ]
    },
    {
     "name": "stderr",
     "output_type": "stream",
     "text": [
      " 52%|████████████████████████████████████████▉                                     | 2554/4871 [12:14<11:09,  3.46it/s]"
     ]
    },
    {
     "name": "stdout",
     "output_type": "stream",
     "text": [
      "Warning: image_id test/2554.jpg submission_df index 0.4331has 1 bounding boxes. maybe \n",
      "Warning: incorrect number of weights 44. Must be: 43. Set weights equal to 1.\n"
     ]
    },
    {
     "name": "stderr",
     "output_type": "stream",
     "text": [
      " 53%|█████████████████████████████████████████▍                                    | 2587/4871 [12:23<07:51,  4.85it/s]"
     ]
    },
    {
     "name": "stdout",
     "output_type": "stream",
     "text": [
      "Warning: image_id test/2587.jpg submission_df index 0.4331has 1 bounding boxes. maybe \n",
      "Warning: incorrect number of weights 44. Must be: 43. Set weights equal to 1.\n"
     ]
    },
    {
     "name": "stderr",
     "output_type": "stream",
     "text": [
      " 53%|█████████████████████████████████████████▍                                    | 2590/4871 [12:24<12:29,  3.04it/s]"
     ]
    },
    {
     "name": "stdout",
     "output_type": "stream",
     "text": [
      "Warning: image_id test/2590.jpg submission_df index 0.4331has 1 bounding boxes. maybe \n",
      "Warning: image_id test/2590.jpg submission_df index 0.4442has 1 bounding boxes. maybe \n",
      "Warning: image_id test/2590.jpg submission_df index 0.4578has 1 bounding boxes. maybe \n",
      "Warning: incorrect number of weights 44. Must be: 41. Set weights equal to 1.\n"
     ]
    },
    {
     "name": "stderr",
     "output_type": "stream",
     "text": [
      " 53%|█████████████████████████████████████████▋                                    | 2602/4871 [12:27<07:33,  5.00it/s]"
     ]
    },
    {
     "name": "stdout",
     "output_type": "stream",
     "text": [
      "Warning: image_id test/2602.jpg submission_df index 0.4442has 1 bounding boxes. maybe \n",
      "Warning: incorrect number of weights 44. Must be: 43. Set weights equal to 1.\n"
     ]
    },
    {
     "name": "stderr",
     "output_type": "stream",
     "text": [
      " 54%|██████████████████████████████████████████▏                                   | 2634/4871 [12:36<10:31,  3.54it/s]"
     ]
    },
    {
     "name": "stdout",
     "output_type": "stream",
     "text": [
      "Warning: image_id test/2633.jpg submission_df index 0.4331has 1 bounding boxes. maybe \n",
      "Warning: incorrect number of weights 44. Must be: 43. Set weights equal to 1.\n"
     ]
    },
    {
     "name": "stderr",
     "output_type": "stream",
     "text": [
      " 54%|██████████████████████████████████████████▍                                   | 2647/4871 [12:40<10:35,  3.50it/s]"
     ]
    },
    {
     "name": "stdout",
     "output_type": "stream",
     "text": [
      "Warning: image_id test/2646.jpg submission_df index 0.4442has 1 bounding boxes. maybe \n",
      "Warning: incorrect number of weights 44. Must be: 43. Set weights equal to 1.\n"
     ]
    },
    {
     "name": "stderr",
     "output_type": "stream",
     "text": [
      " 55%|███████████████████████████████████████████                                   | 2691/4871 [12:51<08:16,  4.39it/s]"
     ]
    },
    {
     "name": "stdout",
     "output_type": "stream",
     "text": [
      "Warning: image_id test/2690.jpg submission_df index 0.4331has 1 bounding boxes. maybe \n",
      "Warning: incorrect number of weights 44. Must be: 43. Set weights equal to 1.\n"
     ]
    },
    {
     "name": "stderr",
     "output_type": "stream",
     "text": [
      " 55%|███████████████████████████████████████████▎                                  | 2703/4871 [12:54<10:12,  3.54it/s]"
     ]
    },
    {
     "name": "stdout",
     "output_type": "stream",
     "text": [
      "Warning: image_id test/2703.jpg submission_df index 0.4331has 1 bounding boxes. maybe \n",
      "Warning: incorrect number of weights 44. Must be: 43. Set weights equal to 1.\n"
     ]
    },
    {
     "name": "stderr",
     "output_type": "stream",
     "text": [
      " 56%|███████████████████████████████████████████▎                                  | 2708/4871 [12:55<08:37,  4.18it/s]"
     ]
    },
    {
     "name": "stdout",
     "output_type": "stream",
     "text": [
      "Warning: image_id test/2707.jpg submission_df index 0.4578has 1 bounding boxes. maybe \n",
      "Warning: incorrect number of weights 44. Must be: 43. Set weights equal to 1.\n",
      "Warning: image_id test/2708.jpg submission_df index 0.4442has 1 bounding boxes. maybe \n",
      "Warning: incorrect number of weights 44. Must be: 43. Set weights equal to 1.\n"
     ]
    },
    {
     "name": "stderr",
     "output_type": "stream",
     "text": [
      " 56%|███████████████████████████████████████████▌                                  | 2717/4871 [12:58<09:24,  3.82it/s]"
     ]
    },
    {
     "name": "stdout",
     "output_type": "stream",
     "text": [
      "Warning: image_id test/2716.jpg submission_df index 0.4442has 1 bounding boxes. maybe \n",
      "Warning: incorrect number of weights 44. Must be: 43. Set weights equal to 1.\n"
     ]
    },
    {
     "name": "stderr",
     "output_type": "stream",
     "text": [
      " 57%|████████████████████████████████████████████                                  | 2754/4871 [13:09<08:47,  4.01it/s]"
     ]
    },
    {
     "name": "stdout",
     "output_type": "stream",
     "text": [
      "Warning: image_id test/2754.jpg submission_df index 0.4442has 1 bounding boxes. maybe \n",
      "Warning: incorrect number of weights 44. Must be: 43. Set weights equal to 1.\n"
     ]
    },
    {
     "name": "stderr",
     "output_type": "stream",
     "text": [
      " 57%|████████████████████████████████████████████▏                                 | 2756/4871 [13:09<07:59,  4.41it/s]"
     ]
    },
    {
     "name": "stdout",
     "output_type": "stream",
     "text": [
      "Warning: image_id test/2755.jpg submission_df index 0.4331has 1 bounding boxes. maybe \n",
      "Warning: incorrect number of weights 44. Must be: 43. Set weights equal to 1.\n"
     ]
    },
    {
     "name": "stderr",
     "output_type": "stream",
     "text": [
      " 57%|████████████████████████████████████████████▏                                 | 2758/4871 [13:10<07:43,  4.56it/s]"
     ]
    },
    {
     "name": "stdout",
     "output_type": "stream",
     "text": [
      "Warning: image_id test/2758.jpg submission_df index 0.4331has 1 bounding boxes. maybe \n",
      "Warning: image_id test/2758.jpg submission_df index 0.6153has 1 bounding boxes. maybe \n",
      "Warning: incorrect number of weights 44. Must be: 42. Set weights equal to 1.\n"
     ]
    },
    {
     "name": "stderr",
     "output_type": "stream",
     "text": [
      " 57%|████████████████████████████████████████████▊                                 | 2797/4871 [13:22<11:40,  2.96it/s]"
     ]
    },
    {
     "name": "stdout",
     "output_type": "stream",
     "text": [
      "Warning: image_id test/2797.jpg submission_df index 0.449has 1 bounding boxes. maybe \n",
      "Warning: incorrect number of weights 44. Must be: 43. Set weights equal to 1.\n"
     ]
    },
    {
     "name": "stderr",
     "output_type": "stream",
     "text": [
      " 58%|████████████████████████████████████████████▊                                 | 2802/4871 [13:23<06:48,  5.07it/s]"
     ]
    },
    {
     "name": "stdout",
     "output_type": "stream",
     "text": [
      "Warning: image_id test/2801.jpg submission_df index 0.4442has 1 bounding boxes. maybe \n",
      "Warning: incorrect number of weights 44. Must be: 43. Set weights equal to 1.\n"
     ]
    },
    {
     "name": "stderr",
     "output_type": "stream",
     "text": [
      " 58%|█████████████████████████████████████████████                                 | 2816/4871 [13:27<10:20,  3.31it/s]"
     ]
    },
    {
     "name": "stdout",
     "output_type": "stream",
     "text": [
      "Warning: image_id test/2816.jpg submission_df index 0.4331has 1 bounding boxes. maybe \n",
      "Warning: image_id test/2816.jpg submission_df index 0.4578has 1 bounding boxes. maybe \n",
      "Warning: incorrect number of weights 44. Must be: 42. Set weights equal to 1.\n"
     ]
    },
    {
     "name": "stderr",
     "output_type": "stream",
     "text": [
      " 58%|█████████████████████████████████████████████▎                                | 2831/4871 [13:32<08:28,  4.01it/s]"
     ]
    },
    {
     "name": "stdout",
     "output_type": "stream",
     "text": [
      "Warning: image_id test/2830.jpg submission_df index 0.4442has 1 bounding boxes. maybe \n",
      "Warning: incorrect number of weights 44. Must be: 43. Set weights equal to 1.\n"
     ]
    },
    {
     "name": "stderr",
     "output_type": "stream",
     "text": [
      " 59%|█████████████████████████████████████████████▋                                | 2853/4871 [13:37<07:49,  4.30it/s]"
     ]
    },
    {
     "name": "stdout",
     "output_type": "stream",
     "text": [
      "Warning: image_id test/2853.jpg submission_df index 0.4578has 1 bounding boxes. maybe \n",
      "Warning: incorrect number of weights 44. Must be: 43. Set weights equal to 1.\n"
     ]
    },
    {
     "name": "stderr",
     "output_type": "stream",
     "text": [
      " 59%|█████████████████████████████████████████████▋                                | 2855/4871 [13:38<07:37,  4.40it/s]"
     ]
    },
    {
     "name": "stdout",
     "output_type": "stream",
     "text": [
      "Warning: image_id test/2855.jpg submission_df index 0.4442has 1 bounding boxes. maybe \n",
      "Warning: incorrect number of weights 44. Must be: 43. Set weights equal to 1.\n"
     ]
    },
    {
     "name": "stderr",
     "output_type": "stream",
     "text": [
      " 59%|██████████████████████████████████████████████▏                               | 2886/4871 [13:46<07:30,  4.41it/s]"
     ]
    },
    {
     "name": "stdout",
     "output_type": "stream",
     "text": [
      "Warning: image_id test/2885.jpg submission_df index 0.4442has 1 bounding boxes. maybe \n",
      "Warning: incorrect number of weights 44. Must be: 43. Set weights equal to 1.\n"
     ]
    },
    {
     "name": "stderr",
     "output_type": "stream",
     "text": [
      " 60%|██████████████████████████████████████████████▌                               | 2910/4871 [13:52<07:50,  4.16it/s]"
     ]
    },
    {
     "name": "stdout",
     "output_type": "stream",
     "text": [
      "Warning: image_id test/2910.jpg submission_df index 0.4331has 1 bounding boxes. maybe \n",
      "Warning: incorrect number of weights 44. Must be: 43. Set weights equal to 1.\n"
     ]
    },
    {
     "name": "stderr",
     "output_type": "stream",
     "text": [
      " 60%|██████████████████████████████████████████████▋                               | 2919/4871 [13:56<12:40,  2.57it/s]"
     ]
    },
    {
     "name": "stdout",
     "output_type": "stream",
     "text": [
      "Warning: image_id test/2919.jpg submission_df index 0.449has 1 bounding boxes. maybe \n",
      "Warning: incorrect number of weights 44. Must be: 43. Set weights equal to 1.\n"
     ]
    },
    {
     "name": "stderr",
     "output_type": "stream",
     "text": [
      " 60%|██████████████████████████████████████████████▊                               | 2922/4871 [13:57<17:49,  1.82it/s]"
     ]
    },
    {
     "name": "stdout",
     "output_type": "stream",
     "text": [
      "Warning: image_id test/2922.jpg submission_df index 0.4578has 1 bounding boxes. maybe \n",
      "Warning: incorrect number of weights 44. Must be: 43. Set weights equal to 1.\n"
     ]
    },
    {
     "name": "stderr",
     "output_type": "stream",
     "text": [
      " 61%|███████████████████████████████████████████████▏                              | 2950/4871 [14:16<07:12,  4.44it/s]"
     ]
    },
    {
     "name": "stdout",
     "output_type": "stream",
     "text": [
      "Warning: image_id test/2949.jpg submission_df index 0.4331has 1 bounding boxes. maybe \n",
      "Warning: image_id test/2949.jpg submission_df index 0.4442has 1 bounding boxes. maybe \n",
      "Warning: image_id test/2949.jpg submission_df index 0.449has 1 bounding boxes. maybe \n",
      "Warning: incorrect number of weights 44. Must be: 41. Set weights equal to 1.\n"
     ]
    },
    {
     "name": "stderr",
     "output_type": "stream",
     "text": [
      " 61%|███████████████████████████████████████████████▎                              | 2954/4871 [14:18<08:15,  3.87it/s]"
     ]
    },
    {
     "name": "stdout",
     "output_type": "stream",
     "text": [
      "Warning: image_id test/2953.jpg submission_df index 0.4442has 1 bounding boxes. maybe \n",
      "Warning: incorrect number of weights 44. Must be: 43. Set weights equal to 1.\n"
     ]
    },
    {
     "name": "stderr",
     "output_type": "stream",
     "text": [
      " 61%|███████████████████████████████████████████████▊                              | 2983/4871 [14:26<07:30,  4.19it/s]"
     ]
    },
    {
     "name": "stdout",
     "output_type": "stream",
     "text": [
      "Warning: image_id test/2983.jpg submission_df index 0.4331has 1 bounding boxes. maybe \n",
      "Warning: image_id test/2983.jpg submission_df index 0.4442has 1 bounding boxes. maybe \n",
      "Warning: incorrect number of weights 44. Must be: 42. Set weights equal to 1.\n"
     ]
    },
    {
     "name": "stderr",
     "output_type": "stream",
     "text": [
      " 61%|███████████████████████████████████████████████▉                              | 2993/4871 [14:28<07:21,  4.26it/s]"
     ]
    },
    {
     "name": "stdout",
     "output_type": "stream",
     "text": [
      "Warning: image_id test/2992.jpg submission_df index 0.5548has 1 bounding boxes. maybe \n",
      "Warning: incorrect number of weights 44. Must be: 43. Set weights equal to 1.\n"
     ]
    },
    {
     "name": "stderr",
     "output_type": "stream",
     "text": [
      " 62%|████████████████████████████████████████████████                              | 3004/4871 [14:31<07:45,  4.01it/s]"
     ]
    },
    {
     "name": "stdout",
     "output_type": "stream",
     "text": [
      "Warning: image_id test/3003.jpg submission_df index 0.4331has 1 bounding boxes. maybe \n",
      "Warning: image_id test/3003.jpg submission_df index 0.4442has 1 bounding boxes. maybe \n",
      "Warning: incorrect number of weights 44. Must be: 42. Set weights equal to 1.\n"
     ]
    },
    {
     "name": "stderr",
     "output_type": "stream",
     "text": [
      " 62%|████████████████████████████████████████████████▋                             | 3039/4871 [14:41<09:54,  3.08it/s]"
     ]
    },
    {
     "name": "stdout",
     "output_type": "stream",
     "text": [
      "Warning: image_id test/3039.jpg submission_df index 0.4442has 1 bounding boxes. maybe \n",
      "Warning: incorrect number of weights 44. Must be: 43. Set weights equal to 1.\n"
     ]
    },
    {
     "name": "stderr",
     "output_type": "stream",
     "text": [
      " 63%|████████████████████████████████████████████████▊                             | 3049/4871 [14:44<07:28,  4.06it/s]"
     ]
    },
    {
     "name": "stdout",
     "output_type": "stream",
     "text": [
      "Warning: image_id test/3048.jpg submission_df index 0.4331has 1 bounding boxes. maybe \n",
      "Warning: image_id test/3048.jpg submission_df index 0.4578has 1 bounding boxes. maybe \n",
      "Warning: incorrect number of weights 44. Must be: 42. Set weights equal to 1.\n"
     ]
    },
    {
     "name": "stderr",
     "output_type": "stream",
     "text": [
      " 63%|█████████████████████████████████████████████████▍                            | 3086/4871 [14:54<06:46,  4.39it/s]"
     ]
    },
    {
     "name": "stdout",
     "output_type": "stream",
     "text": [
      "Warning: image_id test/3085.jpg submission_df index 0.4331has 1 bounding boxes. maybe \n",
      "Warning: image_id test/3085.jpg submission_df index 0.4578has 1 bounding boxes. maybe \n",
      "Warning: incorrect number of weights 44. Must be: 42. Set weights equal to 1.\n"
     ]
    },
    {
     "name": "stderr",
     "output_type": "stream",
     "text": [
      " 63%|█████████████████████████████████████████████████▍                            | 3090/4871 [14:55<05:43,  5.19it/s]"
     ]
    },
    {
     "name": "stdout",
     "output_type": "stream",
     "text": [
      "Warning: image_id test/3089.jpg submission_df index 0.4331has 1 bounding boxes. maybe \n",
      "Warning: image_id test/3089.jpg submission_df index 0.4578has 1 bounding boxes. maybe \n",
      "Warning: incorrect number of weights 44. Must be: 42. Set weights equal to 1.\n"
     ]
    },
    {
     "name": "stderr",
     "output_type": "stream",
     "text": [
      " 64%|██████████████████████████████████████████████████▏                           | 3131/4871 [15:06<06:16,  4.63it/s]"
     ]
    },
    {
     "name": "stdout",
     "output_type": "stream",
     "text": [
      "Warning: image_id test/3130.jpg submission_df index 0.4331has 1 bounding boxes. maybe \n",
      "Warning: incorrect number of weights 44. Must be: 43. Set weights equal to 1.\n"
     ]
    },
    {
     "name": "stderr",
     "output_type": "stream",
     "text": [
      " 65%|██████████████████████████████████████████████████▌                           | 3160/4871 [15:13<06:17,  4.53it/s]"
     ]
    },
    {
     "name": "stdout",
     "output_type": "stream",
     "text": [
      "Warning: image_id test/3160.jpg submission_df index 0.4331has 1 bounding boxes. maybe \n",
      "Warning: image_id test/3160.jpg submission_df index 0.4442has 1 bounding boxes. maybe \n",
      "Warning: image_id test/3160.jpg submission_df index 0.4578has 1 bounding boxes. maybe \n",
      "Warning: incorrect number of weights 44. Must be: 41. Set weights equal to 1.\n"
     ]
    },
    {
     "name": "stderr",
     "output_type": "stream",
     "text": [
      " 65%|███████████████████████████████████████████████████                           | 3186/4871 [15:21<08:19,  3.37it/s]"
     ]
    },
    {
     "name": "stdout",
     "output_type": "stream",
     "text": [
      "Warning: image_id test/3185.jpg submission_df index 0.4442has 1 bounding boxes. maybe \n",
      "Warning: incorrect number of weights 44. Must be: 43. Set weights equal to 1.\n"
     ]
    },
    {
     "name": "stderr",
     "output_type": "stream",
     "text": [
      " 66%|███████████████████████████████████████████████████▌                          | 3221/4871 [15:31<06:03,  4.54it/s]"
     ]
    },
    {
     "name": "stdout",
     "output_type": "stream",
     "text": [
      "Warning: image_id test/3221.jpg submission_df index 0.4442has 1 bounding boxes. maybe \n",
      "Warning: incorrect number of weights 44. Must be: 43. Set weights equal to 1.\n"
     ]
    },
    {
     "name": "stderr",
     "output_type": "stream",
     "text": [
      " 67%|████████████████████████████████████████████████████                          | 3252/4871 [15:40<07:05,  3.80it/s]"
     ]
    },
    {
     "name": "stdout",
     "output_type": "stream",
     "text": [
      "Warning: image_id test/3252.jpg submission_df index 0.4331has 1 bounding boxes. maybe \n",
      "Warning: image_id test/3252.jpg submission_df index 0.4578has 1 bounding boxes. maybe \n",
      "Warning: incorrect number of weights 44. Must be: 42. Set weights equal to 1.\n"
     ]
    },
    {
     "name": "stderr",
     "output_type": "stream",
     "text": [
      " 67%|████████████████████████████████████████████████████▎                         | 3267/4871 [15:44<06:26,  4.15it/s]"
     ]
    },
    {
     "name": "stdout",
     "output_type": "stream",
     "text": [
      "Warning: image_id test/3266.jpg submission_df index 0.4331has 1 bounding boxes. maybe \n",
      "Warning: image_id test/3266.jpg submission_df index 0.5548has 1 bounding boxes. maybe \n",
      "Warning: incorrect number of weights 44. Must be: 42. Set weights equal to 1.\n"
     ]
    },
    {
     "name": "stderr",
     "output_type": "stream",
     "text": [
      " 67%|████████████████████████████████████████████████████▌                         | 3283/4871 [15:49<06:37,  3.99it/s]"
     ]
    },
    {
     "name": "stdout",
     "output_type": "stream",
     "text": [
      "Warning: image_id test/3282.jpg submission_df index 0.449has 1 bounding boxes. maybe \n",
      "Warning: incorrect number of weights 44. Must be: 43. Set weights equal to 1.\n"
     ]
    },
    {
     "name": "stderr",
     "output_type": "stream",
     "text": [
      " 69%|█████████████████████████████████████████████████████▍                        | 3341/4871 [16:05<05:45,  4.42it/s]"
     ]
    },
    {
     "name": "stdout",
     "output_type": "stream",
     "text": [
      "Warning: image_id test/3340.jpg submission_df index 0.4331has 1 bounding boxes. maybe \n",
      "Warning: incorrect number of weights 44. Must be: 43. Set weights equal to 1.\n"
     ]
    },
    {
     "name": "stderr",
     "output_type": "stream",
     "text": [
      " 69%|█████████████████████████████████████████████████████▌                        | 3346/4871 [16:06<08:19,  3.05it/s]"
     ]
    },
    {
     "name": "stdout",
     "output_type": "stream",
     "text": [
      "Warning: image_id test/3346.jpg submission_df index 0.4578has 1 bounding boxes. maybe \n",
      "Warning: incorrect number of weights 44. Must be: 43. Set weights equal to 1.\n"
     ]
    },
    {
     "name": "stderr",
     "output_type": "stream",
     "text": [
      " 69%|█████████████████████████████████████████████████████▋                        | 3353/4871 [16:08<04:55,  5.13it/s]"
     ]
    },
    {
     "name": "stdout",
     "output_type": "stream",
     "text": [
      "Warning: image_id test/3353.jpg submission_df index 0.4442has 1 bounding boxes. maybe \n",
      "Warning: incorrect number of weights 44. Must be: 43. Set weights equal to 1.\n"
     ]
    },
    {
     "name": "stderr",
     "output_type": "stream",
     "text": [
      " 69%|█████████████████████████████████████████████████████▊                        | 3358/4871 [16:09<07:06,  3.55it/s]"
     ]
    },
    {
     "name": "stdout",
     "output_type": "stream",
     "text": [
      "Warning: image_id test/3358.jpg submission_df index 0.4331has 1 bounding boxes. maybe \n",
      "Warning: image_id test/3358.jpg submission_df index 0.4442has 1 bounding boxes. maybe \n",
      "Warning: incorrect number of weights 44. Must be: 42. Set weights equal to 1.\n"
     ]
    },
    {
     "name": "stderr",
     "output_type": "stream",
     "text": [
      " 69%|█████████████████████████████████████████████████████▉                        | 3368/4871 [16:12<05:24,  4.64it/s]"
     ]
    },
    {
     "name": "stdout",
     "output_type": "stream",
     "text": [
      "Warning: image_id test/3368.jpg submission_df index 0.4442has 1 bounding boxes. maybe \n",
      "Warning: incorrect number of weights 44. Must be: 43. Set weights equal to 1.\n"
     ]
    },
    {
     "name": "stderr",
     "output_type": "stream",
     "text": [
      " 69%|█████████████████████████████████████████████████████▉                        | 3372/4871 [16:13<06:24,  3.90it/s]"
     ]
    },
    {
     "name": "stdout",
     "output_type": "stream",
     "text": [
      "Warning: image_id test/3372.jpg submission_df index 0.4331has 1 bounding boxes. maybe \n",
      "Warning: incorrect number of weights 44. Must be: 43. Set weights equal to 1.\n"
     ]
    },
    {
     "name": "stderr",
     "output_type": "stream",
     "text": [
      " 70%|██████████████████████████████████████████████████████▏                       | 3386/4871 [16:17<06:16,  3.94it/s]"
     ]
    },
    {
     "name": "stdout",
     "output_type": "stream",
     "text": [
      "Warning: image_id test/3385.jpg submission_df index 0.4331has 1 bounding boxes. maybe \n",
      "Warning: image_id test/3385.jpg submission_df index 0.4578has 1 bounding boxes. maybe \n",
      "Warning: incorrect number of weights 44. Must be: 42. Set weights equal to 1.\n"
     ]
    },
    {
     "name": "stderr",
     "output_type": "stream",
     "text": [
      " 70%|██████████████████████████████████████████████████████▎                       | 3390/4871 [16:18<06:01,  4.09it/s]"
     ]
    },
    {
     "name": "stdout",
     "output_type": "stream",
     "text": [
      "Warning: image_id test/3389.jpg submission_df index 0.4331has 1 bounding boxes. maybe \n",
      "Warning: image_id test/3389.jpg submission_df index 0.4385has 1 bounding boxes. maybe \n",
      "Warning: image_id test/3389.jpg submission_df index 0.4442has 1 bounding boxes. maybe \n",
      "Warning: image_id test/3389.jpg submission_df index 0.4578has 1 bounding boxes. maybe \n",
      "Warning: incorrect number of weights 44. Must be: 40. Set weights equal to 1.\n"
     ]
    },
    {
     "name": "stderr",
     "output_type": "stream",
     "text": [
      " 71%|███████████████████████████████████████████████████████                       | 3438/4871 [16:31<05:12,  4.59it/s]"
     ]
    },
    {
     "name": "stdout",
     "output_type": "stream",
     "text": [
      "Warning: image_id test/3437.jpg submission_df index 0.4442has 1 bounding boxes. maybe \n",
      "Warning: incorrect number of weights 44. Must be: 43. Set weights equal to 1.\n"
     ]
    },
    {
     "name": "stderr",
     "output_type": "stream",
     "text": [
      " 72%|████████████████████████████████████████████████████████▍                     | 3527/4871 [16:55<05:40,  3.94it/s]"
     ]
    },
    {
     "name": "stdout",
     "output_type": "stream",
     "text": [
      "Warning: image_id test/3527.jpg submission_df index 0.4578has 1 bounding boxes. maybe \n",
      "Warning: incorrect number of weights 44. Must be: 43. Set weights equal to 1.\n"
     ]
    },
    {
     "name": "stderr",
     "output_type": "stream",
     "text": [
      " 73%|████████████████████████████████████████████████████████▊                     | 3551/4871 [17:02<05:11,  4.23it/s]"
     ]
    },
    {
     "name": "stdout",
     "output_type": "stream",
     "text": [
      "Warning: image_id test/3550.jpg submission_df index 0.4331has 1 bounding boxes. maybe \n",
      "Warning: image_id test/3550.jpg submission_df index 0.4578has 1 bounding boxes. maybe \n",
      "Warning: incorrect number of weights 44. Must be: 42. Set weights equal to 1.\n",
      "Warning: image_id test/3551.jpg submission_df index 0.449has 1 bounding boxes. maybe \n",
      "Warning: incorrect number of weights 44. Must be: 43. Set weights equal to 1.\n"
     ]
    },
    {
     "name": "stderr",
     "output_type": "stream",
     "text": [
      " 73%|█████████████████████████████████████████████████████████                     | 3560/4871 [17:04<05:03,  4.33it/s]"
     ]
    },
    {
     "name": "stdout",
     "output_type": "stream",
     "text": [
      "Warning: image_id test/3559.jpg submission_df index 0.4331has 1 bounding boxes. maybe \n",
      "Warning: image_id test/3559.jpg submission_df index 0.4578has 1 bounding boxes. maybe \n",
      "Warning: incorrect number of weights 44. Must be: 42. Set weights equal to 1.\n"
     ]
    },
    {
     "name": "stderr",
     "output_type": "stream",
     "text": [
      " 73%|█████████████████████████████████████████████████████████                     | 3562/4871 [17:05<04:19,  5.04it/s]"
     ]
    },
    {
     "name": "stdout",
     "output_type": "stream",
     "text": [
      "Warning: image_id test/3561.jpg submission_df index 0.4578has 1 bounding boxes. maybe \n",
      "Warning: incorrect number of weights 44. Must be: 43. Set weights equal to 1.\n"
     ]
    },
    {
     "name": "stderr",
     "output_type": "stream",
     "text": [
      " 74%|█████████████████████████████████████████████████████████▉                    | 3615/4871 [17:19<05:02,  4.15it/s]"
     ]
    },
    {
     "name": "stdout",
     "output_type": "stream",
     "text": [
      "Warning: image_id test/3614.jpg submission_df index 0.4442has 1 bounding boxes. maybe \n",
      "Warning: incorrect number of weights 44. Must be: 43. Set weights equal to 1.\n"
     ]
    },
    {
     "name": "stderr",
     "output_type": "stream",
     "text": [
      " 75%|██████████████████████████████████████████████████████████▏                   | 3630/4871 [17:23<05:03,  4.08it/s]"
     ]
    },
    {
     "name": "stdout",
     "output_type": "stream",
     "text": [
      "Warning: image_id test/3629.jpg submission_df index 0.4331has 1 bounding boxes. maybe \n",
      "Warning: incorrect number of weights 44. Must be: 43. Set weights equal to 1.\n"
     ]
    },
    {
     "name": "stderr",
     "output_type": "stream",
     "text": [
      " 75%|██████████████████████████████████████████████████████████▋                   | 3664/4871 [17:33<04:43,  4.26it/s]"
     ]
    },
    {
     "name": "stdout",
     "output_type": "stream",
     "text": [
      "Warning: image_id test/3664.jpg submission_df index 0.4442has 1 bounding boxes. maybe \n",
      "Warning: image_id test/3664.jpg submission_df index 0.4578has 1 bounding boxes. maybe \n",
      "Warning: incorrect number of weights 44. Must be: 42. Set weights equal to 1.\n"
     ]
    },
    {
     "name": "stderr",
     "output_type": "stream",
     "text": [
      " 75%|██████████████████████████████████████████████████████████▋                   | 3665/4871 [17:33<05:35,  3.59it/s]"
     ]
    },
    {
     "name": "stdout",
     "output_type": "stream",
     "text": [
      "Warning: image_id test/3665.jpg submission_df index 0.4331has 1 bounding boxes. maybe \n",
      "Warning: image_id test/3665.jpg submission_df index 0.4578has 1 bounding boxes. maybe \n",
      "Warning: incorrect number of weights 44. Must be: 42. Set weights equal to 1.\n"
     ]
    },
    {
     "name": "stderr",
     "output_type": "stream",
     "text": [
      " 76%|███████████████████████████████████████████████████████████                   | 3691/4871 [17:41<04:45,  4.13it/s]"
     ]
    },
    {
     "name": "stdout",
     "output_type": "stream",
     "text": [
      "Warning: image_id test/3691.jpg submission_df index 0.4578has 1 bounding boxes. maybe \n",
      "Warning: incorrect number of weights 44. Must be: 43. Set weights equal to 1.\n"
     ]
    },
    {
     "name": "stderr",
     "output_type": "stream",
     "text": [
      " 77%|███████████████████████████████████████████████████████████▋                  | 3730/4871 [17:51<04:09,  4.57it/s]"
     ]
    },
    {
     "name": "stdout",
     "output_type": "stream",
     "text": [
      "Warning: image_id test/3729.jpg submission_df index 0.4442has 1 bounding boxes. maybe \n",
      "Warning: incorrect number of weights 44. Must be: 43. Set weights equal to 1.\n"
     ]
    },
    {
     "name": "stderr",
     "output_type": "stream",
     "text": [
      " 77%|███████████████████████████████████████████████████████████▉                  | 3741/4871 [17:55<05:47,  3.25it/s]"
     ]
    },
    {
     "name": "stdout",
     "output_type": "stream",
     "text": [
      "Warning: image_id test/3741.jpg submission_df index 0.4331has 1 bounding boxes. maybe \n",
      "Warning: image_id test/3741.jpg submission_df index 0.4442has 1 bounding boxes. maybe \n",
      "Warning: image_id test/3741.jpg submission_df index 0.449has 1 bounding boxes. maybe \n",
      "Warning: image_id test/3741.jpg submission_df index 0.4578has 1 bounding boxes. maybe \n",
      "Warning: incorrect number of weights 44. Must be: 40. Set weights equal to 1.\n"
     ]
    },
    {
     "name": "stderr",
     "output_type": "stream",
     "text": [
      " 78%|████████████████████████████████████████████████████████████▌                 | 3779/4871 [18:05<04:32,  4.01it/s]"
     ]
    },
    {
     "name": "stdout",
     "output_type": "stream",
     "text": [
      "Warning: image_id test/3779.jpg submission_df index 0.4331has 1 bounding boxes. maybe \n",
      "Warning: image_id test/3779.jpg submission_df index 0.4442has 1 bounding boxes. maybe \n",
      "Warning: image_id test/3779.jpg submission_df index 0.4578has 1 bounding boxes. maybe \n",
      "Warning: incorrect number of weights 44. Must be: 41. Set weights equal to 1.\n"
     ]
    },
    {
     "name": "stderr",
     "output_type": "stream",
     "text": [
      " 78%|████████████████████████████████████████████████████████████▉                 | 3809/4871 [18:13<05:34,  3.17it/s]"
     ]
    },
    {
     "name": "stdout",
     "output_type": "stream",
     "text": [
      "Warning: image_id test/3809.jpg submission_df index 0.4331has 1 bounding boxes. maybe \n",
      "Warning: incorrect number of weights 44. Must be: 43. Set weights equal to 1.\n"
     ]
    },
    {
     "name": "stderr",
     "output_type": "stream",
     "text": [
      " 78%|█████████████████████████████████████████████████████████████                 | 3815/4871 [18:15<04:37,  3.81it/s]"
     ]
    },
    {
     "name": "stdout",
     "output_type": "stream",
     "text": [
      "Warning: image_id test/3815.jpg submission_df index 0.449has 1 bounding boxes. maybe \n",
      "Warning: incorrect number of weights 44. Must be: 43. Set weights equal to 1.\n"
     ]
    },
    {
     "name": "stderr",
     "output_type": "stream",
     "text": [
      " 78%|█████████████████████████████████████████████████████████████▏                | 3823/4871 [18:17<04:42,  3.72it/s]"
     ]
    },
    {
     "name": "stdout",
     "output_type": "stream",
     "text": [
      "Warning: image_id test/3823.jpg submission_df index 0.4331has 1 bounding boxes. maybe \n",
      "Warning: image_id test/3823.jpg submission_df index 0.4578has 1 bounding boxes. maybe \n",
      "Warning: incorrect number of weights 44. Must be: 42. Set weights equal to 1.\n"
     ]
    },
    {
     "name": "stderr",
     "output_type": "stream",
     "text": [
      " 80%|██████████████████████████████████████████████████████████████▌               | 3905/4871 [18:41<04:19,  3.72it/s]"
     ]
    },
    {
     "name": "stdout",
     "output_type": "stream",
     "text": [
      "Warning: image_id test/3905.jpg submission_df index 0.4578has 1 bounding boxes. maybe \n",
      "Warning: incorrect number of weights 44. Must be: 43. Set weights equal to 1.\n"
     ]
    },
    {
     "name": "stderr",
     "output_type": "stream",
     "text": [
      " 80%|██████████████████████████████████████████████████████████████▊               | 3919/4871 [18:45<03:29,  4.55it/s]"
     ]
    },
    {
     "name": "stdout",
     "output_type": "stream",
     "text": [
      "Warning: image_id test/3918.jpg submission_df index 0.4578has 1 bounding boxes. maybe \n",
      "Warning: incorrect number of weights 44. Must be: 43. Set weights equal to 1.\n",
      "Warning: image_id test/3919.jpg submission_df index 0.4442has 1 bounding boxes. maybe \n",
      "Warning: incorrect number of weights 44. Must be: 43. Set weights equal to 1.\n"
     ]
    },
    {
     "name": "stderr",
     "output_type": "stream",
     "text": [
      " 82%|████████████████████████████████████████████████████████████████▎             | 4017/4871 [19:12<04:03,  3.50it/s]"
     ]
    },
    {
     "name": "stdout",
     "output_type": "stream",
     "text": [
      "Warning: image_id test/4017.jpg submission_df index 0.4442has 1 bounding boxes. maybe \n",
      "Warning: incorrect number of weights 44. Must be: 43. Set weights equal to 1.\n"
     ]
    },
    {
     "name": "stderr",
     "output_type": "stream",
     "text": [
      " 83%|████████████████████████████████████████████████████████████████▌             | 4034/4871 [19:16<03:14,  4.30it/s]"
     ]
    },
    {
     "name": "stdout",
     "output_type": "stream",
     "text": [
      "Warning: image_id test/4033.jpg submission_df index 0.4578has 1 bounding boxes. maybe \n",
      "Warning: incorrect number of weights 44. Must be: 43. Set weights equal to 1.\n"
     ]
    },
    {
     "name": "stderr",
     "output_type": "stream",
     "text": [
      " 83%|████████████████████████████████████████████████████████████████▊             | 4051/4871 [19:22<04:04,  3.36it/s]"
     ]
    },
    {
     "name": "stdout",
     "output_type": "stream",
     "text": [
      "Warning: image_id test/4051.jpg submission_df index 0.4331has 1 bounding boxes. maybe \n",
      "Warning: image_id test/4051.jpg submission_df index 0.4442has 1 bounding boxes. maybe \n",
      "Warning: image_id test/4051.jpg submission_df index 0.449has 1 bounding boxes. maybe \n",
      "Warning: image_id test/4051.jpg submission_df index 0.4578has 1 bounding boxes. maybe \n",
      "Warning: incorrect number of weights 44. Must be: 40. Set weights equal to 1.\n"
     ]
    },
    {
     "name": "stderr",
     "output_type": "stream",
     "text": [
      " 84%|█████████████████████████████████████████████████████████████████▍            | 4089/4871 [19:33<03:33,  3.66it/s]"
     ]
    },
    {
     "name": "stdout",
     "output_type": "stream",
     "text": [
      "Warning: image_id test/4089.jpg submission_df index 0.4442has 1 bounding boxes. maybe \n",
      "Warning: incorrect number of weights 44. Must be: 43. Set weights equal to 1.\n"
     ]
    },
    {
     "name": "stderr",
     "output_type": "stream",
     "text": [
      " 85%|██████████████████████████████████████████████████████████████████▍           | 4146/4871 [19:50<03:00,  4.02it/s]"
     ]
    },
    {
     "name": "stdout",
     "output_type": "stream",
     "text": [
      "Warning: image_id test/4145.jpg submission_df index 0.4331has 1 bounding boxes. maybe \n",
      "Warning: incorrect number of weights 44. Must be: 43. Set weights equal to 1.\n"
     ]
    },
    {
     "name": "stderr",
     "output_type": "stream",
     "text": [
      " 86%|███████████████████████████████████████████████████████████████████▎          | 4200/4871 [20:05<03:25,  3.26it/s]"
     ]
    },
    {
     "name": "stdout",
     "output_type": "stream",
     "text": [
      "Warning: image_id test/4200.jpg submission_df index 0.4331has 1 bounding boxes. maybe \n",
      "Warning: image_id test/4200.jpg submission_df index 0.4442has 1 bounding boxes. maybe \n",
      "Warning: image_id test/4200.jpg submission_df index 0.4578has 1 bounding boxes. maybe \n",
      "Warning: incorrect number of weights 44. Must be: 41. Set weights equal to 1.\n"
     ]
    },
    {
     "name": "stderr",
     "output_type": "stream",
     "text": [
      " 86%|███████████████████████████████████████████████████████████████████▎          | 4206/4871 [20:06<03:12,  3.46it/s]"
     ]
    },
    {
     "name": "stdout",
     "output_type": "stream",
     "text": [
      "Warning: image_id test/4206.jpg submission_df index 0.4578has 1 bounding boxes. maybe \n",
      "Warning: incorrect number of weights 44. Must be: 43. Set weights equal to 1.\n"
     ]
    },
    {
     "name": "stderr",
     "output_type": "stream",
     "text": [
      " 86%|███████████████████████████████████████████████████████████████████▍          | 4211/4871 [20:08<03:19,  3.31it/s]"
     ]
    },
    {
     "name": "stdout",
     "output_type": "stream",
     "text": [
      "Warning: image_id test/4211.jpg submission_df index 0.4578has 1 bounding boxes. maybe \n",
      "Warning: incorrect number of weights 44. Must be: 43. Set weights equal to 1.\n"
     ]
    },
    {
     "name": "stderr",
     "output_type": "stream",
     "text": [
      " 87%|███████████████████████████████████████████████████████████████████▌          | 4218/4871 [20:10<02:53,  3.77it/s]"
     ]
    },
    {
     "name": "stdout",
     "output_type": "stream",
     "text": [
      "Warning: image_id test/4217.jpg submission_df index 0.4331has 1 bounding boxes. maybe \n",
      "Warning: image_id test/4217.jpg submission_df index 0.4578has 1 bounding boxes. maybe \n",
      "Warning: incorrect number of weights 44. Must be: 42. Set weights equal to 1.\n"
     ]
    },
    {
     "name": "stderr",
     "output_type": "stream",
     "text": [
      " 87%|███████████████████████████████████████████████████████████████████▊          | 4231/4871 [20:14<02:38,  4.04it/s]"
     ]
    },
    {
     "name": "stdout",
     "output_type": "stream",
     "text": [
      "Warning: image_id test/4230.jpg submission_df index 0.4331has 1 bounding boxes. maybe \n",
      "Warning: incorrect number of weights 44. Must be: 43. Set weights equal to 1.\n"
     ]
    },
    {
     "name": "stderr",
     "output_type": "stream",
     "text": [
      " 87%|███████████████████████████████████████████████████████████████████▉          | 4244/4871 [20:18<03:42,  2.82it/s]"
     ]
    },
    {
     "name": "stdout",
     "output_type": "stream",
     "text": [
      "Warning: image_id test/4244.jpg submission_df index 0.4578has 1 bounding boxes. maybe \n",
      "Warning: incorrect number of weights 44. Must be: 43. Set weights equal to 1.\n"
     ]
    },
    {
     "name": "stderr",
     "output_type": "stream",
     "text": [
      " 88%|████████████████████████████████████████████████████████████████████▉         | 4306/4871 [20:35<02:03,  4.58it/s]"
     ]
    },
    {
     "name": "stdout",
     "output_type": "stream",
     "text": [
      "Warning: image_id test/4306.jpg submission_df index 0.4331has 1 bounding boxes. maybe \n",
      "Warning: incorrect number of weights 44. Must be: 43. Set weights equal to 1.\n"
     ]
    },
    {
     "name": "stderr",
     "output_type": "stream",
     "text": [
      " 89%|█████████████████████████████████████████████████████████████████████▏        | 4321/4871 [20:39<03:01,  3.03it/s]"
     ]
    },
    {
     "name": "stdout",
     "output_type": "stream",
     "text": [
      "Warning: image_id test/4321.jpg submission_df index 0.4331has 1 bounding boxes. maybe \n",
      "Warning: image_id test/4321.jpg submission_df index 0.4578has 1 bounding boxes. maybe \n",
      "Warning: incorrect number of weights 44. Must be: 42. Set weights equal to 1.\n"
     ]
    },
    {
     "name": "stderr",
     "output_type": "stream",
     "text": [
      " 89%|█████████████████████████████████████████████████████████████████████▍        | 4334/4871 [20:42<02:02,  4.39it/s]"
     ]
    },
    {
     "name": "stdout",
     "output_type": "stream",
     "text": [
      "Warning: image_id test/4333.jpg submission_df index 0.4331has 1 bounding boxes. maybe \n",
      "Warning: incorrect number of weights 44. Must be: 43. Set weights equal to 1.\n"
     ]
    },
    {
     "name": "stderr",
     "output_type": "stream",
     "text": [
      " 90%|█████████████████████████████████████████████████████████████████████▊        | 4362/4871 [20:50<02:03,  4.11it/s]"
     ]
    },
    {
     "name": "stdout",
     "output_type": "stream",
     "text": [
      "Warning: image_id test/4362.jpg submission_df index 0.4442has 1 bounding boxes. maybe \n",
      "Warning: incorrect number of weights 44. Must be: 43. Set weights equal to 1.\n"
     ]
    },
    {
     "name": "stderr",
     "output_type": "stream",
     "text": [
      " 90%|█████████████████████████████████████████████████████████████████████▉        | 4367/4871 [20:52<02:27,  3.41it/s]"
     ]
    },
    {
     "name": "stdout",
     "output_type": "stream",
     "text": [
      "Warning: image_id test/4367.jpg submission_df index 0.4331has 1 bounding boxes. maybe \n",
      "Warning: incorrect number of weights 44. Must be: 43. Set weights equal to 1.\n"
     ]
    },
    {
     "name": "stderr",
     "output_type": "stream",
     "text": [
      " 90%|█████████████████████████████████████████████████████████████████████▉        | 4368/4871 [20:52<02:34,  3.25it/s]"
     ]
    },
    {
     "name": "stdout",
     "output_type": "stream",
     "text": [
      "Warning: image_id test/4368.jpg submission_df index 0.4442has 1 bounding boxes. maybe \n",
      "Warning: image_id test/4368.jpg submission_df index 0.449has 1 bounding boxes. maybe \n",
      "Warning: incorrect number of weights 44. Must be: 42. Set weights equal to 1.\n"
     ]
    },
    {
     "name": "stderr",
     "output_type": "stream",
     "text": [
      " 90%|██████████████████████████████████████████████████████████████████████▎       | 4390/4871 [20:59<02:10,  3.68it/s]"
     ]
    },
    {
     "name": "stdout",
     "output_type": "stream",
     "text": [
      "Warning: image_id test/4389.jpg submission_df index 0.4331has 1 bounding boxes. maybe \n",
      "Warning: image_id test/4389.jpg submission_df index 0.4578has 1 bounding boxes. maybe \n",
      "Warning: incorrect number of weights 44. Must be: 42. Set weights equal to 1.\n"
     ]
    },
    {
     "name": "stderr",
     "output_type": "stream",
     "text": [
      " 91%|██████████████████████████████████████████████████████████████████████▋       | 4413/4871 [21:05<02:20,  3.27it/s]"
     ]
    },
    {
     "name": "stdout",
     "output_type": "stream",
     "text": [
      "Warning: image_id test/4412.jpg submission_df index 0.4331has 1 bounding boxes. maybe \n",
      "Warning: incorrect number of weights 44. Must be: 43. Set weights equal to 1.\n"
     ]
    },
    {
     "name": "stderr",
     "output_type": "stream",
     "text": [
      " 91%|██████████████████████████████████████████████████████████████████████▋       | 4415/4871 [21:06<02:04,  3.66it/s]"
     ]
    },
    {
     "name": "stdout",
     "output_type": "stream",
     "text": [
      "Warning: image_id test/4415.jpg submission_df index 0.4331has 1 bounding boxes. maybe \n",
      "Warning: image_id test/4415.jpg submission_df index 0.4578has 1 bounding boxes. maybe \n",
      "Warning: incorrect number of weights 44. Must be: 42. Set weights equal to 1.\n"
     ]
    },
    {
     "name": "stderr",
     "output_type": "stream",
     "text": [
      " 91%|███████████████████████████████████████████████████████████████████████▏      | 4444/4871 [21:14<02:14,  3.17it/s]"
     ]
    },
    {
     "name": "stdout",
     "output_type": "stream",
     "text": [
      "Warning: image_id test/4444.jpg submission_df index 0.4442has 1 bounding boxes. maybe \n",
      "Warning: incorrect number of weights 44. Must be: 43. Set weights equal to 1.\n"
     ]
    },
    {
     "name": "stderr",
     "output_type": "stream",
     "text": [
      " 92%|███████████████████████████████████████████████████████████████████████▌      | 4471/4871 [21:22<02:07,  3.14it/s]"
     ]
    },
    {
     "name": "stdout",
     "output_type": "stream",
     "text": [
      "Warning: image_id test/4471.jpg submission_df index 0.4331has 1 bounding boxes. maybe \n",
      "Warning: image_id test/4471.jpg submission_df index 0.4578has 1 bounding boxes. maybe \n",
      "Warning: incorrect number of weights 44. Must be: 42. Set weights equal to 1.\n"
     ]
    },
    {
     "name": "stderr",
     "output_type": "stream",
     "text": [
      " 93%|████████████████████████████████████████████████████████████████████████▎     | 4512/4871 [21:33<01:41,  3.54it/s]"
     ]
    },
    {
     "name": "stdout",
     "output_type": "stream",
     "text": [
      "Warning: image_id test/4512.jpg submission_df index 0.4331has 1 bounding boxes. maybe \n",
      "Warning: incorrect number of weights 44. Must be: 43. Set weights equal to 1.\n"
     ]
    },
    {
     "name": "stderr",
     "output_type": "stream",
     "text": [
      " 93%|████████████████████████████████████████████████████████████████████████▍     | 4522/4871 [21:36<01:40,  3.46it/s]"
     ]
    },
    {
     "name": "stdout",
     "output_type": "stream",
     "text": [
      "Warning: image_id test/4522.jpg submission_df index 0.4331has 1 bounding boxes. maybe \n",
      "Warning: image_id test/4522.jpg submission_df index 0.4578has 1 bounding boxes. maybe \n",
      "Warning: incorrect number of weights 44. Must be: 42. Set weights equal to 1.\n"
     ]
    },
    {
     "name": "stderr",
     "output_type": "stream",
     "text": [
      " 94%|█████████████████████████████████████████████████████████████████████████     | 4561/4871 [21:47<01:16,  4.05it/s]"
     ]
    },
    {
     "name": "stdout",
     "output_type": "stream",
     "text": [
      "Warning: image_id test/4560.jpg submission_df index 0.4331has 1 bounding boxes. maybe \n",
      "Warning: incorrect number of weights 44. Must be: 43. Set weights equal to 1.\n"
     ]
    },
    {
     "name": "stderr",
     "output_type": "stream",
     "text": [
      " 94%|█████████████████████████████████████████████████████████████████████████▏    | 4568/4871 [21:49<01:18,  3.86it/s]"
     ]
    },
    {
     "name": "stdout",
     "output_type": "stream",
     "text": [
      "Warning: image_id test/4568.jpg submission_df index 0.4442has 1 bounding boxes. maybe \n",
      "Warning: incorrect number of weights 44. Must be: 43. Set weights equal to 1.\n"
     ]
    },
    {
     "name": "stderr",
     "output_type": "stream",
     "text": [
      " 94%|█████████████████████████████████████████████████████████████████████████▎    | 4580/4871 [21:52<01:15,  3.86it/s]"
     ]
    },
    {
     "name": "stdout",
     "output_type": "stream",
     "text": [
      "Warning: image_id test/4579.jpg submission_df index 0.4442has 1 bounding boxes. maybe \n",
      "Warning: incorrect number of weights 44. Must be: 43. Set weights equal to 1.\n"
     ]
    },
    {
     "name": "stderr",
     "output_type": "stream",
     "text": [
      " 94%|█████████████████████████████████████████████████████████████████████████▌    | 4591/4871 [21:55<01:04,  4.36it/s]"
     ]
    },
    {
     "name": "stdout",
     "output_type": "stream",
     "text": [
      "Warning: image_id test/4590.jpg submission_df index 0.449has 1 bounding boxes. maybe \n",
      "Warning: incorrect number of weights 44. Must be: 43. Set weights equal to 1.\n"
     ]
    },
    {
     "name": "stderr",
     "output_type": "stream",
     "text": [
      " 94%|█████████████████████████████████████████████████████████████████████████▋    | 4601/4871 [21:58<00:57,  4.72it/s]"
     ]
    },
    {
     "name": "stdout",
     "output_type": "stream",
     "text": [
      "Warning: image_id test/4600.jpg submission_df index 0.4442has 1 bounding boxes. maybe \n",
      "Warning: incorrect number of weights 44. Must be: 43. Set weights equal to 1.\n"
     ]
    },
    {
     "name": "stderr",
     "output_type": "stream",
     "text": [
      " 94%|█████████████████████████████████████████████████████████████████████████▋    | 4603/4871 [21:58<00:53,  5.00it/s]"
     ]
    },
    {
     "name": "stdout",
     "output_type": "stream",
     "text": [
      "Warning: image_id test/4602.jpg submission_df index 0.4331has 1 bounding boxes. maybe \n",
      "Warning: incorrect number of weights 44. Must be: 43. Set weights equal to 1.\n"
     ]
    },
    {
     "name": "stderr",
     "output_type": "stream",
     "text": [
      " 95%|█████████████████████████████████████████████████████████████████████████▊    | 4606/4871 [21:58<00:47,  5.56it/s]"
     ]
    },
    {
     "name": "stdout",
     "output_type": "stream",
     "text": [
      "Warning: image_id test/4605.jpg submission_df index 0.4442has 1 bounding boxes. maybe \n",
      "Warning: incorrect number of weights 44. Must be: 43. Set weights equal to 1.\n"
     ]
    },
    {
     "name": "stderr",
     "output_type": "stream",
     "text": [
      " 95%|██████████████████████████████████████████████████████████████████████████▎   | 4639/4871 [22:08<01:18,  2.95it/s]"
     ]
    },
    {
     "name": "stdout",
     "output_type": "stream",
     "text": [
      "Warning: image_id test/4639.jpg submission_df index 0.4578has 1 bounding boxes. maybe \n",
      "Warning: incorrect number of weights 44. Must be: 43. Set weights equal to 1.\n"
     ]
    },
    {
     "name": "stderr",
     "output_type": "stream",
     "text": [
      " 96%|██████████████████████████████████████████████████████████████████████████▌   | 4660/4871 [22:12<00:44,  4.76it/s]"
     ]
    },
    {
     "name": "stdout",
     "output_type": "stream",
     "text": [
      "Warning: image_id test/4659.jpg submission_df index 0.4331has 1 bounding boxes. maybe \n",
      "Warning: incorrect number of weights 44. Must be: 43. Set weights equal to 1.\n"
     ]
    },
    {
     "name": "stderr",
     "output_type": "stream",
     "text": [
      " 96%|███████████████████████████████████████████████████████████████████████████   | 4691/4871 [22:21<00:54,  3.29it/s]"
     ]
    },
    {
     "name": "stdout",
     "output_type": "stream",
     "text": [
      "Warning: image_id test/4690.jpg submission_df index 0.5548has 1 bounding boxes. maybe \n",
      "Warning: incorrect number of weights 44. Must be: 43. Set weights equal to 1.\n"
     ]
    },
    {
     "name": "stderr",
     "output_type": "stream",
     "text": [
      " 97%|███████████████████████████████████████████████████████████████████████████▋  | 4728/4871 [22:32<00:38,  3.74it/s]"
     ]
    },
    {
     "name": "stdout",
     "output_type": "stream",
     "text": [
      "Warning: image_id test/4727.jpg submission_df index 0.4442has 1 bounding boxes. maybe \n",
      "Warning: incorrect number of weights 44. Must be: 43. Set weights equal to 1.\n"
     ]
    },
    {
     "name": "stderr",
     "output_type": "stream",
     "text": [
      " 97%|███████████████████████████████████████████████████████████████████████████▊  | 4736/4871 [22:35<00:41,  3.24it/s]"
     ]
    },
    {
     "name": "stdout",
     "output_type": "stream",
     "text": [
      "Warning: image_id test/4735.jpg submission_df index 0.4331has 1 bounding boxes. maybe \n",
      "Warning: image_id test/4735.jpg submission_df index 0.449has 1 bounding boxes. maybe \n",
      "Warning: image_id test/4735.jpg submission_df index 0.4578has 1 bounding boxes. maybe \n",
      "Warning: incorrect number of weights 44. Must be: 41. Set weights equal to 1.\n"
     ]
    },
    {
     "name": "stderr",
     "output_type": "stream",
     "text": [
      " 97%|███████████████████████████████████████████████████████████████████████████▉  | 4741/4871 [22:36<00:29,  4.39it/s]"
     ]
    },
    {
     "name": "stdout",
     "output_type": "stream",
     "text": [
      "Warning: image_id test/4740.jpg submission_df index 0.4442has 1 bounding boxes. maybe \n",
      "Warning: incorrect number of weights 44. Must be: 43. Set weights equal to 1.\n"
     ]
    },
    {
     "name": "stderr",
     "output_type": "stream",
     "text": [
      " 98%|████████████████████████████████████████████████████████████████████████████▏ | 4754/4871 [22:39<00:28,  4.18it/s]"
     ]
    },
    {
     "name": "stdout",
     "output_type": "stream",
     "text": [
      "Warning: image_id test/4753.jpg submission_df index 0.4331has 1 bounding boxes. maybe \n",
      "Warning: incorrect number of weights 44. Must be: 43. Set weights equal to 1.\n"
     ]
    },
    {
     "name": "stderr",
     "output_type": "stream",
     "text": [
      " 98%|████████████████████████████████████████████████████████████████████████████▏ | 4756/4871 [22:40<00:39,  2.94it/s]"
     ]
    },
    {
     "name": "stdout",
     "output_type": "stream",
     "text": [
      "Warning: image_id test/4756.jpg submission_df index 0.4331has 1 bounding boxes. maybe \n",
      "Warning: incorrect number of weights 44. Must be: 43. Set weights equal to 1.\n"
     ]
    },
    {
     "name": "stderr",
     "output_type": "stream",
     "text": [
      " 98%|████████████████████████████████████████████████████████████████████████████▏ | 4758/4871 [22:40<00:32,  3.52it/s]"
     ]
    },
    {
     "name": "stdout",
     "output_type": "stream",
     "text": [
      "Warning: image_id test/4757.jpg submission_df index 0.3718has 1 bounding boxes. maybe \n",
      "Warning: image_id test/4757.jpg submission_df index 0.4226has 1 bounding boxes. maybe \n",
      "Warning: image_id test/4757.jpg submission_df index 0.4331has 1 bounding boxes. maybe \n",
      "Warning: image_id test/4757.jpg submission_df index 0.4442has 1 bounding boxes. maybe \n",
      "Warning: image_id test/4757.jpg submission_df index 0.4578has 1 bounding boxes. maybe \n",
      "Warning: incorrect number of weights 44. Must be: 39. Set weights equal to 1.\n"
     ]
    },
    {
     "name": "stderr",
     "output_type": "stream",
     "text": [
      " 98%|████████████████████████████████████████████████████████████████████████████▋ | 4788/4871 [22:47<00:18,  4.39it/s]"
     ]
    },
    {
     "name": "stdout",
     "output_type": "stream",
     "text": [
      "Warning: image_id test/4787.jpg submission_df index 0.4442has 1 bounding boxes. maybe \n",
      "Warning: image_id test/4787.jpg submission_df index 0.449has 1 bounding boxes. maybe \n",
      "Warning: incorrect number of weights 44. Must be: 42. Set weights equal to 1.\n"
     ]
    },
    {
     "name": "stderr",
     "output_type": "stream",
     "text": [
      " 98%|████████████████████████████████████████████████████████████████████████████▋ | 4792/4871 [22:48<00:18,  4.27it/s]"
     ]
    },
    {
     "name": "stdout",
     "output_type": "stream",
     "text": [
      "Warning: image_id test/4792.jpg submission_df index 0.4331has 1 bounding boxes. maybe \n",
      "Warning: incorrect number of weights 44. Must be: 43. Set weights equal to 1.\n"
     ]
    },
    {
     "name": "stderr",
     "output_type": "stream",
     "text": [
      "100%|██████████████████████████████████████████████████████████████████████████████| 4871/4871 [23:11<00:00,  3.50it/s]\n"
     ]
    },
    {
     "data": {
      "text/html": [
       "<div>\n",
       "<style scoped>\n",
       "    .dataframe tbody tr th:only-of-type {\n",
       "        vertical-align: middle;\n",
       "    }\n",
       "\n",
       "    .dataframe tbody tr th {\n",
       "        vertical-align: top;\n",
       "    }\n",
       "\n",
       "    .dataframe thead th {\n",
       "        text-align: right;\n",
       "    }\n",
       "</style>\n",
       "<table border=\"1\" class=\"dataframe\">\n",
       "  <thead>\n",
       "    <tr style=\"text-align: right;\">\n",
       "      <th></th>\n",
       "      <th>PredictionString</th>\n",
       "      <th>image_id</th>\n",
       "    </tr>\n",
       "  </thead>\n",
       "  <tbody>\n",
       "    <tr>\n",
       "      <th>0</th>\n",
       "      <td>7 0.8553320230516918 215.8356475830078 51.4052...</td>\n",
       "      <td>test/0000.jpg</td>\n",
       "    </tr>\n",
       "    <tr>\n",
       "      <th>1</th>\n",
       "      <td>4 0.4214985749132868 343.8914794921875 250.175...</td>\n",
       "      <td>test/0001.jpg</td>\n",
       "    </tr>\n",
       "    <tr>\n",
       "      <th>2</th>\n",
       "      <td>1 0.5081446567975484 425.2687683105469 268.556...</td>\n",
       "      <td>test/0002.jpg</td>\n",
       "    </tr>\n",
       "    <tr>\n",
       "      <th>3</th>\n",
       "      <td>9 0.20673277010249447 145.97201538085938 262.8...</td>\n",
       "      <td>test/0003.jpg</td>\n",
       "    </tr>\n",
       "    <tr>\n",
       "      <th>4</th>\n",
       "      <td>0 0.32258728263323455 425.54443359375 408.1771...</td>\n",
       "      <td>test/0004.jpg</td>\n",
       "    </tr>\n",
       "  </tbody>\n",
       "</table>\n",
       "</div>"
      ],
      "text/plain": [
       "                                    PredictionString       image_id\n",
       "0  7 0.8553320230516918 215.8356475830078 51.4052...  test/0000.jpg\n",
       "1  4 0.4214985749132868 343.8914794921875 250.175...  test/0001.jpg\n",
       "2  1 0.5081446567975484 425.2687683105469 268.556...  test/0002.jpg\n",
       "3  9 0.20673277010249447 145.97201538085938 262.8...  test/0003.jpg\n",
       "4  0 0.32258728263323455 425.54443359375 408.1771...  test/0004.jpg"
      ]
     },
     "execution_count": 9,
     "metadata": {},
     "output_type": "execute_result"
    }
   ],
   "source": [
    "prediction_strings = []\n",
    "file_names = []\n",
    "flag=0\n",
    "for i, image_id in tqdm(enumerate(image_ids), total=len(image_ids)):\n",
    "    prediction_string = ''\n",
    "    boxes_list = []\n",
    "    scores_list = []\n",
    "    labels_list = []\n",
    "    image_info = coco.loadImgs(i)[0]\n",
    "    \n",
    "    for idx,df in enumerate(submission_df):\n",
    "        predict_string = df[df['image_id'] == image_id]['PredictionString'].tolist()[0]\n",
    "        predict_list = str(predict_string).split()\n",
    "        \n",
    "        # 바운딩 박스가 0개 혹은 1개인 경우 앙상블할 수 없으므로 패스합니다\n",
    "        if len(predict_list)==0 or len(predict_list)==1:\n",
    "            print(f\"Warning: image_id {image_id} submission_df index {weights[idx]}has {len(predict_list)} bounding boxes. maybe \")\n",
    "            flag=1\n",
    "            continue\n",
    "            \n",
    "        predict_list = np.reshape(predict_list, (-1, 6))\n",
    "        box_list = []\n",
    "        \n",
    "        # Ensemble_boxes는 박스의 좌표가 0에서 1 사이일 것을 요구하므로 정규화해줍니다\n",
    "        for box in predict_list[:, 2:6].tolist():\n",
    "            box[0] = float(box[0]) / image_info['width']\n",
    "            box[1] = float(box[1]) / image_info['height']\n",
    "            box[2] = float(box[2]) / image_info['width']\n",
    "            box[3] = float(box[3]) / image_info['height']\n",
    "            box_list.append(box)\n",
    "            \n",
    "        boxes_list.append(box_list)\n",
    "        scores_list.append(list(map(float, predict_list[:, 1].tolist())))\n",
    "        labels_list.append(list(map(int, predict_list[:, 0].tolist())))\n",
    "    \n",
    "    if len(boxes_list):\n",
    "        \n",
    "        # boxes, scores, labels = nms(boxes_list, scores_list, labels_list,iou_thr=iou_thr)\n",
    "        # boxes, scores, labels = soft_nms(box_list, scores_list, labels_list, iou_thr=iou_thr)\n",
    "        # boxes, scores, labels = non_maximum_weighted(boxes_list, scores_list, labels_list,iou_thr=iou_thr)\n",
    "        boxes, scores, labels = weighted_boxes_fusion(boxes_list, scores_list, labels_list,weights,iou_thr=0.75)\n",
    "        \n",
    "        for box, score, label in zip(boxes, scores, labels):\n",
    "            prediction_string += str(int(label)) + ' ' + str(score) + ' ' + str(box[0] * image_info['width']) + ' ' + str(box[1] * image_info['height']) + ' ' + str(box[2] * image_info['width']) + ' ' + str(box[3] * image_info['height']) + ' '\n",
    "    \n",
    "    prediction_strings.append(prediction_string)\n",
    "    file_names.append(image_id)\n",
    "submission = pd.DataFrame()\n",
    "submission['PredictionString'] = prediction_strings\n",
    "submission['image_id'] = file_names\n",
    "\n",
    "#======= 앙상블 결과 출력할 경로 지정 ========#\n",
    "submission.to_csv(rf\"C:\\Users\\z\\OneDrive - Sejong University\\바탕 화면\\네이버 부스트캠프 제출용\\네이버 부캠\\프로젝트2\\a\\ensemble용\\datasetensembleweight45odderasecreate.csv\", index=False)\n",
    "\n",
    "#===========================================#\n",
    "\n",
    "submission.head()"
   ]
  },
  {
   "cell_type": "code",
   "execution_count": 10,
   "id": "685312f6-8e14-466a-a5f0-40f6d8f19b74",
   "metadata": {},
   "outputs": [
    {
     "name": "stdout",
     "output_type": "stream",
     "text": [
      "Line 1: 400 bounding boxes\n",
      "Line 2: 400 bounding boxes\n",
      "Line 3: 400 bounding boxes\n",
      "Line 4: 400 bounding boxes\n",
      "Line 5: 400 bounding boxes\n",
      "Line 6: 400 bounding boxes\n",
      "Line 7: 400 bounding boxes\n",
      "Line 8: 400 bounding boxes\n",
      "Line 9: 400 bounding boxes\n",
      "Line 10: 400 bounding boxes\n",
      "Line 11: 400 bounding boxes\n",
      "Line 12: 400 bounding boxes\n",
      "Line 13: 400 bounding boxes\n",
      "Line 14: 400 bounding boxes\n",
      "Line 15: 400 bounding boxes\n",
      "Line 16: 400 bounding boxes\n",
      "Line 17: 400 bounding boxes\n",
      "Line 18: 400 bounding boxes\n",
      "Line 19: 400 bounding boxes\n",
      "Line 20: 400 bounding boxes\n",
      "Line 21: 400 bounding boxes\n",
      "Line 22: 400 bounding boxes\n",
      "Line 23: 400 bounding boxes\n",
      "Line 24: 400 bounding boxes\n",
      "Line 25: 400 bounding boxes\n",
      "Line 26: 400 bounding boxes\n",
      "Line 27: 400 bounding boxes\n",
      "Line 28: 400 bounding boxes\n",
      "Line 29: 400 bounding boxes\n",
      "Line 30: 400 bounding boxes\n",
      "Line 31: 400 bounding boxes\n",
      "Line 32: 400 bounding boxes\n",
      "Line 33: 400 bounding boxes\n",
      "Line 34: 400 bounding boxes\n",
      "Line 35: 400 bounding boxes\n",
      "Line 36: 400 bounding boxes\n",
      "Line 37: 400 bounding boxes\n",
      "Line 38: 400 bounding boxes\n",
      "Line 39: 400 bounding boxes\n",
      "Line 40: 400 bounding boxes\n",
      "Line 41: 400 bounding boxes\n",
      "Line 42: 400 bounding boxes\n",
      "Line 43: 400 bounding boxes\n",
      "Line 44: 400 bounding boxes\n",
      "Line 45: 400 bounding boxes\n",
      "Line 46: 400 bounding boxes\n",
      "Line 47: 400 bounding boxes\n",
      "Line 48: 400 bounding boxes\n",
      "Line 49: 400 bounding boxes\n",
      "Line 50: 400 bounding boxes\n",
      "Line 51: 400 bounding boxes\n",
      "Line 52: 400 bounding boxes\n",
      "Line 53: 400 bounding boxes\n",
      "Line 54: 400 bounding boxes\n",
      "Line 55: 400 bounding boxes\n",
      "Line 56: 400 bounding boxes\n",
      "Line 57: 400 bounding boxes\n",
      "Line 58: 400 bounding boxes\n",
      "Line 59: 400 bounding boxes\n",
      "Line 60: 400 bounding boxes\n",
      "Line 61: 400 bounding boxes\n",
      "Line 62: 400 bounding boxes\n",
      "Line 63: 400 bounding boxes\n",
      "Line 64: 400 bounding boxes\n",
      "Line 65: 400 bounding boxes\n",
      "Line 66: 400 bounding boxes\n",
      "Line 67: 400 bounding boxes\n",
      "Line 68: 400 bounding boxes\n",
      "Line 69: 400 bounding boxes\n",
      "Line 70: 400 bounding boxes\n",
      "Line 71: 400 bounding boxes\n",
      "Line 72: 400 bounding boxes\n",
      "Line 73: 400 bounding boxes\n",
      "Line 74: 400 bounding boxes\n",
      "Line 75: 400 bounding boxes\n",
      "Line 76: 400 bounding boxes\n",
      "Line 77: 400 bounding boxes\n",
      "Line 78: 400 bounding boxes\n",
      "Line 79: 400 bounding boxes\n",
      "Line 80: 400 bounding boxes\n",
      "Line 81: 400 bounding boxes\n",
      "Line 82: 400 bounding boxes\n",
      "Line 83: 400 bounding boxes\n",
      "Line 84: 400 bounding boxes\n",
      "Line 85: 400 bounding boxes\n",
      "Line 86: 400 bounding boxes\n",
      "Line 87: 400 bounding boxes\n",
      "Line 88: 400 bounding boxes\n",
      "Line 89: 400 bounding boxes\n",
      "Line 90: 400 bounding boxes\n",
      "Line 91: 400 bounding boxes\n",
      "Line 92: 400 bounding boxes\n",
      "Line 93: 400 bounding boxes\n",
      "Line 94: 400 bounding boxes\n",
      "Line 95: 400 bounding boxes\n",
      "Line 96: 400 bounding boxes\n",
      "Line 97: 400 bounding boxes\n",
      "Line 98: 400 bounding boxes\n",
      "Line 99: 400 bounding boxes\n",
      "Line 100: 400 bounding boxes\n",
      "Line 101: 400 bounding boxes\n",
      "Line 102: 400 bounding boxes\n",
      "Line 103: 400 bounding boxes\n",
      "Line 104: 400 bounding boxes\n",
      "Line 105: 400 bounding boxes\n",
      "Line 106: 400 bounding boxes\n",
      "Line 107: 400 bounding boxes\n",
      "Line 108: 400 bounding boxes\n",
      "Line 109: 400 bounding boxes\n",
      "Line 110: 400 bounding boxes\n",
      "Line 111: 400 bounding boxes\n",
      "Line 112: 400 bounding boxes\n",
      "Line 113: 400 bounding boxes\n",
      "Line 114: 400 bounding boxes\n",
      "Line 115: 400 bounding boxes\n",
      "Line 116: 400 bounding boxes\n",
      "Line 117: 400 bounding boxes\n",
      "Line 118: 400 bounding boxes\n",
      "Line 119: 400 bounding boxes\n",
      "Line 120: 400 bounding boxes\n",
      "Line 121: 400 bounding boxes\n",
      "Line 122: 400 bounding boxes\n",
      "Line 123: 400 bounding boxes\n",
      "Line 124: 400 bounding boxes\n",
      "Line 125: 400 bounding boxes\n",
      "Line 126: 400 bounding boxes\n",
      "Line 127: 400 bounding boxes\n",
      "Line 128: 400 bounding boxes\n",
      "Line 129: 400 bounding boxes\n",
      "Line 130: 400 bounding boxes\n",
      "Line 131: 400 bounding boxes\n",
      "Line 132: 400 bounding boxes\n",
      "Line 133: 400 bounding boxes\n",
      "Line 134: 400 bounding boxes\n",
      "Line 135: 400 bounding boxes\n",
      "Line 136: 400 bounding boxes\n",
      "Line 137: 400 bounding boxes\n",
      "Line 138: 400 bounding boxes\n",
      "Line 139: 400 bounding boxes\n",
      "Line 140: 400 bounding boxes\n",
      "Line 141: 400 bounding boxes\n",
      "Line 142: 400 bounding boxes\n",
      "Line 143: 400 bounding boxes\n",
      "Line 144: 400 bounding boxes\n",
      "Line 145: 400 bounding boxes\n",
      "Line 146: 400 bounding boxes\n",
      "Line 147: 400 bounding boxes\n",
      "Line 148: 400 bounding boxes\n",
      "Line 149: 400 bounding boxes\n",
      "Line 150: 400 bounding boxes\n",
      "Line 151: 400 bounding boxes\n",
      "Line 152: 400 bounding boxes\n",
      "Line 153: 400 bounding boxes\n",
      "Line 154: 400 bounding boxes\n",
      "Line 155: 400 bounding boxes\n",
      "Line 156: 400 bounding boxes\n",
      "Line 157: 400 bounding boxes\n",
      "Line 158: 400 bounding boxes\n",
      "Line 159: 400 bounding boxes\n",
      "Line 160: 400 bounding boxes\n",
      "Line 161: 400 bounding boxes\n",
      "Line 162: 400 bounding boxes\n",
      "Line 163: 400 bounding boxes\n",
      "Line 164: 400 bounding boxes\n",
      "Line 165: 400 bounding boxes\n",
      "Line 166: 400 bounding boxes\n",
      "Line 167: 400 bounding boxes\n",
      "Line 168: 400 bounding boxes\n",
      "Line 169: 400 bounding boxes\n",
      "Line 170: 400 bounding boxes\n",
      "Line 171: 400 bounding boxes\n",
      "Line 172: 400 bounding boxes\n",
      "Line 173: 400 bounding boxes\n",
      "Line 174: 400 bounding boxes\n",
      "Line 175: 400 bounding boxes\n",
      "Line 176: 400 bounding boxes\n",
      "Line 177: 400 bounding boxes\n",
      "Line 178: 400 bounding boxes\n",
      "Line 179: 400 bounding boxes\n",
      "Line 180: 400 bounding boxes\n",
      "Line 181: 400 bounding boxes\n",
      "Line 182: 400 bounding boxes\n",
      "Line 183: 400 bounding boxes\n",
      "Line 184: 400 bounding boxes\n",
      "Line 185: 400 bounding boxes\n",
      "Line 186: 400 bounding boxes\n",
      "Line 187: 400 bounding boxes\n",
      "Line 188: 400 bounding boxes\n",
      "Line 189: 400 bounding boxes\n",
      "Line 190: 400 bounding boxes\n",
      "Line 191: 400 bounding boxes\n",
      "Line 192: 400 bounding boxes\n",
      "Line 193: 400 bounding boxes\n",
      "Line 194: 400 bounding boxes\n",
      "Line 195: 400 bounding boxes\n",
      "Line 196: 400 bounding boxes\n",
      "Line 197: 400 bounding boxes\n",
      "Line 198: 400 bounding boxes\n",
      "Line 199: 400 bounding boxes\n",
      "Line 200: 400 bounding boxes\n",
      "Line 201: 400 bounding boxes\n",
      "Line 202: 400 bounding boxes\n",
      "Line 203: 400 bounding boxes\n",
      "Line 204: 400 bounding boxes\n",
      "Line 205: 400 bounding boxes\n",
      "Line 206: 400 bounding boxes\n",
      "Line 207: 400 bounding boxes\n",
      "Line 208: 400 bounding boxes\n",
      "Line 209: 400 bounding boxes\n",
      "Line 210: 400 bounding boxes\n",
      "Line 211: 400 bounding boxes\n",
      "Line 212: 400 bounding boxes\n",
      "Line 213: 400 bounding boxes\n",
      "Line 214: 400 bounding boxes\n",
      "Line 215: 400 bounding boxes\n",
      "Line 216: 400 bounding boxes\n",
      "Line 217: 400 bounding boxes\n",
      "Line 218: 400 bounding boxes\n",
      "Line 219: 400 bounding boxes\n",
      "Line 220: 400 bounding boxes\n",
      "Line 221: 400 bounding boxes\n",
      "Line 222: 400 bounding boxes\n",
      "Line 223: 400 bounding boxes\n",
      "Line 224: 400 bounding boxes\n",
      "Line 225: 400 bounding boxes\n",
      "Line 226: 400 bounding boxes\n",
      "Line 227: 400 bounding boxes\n",
      "Line 228: 400 bounding boxes\n",
      "Line 229: 400 bounding boxes\n",
      "Line 230: 400 bounding boxes\n",
      "Line 231: 400 bounding boxes\n",
      "Line 232: 400 bounding boxes\n",
      "Line 233: 400 bounding boxes\n",
      "Line 234: 400 bounding boxes\n",
      "Line 235: 400 bounding boxes\n",
      "Line 236: 400 bounding boxes\n",
      "Line 237: 400 bounding boxes\n",
      "Line 238: 400 bounding boxes\n",
      "Line 239: 400 bounding boxes\n",
      "Line 240: 400 bounding boxes\n",
      "Line 241: 400 bounding boxes\n",
      "Line 242: 400 bounding boxes\n",
      "Line 243: 400 bounding boxes\n",
      "Line 244: 400 bounding boxes\n",
      "Line 245: 400 bounding boxes\n",
      "Line 246: 400 bounding boxes\n",
      "Line 247: 400 bounding boxes\n",
      "Line 248: 400 bounding boxes\n",
      "Line 249: 400 bounding boxes\n",
      "Line 250: 400 bounding boxes\n",
      "Line 251: 400 bounding boxes\n",
      "Line 252: 400 bounding boxes\n",
      "Line 253: 400 bounding boxes\n",
      "Line 254: 400 bounding boxes\n",
      "Line 255: 400 bounding boxes\n",
      "Line 256: 400 bounding boxes\n",
      "Line 257: 400 bounding boxes\n",
      "Line 258: 400 bounding boxes\n",
      "Line 259: 400 bounding boxes\n",
      "Line 260: 400 bounding boxes\n",
      "Line 261: 400 bounding boxes\n",
      "Line 262: 400 bounding boxes\n",
      "Line 263: 400 bounding boxes\n",
      "Line 264: 400 bounding boxes\n",
      "Line 265: 400 bounding boxes\n",
      "Line 266: 400 bounding boxes\n",
      "Line 267: 400 bounding boxes\n",
      "Line 268: 400 bounding boxes\n",
      "Line 269: 400 bounding boxes\n",
      "Line 270: 400 bounding boxes\n",
      "Line 271: 400 bounding boxes\n",
      "Line 272: 400 bounding boxes\n",
      "Line 273: 400 bounding boxes\n",
      "Line 274: 400 bounding boxes\n",
      "Line 275: 400 bounding boxes\n",
      "Line 276: 400 bounding boxes\n",
      "Line 277: 400 bounding boxes\n",
      "Line 278: 400 bounding boxes\n",
      "Line 279: 400 bounding boxes\n",
      "Line 280: 400 bounding boxes\n",
      "Line 281: 400 bounding boxes\n",
      "Line 282: 400 bounding boxes\n",
      "Line 283: 400 bounding boxes\n",
      "Line 284: 400 bounding boxes\n",
      "Line 285: 400 bounding boxes\n",
      "Line 286: 400 bounding boxes\n",
      "Line 287: 400 bounding boxes\n",
      "Line 288: 400 bounding boxes\n",
      "Line 289: 400 bounding boxes\n",
      "Line 290: 400 bounding boxes\n",
      "Line 291: 400 bounding boxes\n",
      "Line 292: 400 bounding boxes\n",
      "Line 293: 400 bounding boxes\n",
      "Line 294: 400 bounding boxes\n",
      "Line 295: 400 bounding boxes\n",
      "Line 296: 400 bounding boxes\n",
      "Line 297: 400 bounding boxes\n",
      "Line 298: 400 bounding boxes\n",
      "Line 299: 400 bounding boxes\n",
      "Line 300: 400 bounding boxes\n",
      "Line 301: 400 bounding boxes\n",
      "Line 302: 400 bounding boxes\n",
      "Line 303: 400 bounding boxes\n",
      "Line 304: 400 bounding boxes\n",
      "Line 305: 400 bounding boxes\n",
      "Line 306: 400 bounding boxes\n",
      "Line 307: 400 bounding boxes\n",
      "Line 308: 400 bounding boxes\n",
      "Line 309: 400 bounding boxes\n",
      "Line 310: 400 bounding boxes\n",
      "Line 311: 400 bounding boxes\n",
      "Line 312: 400 bounding boxes\n",
      "Line 313: 400 bounding boxes\n",
      "Line 314: 400 bounding boxes\n",
      "Line 315: 400 bounding boxes\n",
      "Line 316: 400 bounding boxes\n",
      "Line 317: 400 bounding boxes\n",
      "Line 318: 400 bounding boxes\n",
      "Line 319: 400 bounding boxes\n",
      "Line 320: 400 bounding boxes\n",
      "Line 321: 400 bounding boxes\n",
      "Line 322: 400 bounding boxes\n",
      "Line 323: 400 bounding boxes\n",
      "Line 324: 400 bounding boxes\n",
      "Line 325: 400 bounding boxes\n",
      "Line 326: 400 bounding boxes\n",
      "Line 327: 400 bounding boxes\n",
      "Line 328: 400 bounding boxes\n",
      "Line 329: 400 bounding boxes\n",
      "Line 330: 400 bounding boxes\n",
      "Line 331: 400 bounding boxes\n",
      "Line 332: 400 bounding boxes\n",
      "Line 333: 400 bounding boxes\n",
      "Line 334: 400 bounding boxes\n",
      "Line 335: 400 bounding boxes\n",
      "Line 336: 400 bounding boxes\n",
      "Line 337: 400 bounding boxes\n",
      "Line 338: 400 bounding boxes\n",
      "Line 339: 400 bounding boxes\n",
      "Line 340: 400 bounding boxes\n",
      "Line 341: 400 bounding boxes\n",
      "Line 342: 400 bounding boxes\n",
      "Line 343: 400 bounding boxes\n",
      "Line 344: 400 bounding boxes\n",
      "Line 345: 400 bounding boxes\n",
      "Line 346: 400 bounding boxes\n",
      "Line 347: 400 bounding boxes\n",
      "Line 348: 400 bounding boxes\n",
      "Line 349: 400 bounding boxes\n",
      "Line 350: 400 bounding boxes\n",
      "Line 351: 400 bounding boxes\n",
      "Line 352: 400 bounding boxes\n",
      "Line 353: 400 bounding boxes\n",
      "Line 354: 400 bounding boxes\n",
      "Line 355: 400 bounding boxes\n",
      "Line 356: 400 bounding boxes\n",
      "Line 357: 400 bounding boxes\n",
      "Line 358: 400 bounding boxes\n",
      "Line 359: 400 bounding boxes\n",
      "Line 360: 400 bounding boxes\n",
      "Line 361: 400 bounding boxes\n",
      "Line 362: 400 bounding boxes\n",
      "Line 363: 400 bounding boxes\n",
      "Line 364: 400 bounding boxes\n",
      "Line 365: 400 bounding boxes\n",
      "Line 366: 400 bounding boxes\n",
      "Line 367: 400 bounding boxes\n",
      "Line 368: 400 bounding boxes\n",
      "Line 369: 400 bounding boxes\n",
      "Line 370: 400 bounding boxes\n",
      "Line 371: 400 bounding boxes\n",
      "Line 372: 400 bounding boxes\n",
      "Line 373: 400 bounding boxes\n",
      "Line 374: 400 bounding boxes\n",
      "Line 375: 400 bounding boxes\n",
      "Line 376: 400 bounding boxes\n",
      "Line 377: 400 bounding boxes\n",
      "Line 378: 400 bounding boxes\n",
      "Line 379: 400 bounding boxes\n",
      "Line 380: 400 bounding boxes\n",
      "Line 381: 400 bounding boxes\n",
      "Line 382: 400 bounding boxes\n",
      "Line 383: 400 bounding boxes\n",
      "Line 384: 400 bounding boxes\n",
      "Line 385: 400 bounding boxes\n",
      "Line 386: 400 bounding boxes\n",
      "Line 387: 400 bounding boxes\n",
      "Line 388: 400 bounding boxes\n",
      "Line 389: 400 bounding boxes\n",
      "Line 390: 400 bounding boxes\n",
      "Line 391: 400 bounding boxes\n",
      "Line 392: 400 bounding boxes\n",
      "Line 393: 400 bounding boxes\n",
      "Line 394: 400 bounding boxes\n",
      "Line 395: 400 bounding boxes\n",
      "Line 396: 400 bounding boxes\n",
      "Line 397: 400 bounding boxes\n",
      "Line 398: 400 bounding boxes\n",
      "Line 399: 400 bounding boxes\n",
      "Line 400: 400 bounding boxes\n",
      "Line 401: 400 bounding boxes\n",
      "Line 402: 400 bounding boxes\n",
      "Line 403: 400 bounding boxes\n",
      "Line 404: 400 bounding boxes\n",
      "Line 405: 400 bounding boxes\n",
      "Line 406: 400 bounding boxes\n",
      "Line 407: 400 bounding boxes\n",
      "Line 408: 400 bounding boxes\n",
      "Line 409: 400 bounding boxes\n",
      "Line 410: 400 bounding boxes\n",
      "Line 411: 400 bounding boxes\n",
      "Line 412: 400 bounding boxes\n",
      "Line 413: 400 bounding boxes\n",
      "Line 414: 400 bounding boxes\n",
      "Line 415: 400 bounding boxes\n",
      "Line 416: 400 bounding boxes\n",
      "Line 417: 400 bounding boxes\n",
      "Line 418: 400 bounding boxes\n",
      "Line 419: 400 bounding boxes\n",
      "Line 420: 400 bounding boxes\n",
      "Line 421: 400 bounding boxes\n",
      "Line 422: 400 bounding boxes\n",
      "Line 423: 400 bounding boxes\n",
      "Line 424: 400 bounding boxes\n",
      "Line 425: 400 bounding boxes\n",
      "Line 426: 400 bounding boxes\n",
      "Line 427: 400 bounding boxes\n",
      "Line 428: 400 bounding boxes\n",
      "Line 429: 400 bounding boxes\n",
      "Line 430: 400 bounding boxes\n",
      "Line 431: 400 bounding boxes\n",
      "Line 432: 400 bounding boxes\n",
      "Line 433: 400 bounding boxes\n",
      "Line 434: 400 bounding boxes\n",
      "Line 435: 400 bounding boxes\n",
      "Line 436: 400 bounding boxes\n",
      "Line 437: 400 bounding boxes\n",
      "Line 438: 400 bounding boxes\n",
      "Line 439: 400 bounding boxes\n",
      "Line 440: 400 bounding boxes\n",
      "Line 441: 400 bounding boxes\n",
      "Line 442: 400 bounding boxes\n",
      "Line 443: 400 bounding boxes\n",
      "Line 444: 400 bounding boxes\n",
      "Line 445: 400 bounding boxes\n",
      "Line 446: 400 bounding boxes\n",
      "Line 447: 400 bounding boxes\n",
      "Line 448: 400 bounding boxes\n",
      "Line 449: 400 bounding boxes\n",
      "Line 450: 400 bounding boxes\n",
      "Line 451: 400 bounding boxes\n",
      "Line 452: 400 bounding boxes\n",
      "Line 453: 400 bounding boxes\n",
      "Line 454: 400 bounding boxes\n",
      "Line 455: 400 bounding boxes\n",
      "Line 456: 400 bounding boxes\n",
      "Line 457: 400 bounding boxes\n",
      "Line 458: 400 bounding boxes\n",
      "Line 459: 400 bounding boxes\n",
      "Line 460: 400 bounding boxes\n",
      "Line 461: 400 bounding boxes\n",
      "Line 462: 400 bounding boxes\n",
      "Line 463: 400 bounding boxes\n",
      "Line 464: 400 bounding boxes\n",
      "Line 465: 400 bounding boxes\n",
      "Line 466: 400 bounding boxes\n",
      "Line 467: 400 bounding boxes\n",
      "Line 468: 400 bounding boxes\n",
      "Line 469: 400 bounding boxes\n",
      "Line 470: 400 bounding boxes\n",
      "Line 471: 400 bounding boxes\n",
      "Line 472: 400 bounding boxes\n",
      "Line 473: 400 bounding boxes\n",
      "Line 474: 400 bounding boxes\n",
      "Line 475: 400 bounding boxes\n",
      "Line 476: 400 bounding boxes\n",
      "Line 477: 400 bounding boxes\n",
      "Line 478: 400 bounding boxes\n",
      "Line 479: 400 bounding boxes\n",
      "Line 480: 400 bounding boxes\n",
      "Line 481: 400 bounding boxes\n",
      "Line 482: 400 bounding boxes\n",
      "Line 483: 400 bounding boxes\n",
      "Line 484: 400 bounding boxes\n",
      "Line 485: 400 bounding boxes\n",
      "Line 486: 400 bounding boxes\n",
      "Line 487: 400 bounding boxes\n",
      "Line 488: 400 bounding boxes\n",
      "Line 489: 400 bounding boxes\n",
      "Line 490: 400 bounding boxes\n",
      "Line 491: 400 bounding boxes\n",
      "Line 492: 400 bounding boxes\n",
      "Line 493: 400 bounding boxes\n",
      "Line 494: 400 bounding boxes\n",
      "Line 495: 400 bounding boxes\n",
      "Line 496: 400 bounding boxes\n",
      "Line 497: 400 bounding boxes\n",
      "Line 498: 400 bounding boxes\n",
      "Line 499: 400 bounding boxes\n",
      "Line 500: 400 bounding boxes\n",
      "Line 501: 400 bounding boxes\n",
      "Line 502: 400 bounding boxes\n",
      "Line 503: 400 bounding boxes\n",
      "Line 504: 400 bounding boxes\n",
      "Line 505: 400 bounding boxes\n",
      "Line 506: 400 bounding boxes\n",
      "Line 507: 400 bounding boxes\n",
      "Line 508: 400 bounding boxes\n",
      "Line 509: 400 bounding boxes\n",
      "Line 510: 400 bounding boxes\n",
      "Line 511: 400 bounding boxes\n",
      "Line 512: 400 bounding boxes\n",
      "Line 513: 400 bounding boxes\n",
      "Line 514: 400 bounding boxes\n",
      "Line 515: 400 bounding boxes\n",
      "Line 516: 400 bounding boxes\n",
      "Line 517: 400 bounding boxes\n",
      "Line 518: 400 bounding boxes\n",
      "Line 519: 400 bounding boxes\n",
      "Line 520: 400 bounding boxes\n",
      "Line 521: 400 bounding boxes\n",
      "Line 522: 400 bounding boxes\n",
      "Line 523: 400 bounding boxes\n",
      "Line 524: 400 bounding boxes\n",
      "Line 525: 400 bounding boxes\n",
      "Line 526: 400 bounding boxes\n",
      "Line 527: 400 bounding boxes\n",
      "Line 528: 400 bounding boxes\n",
      "Line 529: 400 bounding boxes\n",
      "Line 530: 400 bounding boxes\n",
      "Line 531: 400 bounding boxes\n",
      "Line 532: 400 bounding boxes\n",
      "Line 533: 400 bounding boxes\n",
      "Line 534: 400 bounding boxes\n",
      "Line 535: 400 bounding boxes\n",
      "Line 536: 400 bounding boxes\n",
      "Line 537: 400 bounding boxes\n",
      "Line 538: 400 bounding boxes\n",
      "Line 539: 400 bounding boxes\n",
      "Line 540: 400 bounding boxes\n",
      "Line 541: 400 bounding boxes\n",
      "Line 542: 400 bounding boxes\n",
      "Line 543: 400 bounding boxes\n",
      "Line 544: 400 bounding boxes\n",
      "Line 545: 400 bounding boxes\n",
      "Line 546: 400 bounding boxes\n",
      "Line 547: 400 bounding boxes\n",
      "Line 548: 400 bounding boxes\n",
      "Line 549: 400 bounding boxes\n",
      "Line 550: 400 bounding boxes\n",
      "Line 551: 400 bounding boxes\n",
      "Line 552: 400 bounding boxes\n",
      "Line 553: 400 bounding boxes\n",
      "Line 554: 400 bounding boxes\n",
      "Line 555: 400 bounding boxes\n",
      "Line 556: 400 bounding boxes\n",
      "Line 557: 400 bounding boxes\n",
      "Line 558: 400 bounding boxes\n",
      "Line 559: 400 bounding boxes\n",
      "Line 560: 400 bounding boxes\n",
      "Line 561: 400 bounding boxes\n",
      "Line 562: 400 bounding boxes\n",
      "Line 563: 400 bounding boxes\n",
      "Line 564: 400 bounding boxes\n",
      "Line 565: 400 bounding boxes\n",
      "Line 566: 400 bounding boxes\n",
      "Line 567: 400 bounding boxes\n",
      "Line 568: 400 bounding boxes\n",
      "Line 569: 400 bounding boxes\n",
      "Line 570: 400 bounding boxes\n",
      "Line 571: 400 bounding boxes\n",
      "Line 572: 400 bounding boxes\n",
      "Line 573: 400 bounding boxes\n",
      "Line 574: 400 bounding boxes\n",
      "Line 575: 400 bounding boxes\n",
      "Line 576: 400 bounding boxes\n",
      "Line 577: 400 bounding boxes\n",
      "Line 578: 400 bounding boxes\n",
      "Line 579: 400 bounding boxes\n",
      "Line 580: 400 bounding boxes\n",
      "Line 581: 400 bounding boxes\n",
      "Line 582: 400 bounding boxes\n",
      "Line 583: 400 bounding boxes\n",
      "Line 584: 400 bounding boxes\n",
      "Line 585: 400 bounding boxes\n",
      "Line 586: 400 bounding boxes\n",
      "Line 587: 400 bounding boxes\n",
      "Line 588: 400 bounding boxes\n",
      "Line 589: 400 bounding boxes\n",
      "Line 590: 400 bounding boxes\n",
      "Line 591: 400 bounding boxes\n",
      "Line 592: 400 bounding boxes\n",
      "Line 593: 400 bounding boxes\n",
      "Line 594: 400 bounding boxes\n",
      "Line 595: 400 bounding boxes\n",
      "Line 596: 400 bounding boxes\n",
      "Line 597: 400 bounding boxes\n",
      "Line 598: 400 bounding boxes\n",
      "Line 599: 400 bounding boxes\n",
      "Line 600: 400 bounding boxes\n",
      "Line 601: 400 bounding boxes\n",
      "Line 602: 400 bounding boxes\n",
      "Line 603: 400 bounding boxes\n",
      "Line 604: 400 bounding boxes\n",
      "Line 605: 400 bounding boxes\n",
      "Line 606: 400 bounding boxes\n",
      "Line 607: 400 bounding boxes\n",
      "Line 608: 400 bounding boxes\n",
      "Line 609: 400 bounding boxes\n",
      "Line 610: 400 bounding boxes\n",
      "Line 611: 400 bounding boxes\n",
      "Line 612: 400 bounding boxes\n",
      "Line 613: 400 bounding boxes\n",
      "Line 614: 400 bounding boxes\n",
      "Line 615: 400 bounding boxes\n",
      "Line 616: 400 bounding boxes\n",
      "Line 617: 400 bounding boxes\n",
      "Line 618: 400 bounding boxes\n",
      "Line 619: 400 bounding boxes\n",
      "Line 620: 400 bounding boxes\n",
      "Line 621: 400 bounding boxes\n",
      "Line 622: 400 bounding boxes\n",
      "Line 623: 400 bounding boxes\n",
      "Line 624: 400 bounding boxes\n",
      "Line 625: 400 bounding boxes\n",
      "Line 626: 400 bounding boxes\n",
      "Line 627: 400 bounding boxes\n",
      "Line 628: 400 bounding boxes\n",
      "Line 629: 400 bounding boxes\n",
      "Line 630: 400 bounding boxes\n",
      "Line 631: 400 bounding boxes\n",
      "Line 632: 400 bounding boxes\n",
      "Line 633: 400 bounding boxes\n",
      "Line 634: 400 bounding boxes\n",
      "Line 635: 400 bounding boxes\n",
      "Line 636: 400 bounding boxes\n",
      "Line 637: 400 bounding boxes\n",
      "Line 638: 400 bounding boxes\n",
      "Line 639: 400 bounding boxes\n",
      "Line 640: 400 bounding boxes\n",
      "Line 641: 400 bounding boxes\n",
      "Line 642: 400 bounding boxes\n",
      "Line 643: 400 bounding boxes\n",
      "Line 644: 400 bounding boxes\n",
      "Line 645: 400 bounding boxes\n",
      "Line 646: 400 bounding boxes\n",
      "Line 647: 400 bounding boxes\n",
      "Line 648: 400 bounding boxes\n",
      "Line 649: 400 bounding boxes\n",
      "Line 650: 400 bounding boxes\n",
      "Line 651: 400 bounding boxes\n",
      "Line 652: 400 bounding boxes\n",
      "Line 653: 400 bounding boxes\n",
      "Line 654: 400 bounding boxes\n",
      "Line 655: 400 bounding boxes\n",
      "Line 656: 400 bounding boxes\n",
      "Line 657: 400 bounding boxes\n",
      "Line 658: 400 bounding boxes\n",
      "Line 659: 400 bounding boxes\n",
      "Line 660: 400 bounding boxes\n",
      "Line 661: 400 bounding boxes\n",
      "Line 662: 400 bounding boxes\n",
      "Line 663: 400 bounding boxes\n",
      "Line 664: 400 bounding boxes\n",
      "Line 665: 400 bounding boxes\n",
      "Line 666: 400 bounding boxes\n",
      "Line 667: 400 bounding boxes\n",
      "Line 668: 400 bounding boxes\n",
      "Line 669: 400 bounding boxes\n",
      "Line 670: 400 bounding boxes\n",
      "Line 671: 400 bounding boxes\n",
      "Line 672: 400 bounding boxes\n",
      "Line 673: 400 bounding boxes\n",
      "Line 674: 400 bounding boxes\n",
      "Line 675: 400 bounding boxes\n",
      "Line 676: 400 bounding boxes\n",
      "Line 677: 400 bounding boxes\n",
      "Line 678: 400 bounding boxes\n",
      "Line 679: 400 bounding boxes\n",
      "Line 680: 400 bounding boxes\n",
      "Line 681: 400 bounding boxes\n",
      "Line 682: 400 bounding boxes\n",
      "Line 683: 400 bounding boxes\n",
      "Line 684: 400 bounding boxes\n",
      "Line 685: 400 bounding boxes\n",
      "Line 686: 400 bounding boxes\n",
      "Line 687: 400 bounding boxes\n",
      "Line 688: 400 bounding boxes\n",
      "Line 689: 400 bounding boxes\n",
      "Line 690: 400 bounding boxes\n",
      "Line 691: 400 bounding boxes\n",
      "Line 692: 400 bounding boxes\n",
      "Line 693: 400 bounding boxes\n",
      "Line 694: 400 bounding boxes\n",
      "Line 695: 400 bounding boxes\n",
      "Line 696: 400 bounding boxes\n",
      "Line 697: 400 bounding boxes\n",
      "Line 698: 400 bounding boxes\n",
      "Line 699: 400 bounding boxes\n",
      "Line 700: 400 bounding boxes\n",
      "Line 701: 400 bounding boxes\n",
      "Line 702: 400 bounding boxes\n",
      "Line 703: 400 bounding boxes\n",
      "Line 704: 400 bounding boxes\n",
      "Line 705: 400 bounding boxes\n",
      "Line 706: 400 bounding boxes\n",
      "Line 707: 400 bounding boxes\n",
      "Line 708: 400 bounding boxes\n",
      "Line 709: 400 bounding boxes\n",
      "Line 710: 400 bounding boxes\n",
      "Line 711: 400 bounding boxes\n",
      "Line 712: 400 bounding boxes\n",
      "Line 713: 400 bounding boxes\n",
      "Line 714: 400 bounding boxes\n",
      "Line 715: 400 bounding boxes\n",
      "Line 716: 400 bounding boxes\n",
      "Line 717: 400 bounding boxes\n",
      "Line 718: 400 bounding boxes\n",
      "Line 719: 400 bounding boxes\n",
      "Line 720: 400 bounding boxes\n",
      "Line 721: 400 bounding boxes\n",
      "Line 722: 400 bounding boxes\n",
      "Line 723: 400 bounding boxes\n",
      "Line 724: 400 bounding boxes\n",
      "Line 725: 400 bounding boxes\n",
      "Line 726: 400 bounding boxes\n",
      "Line 727: 400 bounding boxes\n",
      "Line 728: 400 bounding boxes\n",
      "Line 729: 400 bounding boxes\n",
      "Line 730: 400 bounding boxes\n",
      "Line 731: 400 bounding boxes\n",
      "Line 732: 400 bounding boxes\n",
      "Line 733: 400 bounding boxes\n",
      "Line 734: 400 bounding boxes\n",
      "Line 735: 400 bounding boxes\n",
      "Line 736: 400 bounding boxes\n",
      "Line 737: 400 bounding boxes\n",
      "Line 738: 400 bounding boxes\n",
      "Line 739: 400 bounding boxes\n",
      "Line 740: 400 bounding boxes\n",
      "Line 741: 400 bounding boxes\n",
      "Line 742: 400 bounding boxes\n",
      "Line 743: 400 bounding boxes\n",
      "Line 744: 400 bounding boxes\n",
      "Line 745: 400 bounding boxes\n",
      "Line 746: 400 bounding boxes\n",
      "Line 747: 400 bounding boxes\n",
      "Line 748: 400 bounding boxes\n",
      "Line 749: 400 bounding boxes\n",
      "Line 750: 400 bounding boxes\n",
      "Line 751: 400 bounding boxes\n",
      "Line 752: 400 bounding boxes\n",
      "Line 753: 400 bounding boxes\n",
      "Line 754: 400 bounding boxes\n",
      "Line 755: 400 bounding boxes\n",
      "Line 756: 400 bounding boxes\n",
      "Line 757: 400 bounding boxes\n",
      "Line 758: 400 bounding boxes\n",
      "Line 759: 400 bounding boxes\n",
      "Line 760: 400 bounding boxes\n",
      "Line 761: 400 bounding boxes\n",
      "Line 762: 400 bounding boxes\n",
      "Line 763: 400 bounding boxes\n",
      "Line 764: 400 bounding boxes\n",
      "Line 765: 400 bounding boxes\n",
      "Line 766: 400 bounding boxes\n",
      "Line 767: 400 bounding boxes\n",
      "Line 768: 400 bounding boxes\n",
      "Line 769: 400 bounding boxes\n",
      "Line 770: 400 bounding boxes\n",
      "Line 771: 400 bounding boxes\n",
      "Line 772: 400 bounding boxes\n",
      "Line 773: 400 bounding boxes\n",
      "Line 774: 400 bounding boxes\n",
      "Line 775: 400 bounding boxes\n",
      "Line 776: 400 bounding boxes\n",
      "Line 777: 400 bounding boxes\n",
      "Line 778: 400 bounding boxes\n",
      "Line 779: 400 bounding boxes\n",
      "Line 780: 400 bounding boxes\n",
      "Line 781: 400 bounding boxes\n",
      "Line 782: 400 bounding boxes\n",
      "Line 783: 400 bounding boxes\n",
      "Line 784: 400 bounding boxes\n",
      "Line 785: 400 bounding boxes\n",
      "Line 786: 400 bounding boxes\n",
      "Line 787: 400 bounding boxes\n",
      "Line 788: 400 bounding boxes\n",
      "Line 789: 400 bounding boxes\n",
      "Line 790: 400 bounding boxes\n",
      "Line 791: 400 bounding boxes\n",
      "Line 792: 400 bounding boxes\n",
      "Line 793: 400 bounding boxes\n",
      "Line 794: 400 bounding boxes\n",
      "Line 795: 400 bounding boxes\n",
      "Line 796: 400 bounding boxes\n",
      "Line 797: 400 bounding boxes\n",
      "Line 798: 400 bounding boxes\n",
      "Line 799: 400 bounding boxes\n",
      "Line 800: 400 bounding boxes\n",
      "Line 801: 400 bounding boxes\n",
      "Line 802: 400 bounding boxes\n",
      "Line 803: 400 bounding boxes\n",
      "Line 804: 400 bounding boxes\n",
      "Line 805: 400 bounding boxes\n",
      "Line 806: 400 bounding boxes\n",
      "Line 807: 400 bounding boxes\n",
      "Line 808: 400 bounding boxes\n",
      "Line 809: 400 bounding boxes\n",
      "Line 810: 400 bounding boxes\n",
      "Line 811: 400 bounding boxes\n",
      "Line 812: 400 bounding boxes\n",
      "Line 813: 400 bounding boxes\n",
      "Line 814: 400 bounding boxes\n",
      "Line 815: 400 bounding boxes\n",
      "Line 816: 400 bounding boxes\n",
      "Line 817: 400 bounding boxes\n",
      "Line 818: 400 bounding boxes\n",
      "Line 819: 400 bounding boxes\n",
      "Line 820: 400 bounding boxes\n",
      "Line 821: 400 bounding boxes\n",
      "Line 822: 400 bounding boxes\n",
      "Line 823: 400 bounding boxes\n",
      "Line 824: 400 bounding boxes\n",
      "Line 825: 400 bounding boxes\n",
      "Line 826: 400 bounding boxes\n",
      "Line 827: 400 bounding boxes\n",
      "Line 828: 400 bounding boxes\n",
      "Line 829: 400 bounding boxes\n",
      "Line 830: 400 bounding boxes\n",
      "Line 831: 400 bounding boxes\n",
      "Line 832: 400 bounding boxes\n",
      "Line 833: 400 bounding boxes\n",
      "Line 834: 400 bounding boxes\n",
      "Line 835: 400 bounding boxes\n",
      "Line 836: 400 bounding boxes\n",
      "Line 837: 400 bounding boxes\n",
      "Line 838: 400 bounding boxes\n",
      "Line 839: 400 bounding boxes\n",
      "Line 840: 400 bounding boxes\n",
      "Line 841: 400 bounding boxes\n",
      "Line 842: 400 bounding boxes\n",
      "Line 843: 400 bounding boxes\n",
      "Line 844: 400 bounding boxes\n",
      "Line 845: 400 bounding boxes\n",
      "Line 846: 400 bounding boxes\n",
      "Line 847: 400 bounding boxes\n",
      "Line 848: 400 bounding boxes\n",
      "Line 849: 400 bounding boxes\n",
      "Line 850: 400 bounding boxes\n",
      "Line 851: 400 bounding boxes\n",
      "Line 852: 400 bounding boxes\n",
      "Line 853: 400 bounding boxes\n",
      "Line 854: 400 bounding boxes\n",
      "Line 855: 400 bounding boxes\n",
      "Line 856: 400 bounding boxes\n",
      "Line 857: 400 bounding boxes\n",
      "Line 858: 400 bounding boxes\n",
      "Line 859: 400 bounding boxes\n",
      "Line 860: 400 bounding boxes\n",
      "Line 861: 400 bounding boxes\n",
      "Line 862: 400 bounding boxes\n",
      "Line 863: 400 bounding boxes\n",
      "Line 864: 400 bounding boxes\n",
      "Line 865: 400 bounding boxes\n",
      "Line 866: 400 bounding boxes\n",
      "Line 867: 400 bounding boxes\n",
      "Line 868: 400 bounding boxes\n",
      "Line 869: 400 bounding boxes\n",
      "Line 870: 400 bounding boxes\n",
      "Line 871: 400 bounding boxes\n",
      "Line 872: 400 bounding boxes\n",
      "Line 873: 400 bounding boxes\n",
      "Line 874: 400 bounding boxes\n",
      "Line 875: 400 bounding boxes\n",
      "Line 876: 400 bounding boxes\n",
      "Line 877: 400 bounding boxes\n",
      "Line 878: 400 bounding boxes\n",
      "Line 879: 400 bounding boxes\n",
      "Line 880: 400 bounding boxes\n",
      "Line 881: 400 bounding boxes\n",
      "Line 882: 400 bounding boxes\n",
      "Line 883: 400 bounding boxes\n",
      "Line 884: 400 bounding boxes\n",
      "Line 885: 400 bounding boxes\n",
      "Line 886: 400 bounding boxes\n",
      "Line 887: 400 bounding boxes\n",
      "Line 888: 400 bounding boxes\n",
      "Line 889: 400 bounding boxes\n",
      "Line 890: 400 bounding boxes\n",
      "Line 891: 400 bounding boxes\n",
      "Line 892: 400 bounding boxes\n",
      "Line 893: 400 bounding boxes\n",
      "Line 894: 400 bounding boxes\n",
      "Line 895: 400 bounding boxes\n",
      "Line 896: 400 bounding boxes\n",
      "Line 897: 400 bounding boxes\n",
      "Line 898: 400 bounding boxes\n",
      "Line 899: 400 bounding boxes\n",
      "Line 900: 400 bounding boxes\n",
      "Line 901: 400 bounding boxes\n",
      "Line 902: 400 bounding boxes\n",
      "Line 903: 400 bounding boxes\n",
      "Line 904: 400 bounding boxes\n",
      "Line 905: 400 bounding boxes\n",
      "Line 906: 400 bounding boxes\n",
      "Line 907: 400 bounding boxes\n",
      "Line 908: 400 bounding boxes\n",
      "Line 909: 400 bounding boxes\n",
      "Line 910: 400 bounding boxes\n",
      "Line 911: 400 bounding boxes\n",
      "Line 912: 400 bounding boxes\n",
      "Line 913: 400 bounding boxes\n",
      "Line 914: 400 bounding boxes\n",
      "Line 915: 400 bounding boxes\n",
      "Line 916: 400 bounding boxes\n",
      "Line 917: 400 bounding boxes\n",
      "Line 918: 400 bounding boxes\n",
      "Line 919: 400 bounding boxes\n",
      "Line 920: 400 bounding boxes\n",
      "Line 921: 400 bounding boxes\n",
      "Line 922: 400 bounding boxes\n",
      "Line 923: 400 bounding boxes\n",
      "Line 924: 400 bounding boxes\n",
      "Line 925: 400 bounding boxes\n",
      "Line 926: 400 bounding boxes\n",
      "Line 927: 400 bounding boxes\n",
      "Line 928: 400 bounding boxes\n",
      "Line 929: 400 bounding boxes\n",
      "Line 930: 400 bounding boxes\n",
      "Line 931: 400 bounding boxes\n",
      "Line 932: 400 bounding boxes\n",
      "Line 933: 400 bounding boxes\n",
      "Line 934: 400 bounding boxes\n",
      "Line 935: 400 bounding boxes\n",
      "Line 936: 400 bounding boxes\n",
      "Line 937: 400 bounding boxes\n",
      "Line 938: 400 bounding boxes\n",
      "Line 939: 400 bounding boxes\n",
      "Line 940: 400 bounding boxes\n",
      "Line 941: 400 bounding boxes\n",
      "Line 942: 400 bounding boxes\n",
      "Line 943: 400 bounding boxes\n",
      "Line 944: 400 bounding boxes\n",
      "Line 945: 400 bounding boxes\n",
      "Line 946: 400 bounding boxes\n",
      "Line 947: 400 bounding boxes\n",
      "Line 948: 400 bounding boxes\n",
      "Line 949: 400 bounding boxes\n",
      "Line 950: 400 bounding boxes\n",
      "Line 951: 400 bounding boxes\n",
      "Line 952: 400 bounding boxes\n",
      "Line 953: 400 bounding boxes\n",
      "Line 954: 400 bounding boxes\n",
      "Line 955: 400 bounding boxes\n",
      "Line 956: 400 bounding boxes\n",
      "Line 957: 400 bounding boxes\n",
      "Line 958: 400 bounding boxes\n",
      "Line 959: 400 bounding boxes\n",
      "Line 960: 400 bounding boxes\n",
      "Line 961: 400 bounding boxes\n",
      "Line 962: 400 bounding boxes\n",
      "Line 963: 400 bounding boxes\n",
      "Line 964: 400 bounding boxes\n",
      "Line 965: 400 bounding boxes\n",
      "Line 966: 400 bounding boxes\n",
      "Line 967: 400 bounding boxes\n",
      "Line 968: 400 bounding boxes\n",
      "Line 969: 400 bounding boxes\n",
      "Line 970: 400 bounding boxes\n",
      "Line 971: 400 bounding boxes\n",
      "Line 972: 400 bounding boxes\n",
      "Line 973: 400 bounding boxes\n",
      "Line 974: 400 bounding boxes\n",
      "Line 975: 400 bounding boxes\n",
      "Line 976: 400 bounding boxes\n",
      "Line 977: 400 bounding boxes\n",
      "Line 978: 400 bounding boxes\n",
      "Line 979: 400 bounding boxes\n",
      "Line 980: 400 bounding boxes\n",
      "Line 981: 400 bounding boxes\n",
      "Line 982: 400 bounding boxes\n",
      "Line 983: 400 bounding boxes\n",
      "Line 984: 400 bounding boxes\n",
      "Line 985: 400 bounding boxes\n",
      "Line 986: 400 bounding boxes\n",
      "Line 987: 400 bounding boxes\n",
      "Line 988: 400 bounding boxes\n",
      "Line 989: 400 bounding boxes\n",
      "Line 990: 400 bounding boxes\n",
      "Line 991: 400 bounding boxes\n",
      "Line 992: 400 bounding boxes\n",
      "Line 993: 400 bounding boxes\n",
      "Line 994: 400 bounding boxes\n",
      "Line 995: 400 bounding boxes\n",
      "Line 996: 400 bounding boxes\n",
      "Line 997: 400 bounding boxes\n",
      "Line 998: 400 bounding boxes\n",
      "Line 999: 400 bounding boxes\n",
      "Line 1000: 400 bounding boxes\n",
      "Line 1001: 400 bounding boxes\n",
      "Line 1002: 400 bounding boxes\n",
      "Line 1003: 400 bounding boxes\n",
      "Line 1004: 400 bounding boxes\n",
      "Line 1005: 400 bounding boxes\n",
      "Line 1006: 400 bounding boxes\n",
      "Line 1007: 400 bounding boxes\n",
      "Line 1008: 400 bounding boxes\n",
      "Line 1009: 400 bounding boxes\n",
      "Line 1010: 400 bounding boxes\n",
      "Line 1011: 400 bounding boxes\n",
      "Line 1012: 400 bounding boxes\n",
      "Line 1013: 400 bounding boxes\n",
      "Line 1014: 400 bounding boxes\n",
      "Line 1015: 400 bounding boxes\n",
      "Line 1016: 400 bounding boxes\n",
      "Line 1017: 400 bounding boxes\n",
      "Line 1018: 400 bounding boxes\n",
      "Line 1019: 400 bounding boxes\n",
      "Line 1020: 400 bounding boxes\n",
      "Line 1021: 400 bounding boxes\n",
      "Line 1022: 400 bounding boxes\n",
      "Line 1023: 400 bounding boxes\n",
      "Line 1024: 400 bounding boxes\n",
      "Line 1025: 400 bounding boxes\n",
      "Line 1026: 400 bounding boxes\n",
      "Line 1027: 400 bounding boxes\n",
      "Line 1028: 400 bounding boxes\n",
      "Line 1029: 400 bounding boxes\n",
      "Line 1030: 400 bounding boxes\n",
      "Line 1031: 400 bounding boxes\n",
      "Line 1032: 400 bounding boxes\n",
      "Line 1033: 400 bounding boxes\n",
      "Line 1034: 400 bounding boxes\n",
      "Line 1035: 400 bounding boxes\n",
      "Line 1036: 400 bounding boxes\n",
      "Line 1037: 400 bounding boxes\n",
      "Line 1038: 400 bounding boxes\n",
      "Line 1039: 400 bounding boxes\n",
      "Line 1040: 400 bounding boxes\n",
      "Line 1041: 400 bounding boxes\n",
      "Line 1042: 400 bounding boxes\n",
      "Line 1043: 400 bounding boxes\n",
      "Line 1044: 400 bounding boxes\n",
      "Line 1045: 400 bounding boxes\n",
      "Line 1046: 400 bounding boxes\n",
      "Line 1047: 400 bounding boxes\n",
      "Line 1048: 400 bounding boxes\n",
      "Line 1049: 400 bounding boxes\n",
      "Line 1050: 400 bounding boxes\n",
      "Line 1051: 400 bounding boxes\n",
      "Line 1052: 400 bounding boxes\n",
      "Line 1053: 400 bounding boxes\n",
      "Line 1054: 400 bounding boxes\n",
      "Line 1055: 400 bounding boxes\n",
      "Line 1056: 400 bounding boxes\n",
      "Line 1057: 400 bounding boxes\n",
      "Line 1058: 400 bounding boxes\n",
      "Line 1059: 400 bounding boxes\n",
      "Line 1060: 400 bounding boxes\n",
      "Line 1061: 400 bounding boxes\n",
      "Line 1062: 400 bounding boxes\n",
      "Line 1063: 400 bounding boxes\n",
      "Line 1064: 400 bounding boxes\n",
      "Line 1065: 400 bounding boxes\n",
      "Line 1066: 400 bounding boxes\n",
      "Line 1067: 400 bounding boxes\n",
      "Line 1068: 400 bounding boxes\n",
      "Line 1069: 400 bounding boxes\n",
      "Line 1070: 400 bounding boxes\n",
      "Line 1071: 400 bounding boxes\n",
      "Line 1072: 400 bounding boxes\n",
      "Line 1073: 400 bounding boxes\n",
      "Line 1074: 400 bounding boxes\n",
      "Line 1075: 400 bounding boxes\n",
      "Line 1076: 400 bounding boxes\n",
      "Line 1077: 400 bounding boxes\n",
      "Line 1078: 400 bounding boxes\n",
      "Line 1079: 400 bounding boxes\n",
      "Line 1080: 400 bounding boxes\n",
      "Line 1081: 400 bounding boxes\n",
      "Line 1082: 400 bounding boxes\n",
      "Line 1083: 400 bounding boxes\n",
      "Line 1084: 400 bounding boxes\n",
      "Line 1085: 400 bounding boxes\n",
      "Line 1086: 400 bounding boxes\n",
      "Line 1087: 400 bounding boxes\n",
      "Line 1088: 400 bounding boxes\n",
      "Line 1089: 400 bounding boxes\n",
      "Line 1090: 400 bounding boxes\n",
      "Line 1091: 400 bounding boxes\n",
      "Line 1092: 400 bounding boxes\n",
      "Line 1093: 400 bounding boxes\n",
      "Line 1094: 400 bounding boxes\n",
      "Line 1095: 400 bounding boxes\n",
      "Line 1096: 400 bounding boxes\n",
      "Line 1097: 400 bounding boxes\n",
      "Line 1098: 400 bounding boxes\n",
      "Line 1099: 400 bounding boxes\n",
      "Line 1100: 400 bounding boxes\n",
      "Line 1101: 400 bounding boxes\n",
      "Line 1102: 400 bounding boxes\n",
      "Line 1103: 400 bounding boxes\n",
      "Line 1104: 400 bounding boxes\n",
      "Line 1105: 400 bounding boxes\n",
      "Line 1106: 400 bounding boxes\n",
      "Line 1107: 400 bounding boxes\n",
      "Line 1108: 400 bounding boxes\n",
      "Line 1109: 400 bounding boxes\n",
      "Line 1110: 400 bounding boxes\n",
      "Line 1111: 400 bounding boxes\n",
      "Line 1112: 400 bounding boxes\n",
      "Line 1113: 400 bounding boxes\n",
      "Line 1114: 400 bounding boxes\n",
      "Line 1115: 400 bounding boxes\n",
      "Line 1116: 400 bounding boxes\n",
      "Line 1117: 400 bounding boxes\n",
      "Line 1118: 400 bounding boxes\n",
      "Line 1119: 400 bounding boxes\n",
      "Line 1120: 400 bounding boxes\n",
      "Line 1121: 400 bounding boxes\n",
      "Line 1122: 400 bounding boxes\n",
      "Line 1123: 400 bounding boxes\n",
      "Line 1124: 400 bounding boxes\n",
      "Line 1125: 400 bounding boxes\n",
      "Line 1126: 400 bounding boxes\n",
      "Line 1127: 400 bounding boxes\n",
      "Line 1128: 400 bounding boxes\n",
      "Line 1129: 400 bounding boxes\n",
      "Line 1130: 400 bounding boxes\n",
      "Line 1131: 400 bounding boxes\n",
      "Line 1132: 400 bounding boxes\n",
      "Line 1133: 400 bounding boxes\n",
      "Line 1134: 400 bounding boxes\n",
      "Line 1135: 400 bounding boxes\n",
      "Line 1136: 400 bounding boxes\n",
      "Line 1137: 400 bounding boxes\n",
      "Line 1138: 400 bounding boxes\n",
      "Line 1139: 400 bounding boxes\n",
      "Line 1140: 400 bounding boxes\n",
      "Line 1141: 400 bounding boxes\n",
      "Line 1142: 400 bounding boxes\n",
      "Line 1143: 400 bounding boxes\n",
      "Line 1144: 400 bounding boxes\n",
      "Line 1145: 400 bounding boxes\n",
      "Line 1146: 400 bounding boxes\n",
      "Line 1147: 400 bounding boxes\n",
      "Line 1148: 400 bounding boxes\n",
      "Line 1149: 400 bounding boxes\n",
      "Line 1150: 400 bounding boxes\n",
      "Line 1151: 400 bounding boxes\n",
      "Line 1152: 400 bounding boxes\n",
      "Line 1153: 400 bounding boxes\n",
      "Line 1154: 400 bounding boxes\n",
      "Line 1155: 400 bounding boxes\n",
      "Line 1156: 400 bounding boxes\n",
      "Line 1157: 400 bounding boxes\n",
      "Line 1158: 400 bounding boxes\n",
      "Line 1159: 400 bounding boxes\n",
      "Line 1160: 400 bounding boxes\n",
      "Line 1161: 400 bounding boxes\n",
      "Line 1162: 400 bounding boxes\n",
      "Line 1163: 400 bounding boxes\n",
      "Line 1164: 400 bounding boxes\n",
      "Line 1165: 400 bounding boxes\n",
      "Line 1166: 400 bounding boxes\n",
      "Line 1167: 400 bounding boxes\n",
      "Line 1168: 400 bounding boxes\n",
      "Line 1169: 400 bounding boxes\n",
      "Line 1170: 400 bounding boxes\n",
      "Line 1171: 400 bounding boxes\n",
      "Line 1172: 400 bounding boxes\n",
      "Line 1173: 400 bounding boxes\n",
      "Line 1174: 400 bounding boxes\n",
      "Line 1175: 400 bounding boxes\n",
      "Line 1176: 400 bounding boxes\n",
      "Line 1177: 400 bounding boxes\n",
      "Line 1178: 400 bounding boxes\n",
      "Line 1179: 400 bounding boxes\n",
      "Line 1180: 400 bounding boxes\n",
      "Line 1181: 400 bounding boxes\n",
      "Line 1182: 400 bounding boxes\n",
      "Line 1183: 400 bounding boxes\n",
      "Line 1184: 400 bounding boxes\n",
      "Line 1185: 400 bounding boxes\n",
      "Line 1186: 400 bounding boxes\n",
      "Line 1187: 400 bounding boxes\n",
      "Line 1188: 400 bounding boxes\n",
      "Line 1189: 400 bounding boxes\n",
      "Line 1190: 400 bounding boxes\n",
      "Line 1191: 400 bounding boxes\n",
      "Line 1192: 400 bounding boxes\n",
      "Line 1193: 400 bounding boxes\n",
      "Line 1194: 400 bounding boxes\n",
      "Line 1195: 400 bounding boxes\n",
      "Line 1196: 400 bounding boxes\n",
      "Line 1197: 400 bounding boxes\n",
      "Line 1198: 400 bounding boxes\n",
      "Line 1199: 400 bounding boxes\n",
      "Line 1200: 400 bounding boxes\n",
      "Line 1201: 400 bounding boxes\n",
      "Line 1202: 400 bounding boxes\n",
      "Line 1203: 400 bounding boxes\n",
      "Line 1204: 400 bounding boxes\n",
      "Line 1205: 400 bounding boxes\n",
      "Line 1206: 400 bounding boxes\n",
      "Line 1207: 400 bounding boxes\n",
      "Line 1208: 400 bounding boxes\n",
      "Line 1209: 400 bounding boxes\n",
      "Line 1210: 400 bounding boxes\n",
      "Line 1211: 400 bounding boxes\n",
      "Line 1212: 400 bounding boxes\n",
      "Line 1213: 400 bounding boxes\n",
      "Line 1214: 400 bounding boxes\n",
      "Line 1215: 400 bounding boxes\n",
      "Line 1216: 400 bounding boxes\n",
      "Line 1217: 400 bounding boxes\n",
      "Line 1218: 400 bounding boxes\n",
      "Line 1219: 400 bounding boxes\n",
      "Line 1220: 400 bounding boxes\n",
      "Line 1221: 400 bounding boxes\n",
      "Line 1222: 400 bounding boxes\n",
      "Line 1223: 400 bounding boxes\n",
      "Line 1224: 400 bounding boxes\n",
      "Line 1225: 400 bounding boxes\n",
      "Line 1226: 400 bounding boxes\n",
      "Line 1227: 400 bounding boxes\n",
      "Line 1228: 400 bounding boxes\n",
      "Line 1229: 400 bounding boxes\n",
      "Line 1230: 400 bounding boxes\n",
      "Line 1231: 400 bounding boxes\n",
      "Line 1232: 400 bounding boxes\n",
      "Line 1233: 400 bounding boxes\n",
      "Line 1234: 400 bounding boxes\n",
      "Line 1235: 400 bounding boxes\n",
      "Line 1236: 400 bounding boxes\n",
      "Line 1237: 400 bounding boxes\n",
      "Line 1238: 400 bounding boxes\n",
      "Line 1239: 400 bounding boxes\n",
      "Line 1240: 400 bounding boxes\n",
      "Line 1241: 400 bounding boxes\n",
      "Line 1242: 400 bounding boxes\n",
      "Line 1243: 400 bounding boxes\n",
      "Line 1244: 400 bounding boxes\n",
      "Line 1245: 400 bounding boxes\n",
      "Line 1246: 400 bounding boxes\n",
      "Line 1247: 400 bounding boxes\n",
      "Line 1248: 400 bounding boxes\n",
      "Line 1249: 400 bounding boxes\n",
      "Line 1250: 400 bounding boxes\n",
      "Line 1251: 400 bounding boxes\n",
      "Line 1252: 400 bounding boxes\n",
      "Line 1253: 400 bounding boxes\n",
      "Line 1254: 400 bounding boxes\n",
      "Line 1255: 400 bounding boxes\n",
      "Line 1256: 400 bounding boxes\n",
      "Line 1257: 400 bounding boxes\n",
      "Line 1258: 400 bounding boxes\n",
      "Line 1259: 400 bounding boxes\n",
      "Line 1260: 400 bounding boxes\n",
      "Line 1261: 400 bounding boxes\n",
      "Line 1262: 400 bounding boxes\n",
      "Line 1263: 400 bounding boxes\n",
      "Line 1264: 400 bounding boxes\n",
      "Line 1265: 400 bounding boxes\n",
      "Line 1266: 400 bounding boxes\n",
      "Line 1267: 400 bounding boxes\n",
      "Line 1268: 400 bounding boxes\n",
      "Line 1269: 400 bounding boxes\n",
      "Line 1270: 400 bounding boxes\n",
      "Line 1271: 400 bounding boxes\n",
      "Line 1272: 400 bounding boxes\n",
      "Line 1273: 400 bounding boxes\n",
      "Line 1274: 400 bounding boxes\n",
      "Line 1275: 400 bounding boxes\n",
      "Line 1276: 400 bounding boxes\n",
      "Line 1277: 400 bounding boxes\n",
      "Line 1278: 400 bounding boxes\n",
      "Line 1279: 400 bounding boxes\n",
      "Line 1280: 400 bounding boxes\n",
      "Line 1281: 400 bounding boxes\n",
      "Line 1282: 400 bounding boxes\n",
      "Line 1283: 400 bounding boxes\n",
      "Line 1284: 400 bounding boxes\n",
      "Line 1285: 400 bounding boxes\n",
      "Line 1286: 400 bounding boxes\n",
      "Line 1287: 400 bounding boxes\n",
      "Line 1288: 400 bounding boxes\n",
      "Line 1289: 400 bounding boxes\n",
      "Line 1290: 400 bounding boxes\n",
      "Line 1291: 400 bounding boxes\n",
      "Line 1292: 400 bounding boxes\n",
      "Line 1293: 400 bounding boxes\n",
      "Line 1294: 400 bounding boxes\n",
      "Line 1295: 400 bounding boxes\n",
      "Line 1296: 400 bounding boxes\n",
      "Line 1297: 400 bounding boxes\n",
      "Line 1298: 400 bounding boxes\n",
      "Line 1299: 400 bounding boxes\n",
      "Line 1300: 400 bounding boxes\n",
      "Line 1301: 400 bounding boxes\n",
      "Line 1302: 400 bounding boxes\n",
      "Line 1303: 400 bounding boxes\n",
      "Line 1304: 400 bounding boxes\n",
      "Line 1305: 400 bounding boxes\n",
      "Line 1306: 400 bounding boxes\n",
      "Line 1307: 400 bounding boxes\n",
      "Line 1308: 400 bounding boxes\n",
      "Line 1309: 400 bounding boxes\n",
      "Line 1310: 400 bounding boxes\n",
      "Line 1311: 400 bounding boxes\n",
      "Line 1312: 400 bounding boxes\n",
      "Line 1313: 400 bounding boxes\n",
      "Line 1314: 400 bounding boxes\n",
      "Line 1315: 400 bounding boxes\n",
      "Line 1316: 400 bounding boxes\n",
      "Line 1317: 400 bounding boxes\n",
      "Line 1318: 400 bounding boxes\n",
      "Line 1319: 400 bounding boxes\n",
      "Line 1320: 400 bounding boxes\n",
      "Line 1321: 400 bounding boxes\n",
      "Line 1322: 400 bounding boxes\n",
      "Line 1323: 400 bounding boxes\n",
      "Line 1324: 400 bounding boxes\n",
      "Line 1325: 400 bounding boxes\n",
      "Line 1326: 400 bounding boxes\n",
      "Line 1327: 400 bounding boxes\n",
      "Line 1328: 400 bounding boxes\n",
      "Line 1329: 400 bounding boxes\n",
      "Line 1330: 400 bounding boxes\n",
      "Line 1331: 400 bounding boxes\n",
      "Line 1332: 400 bounding boxes\n",
      "Line 1333: 400 bounding boxes\n",
      "Line 1334: 400 bounding boxes\n",
      "Line 1335: 400 bounding boxes\n",
      "Line 1336: 400 bounding boxes\n",
      "Line 1337: 400 bounding boxes\n",
      "Line 1338: 400 bounding boxes\n",
      "Line 1339: 400 bounding boxes\n",
      "Line 1340: 400 bounding boxes\n",
      "Line 1341: 400 bounding boxes\n",
      "Line 1342: 400 bounding boxes\n",
      "Line 1343: 400 bounding boxes\n",
      "Line 1344: 400 bounding boxes\n",
      "Line 1345: 400 bounding boxes\n",
      "Line 1346: 400 bounding boxes\n",
      "Line 1347: 400 bounding boxes\n",
      "Line 1348: 400 bounding boxes\n",
      "Line 1349: 400 bounding boxes\n",
      "Line 1350: 400 bounding boxes\n",
      "Line 1351: 400 bounding boxes\n",
      "Line 1352: 400 bounding boxes\n",
      "Line 1353: 400 bounding boxes\n",
      "Line 1354: 400 bounding boxes\n",
      "Line 1355: 400 bounding boxes\n",
      "Line 1356: 400 bounding boxes\n",
      "Line 1357: 400 bounding boxes\n",
      "Line 1358: 400 bounding boxes\n",
      "Line 1359: 400 bounding boxes\n",
      "Line 1360: 400 bounding boxes\n",
      "Line 1361: 400 bounding boxes\n",
      "Line 1362: 400 bounding boxes\n",
      "Line 1363: 400 bounding boxes\n",
      "Line 1364: 400 bounding boxes\n",
      "Line 1365: 400 bounding boxes\n",
      "Line 1366: 400 bounding boxes\n",
      "Line 1367: 400 bounding boxes\n",
      "Line 1368: 400 bounding boxes\n",
      "Line 1369: 400 bounding boxes\n",
      "Line 1370: 400 bounding boxes\n",
      "Line 1371: 400 bounding boxes\n",
      "Line 1372: 400 bounding boxes\n",
      "Line 1373: 400 bounding boxes\n",
      "Line 1374: 400 bounding boxes\n",
      "Line 1375: 400 bounding boxes\n",
      "Line 1376: 400 bounding boxes\n",
      "Line 1377: 400 bounding boxes\n",
      "Line 1378: 400 bounding boxes\n",
      "Line 1379: 400 bounding boxes\n",
      "Line 1380: 400 bounding boxes\n",
      "Line 1381: 400 bounding boxes\n",
      "Line 1382: 400 bounding boxes\n",
      "Line 1383: 400 bounding boxes\n",
      "Line 1384: 400 bounding boxes\n",
      "Line 1385: 400 bounding boxes\n",
      "Line 1386: 400 bounding boxes\n",
      "Line 1387: 400 bounding boxes\n",
      "Line 1388: 400 bounding boxes\n",
      "Line 1389: 400 bounding boxes\n",
      "Line 1390: 400 bounding boxes\n",
      "Line 1391: 400 bounding boxes\n",
      "Line 1392: 400 bounding boxes\n",
      "Line 1393: 400 bounding boxes\n",
      "Line 1394: 400 bounding boxes\n",
      "Line 1395: 400 bounding boxes\n",
      "Line 1396: 400 bounding boxes\n",
      "Line 1397: 400 bounding boxes\n",
      "Line 1398: 400 bounding boxes\n",
      "Line 1399: 400 bounding boxes\n",
      "Line 1400: 400 bounding boxes\n",
      "Line 1401: 400 bounding boxes\n",
      "Line 1402: 400 bounding boxes\n",
      "Line 1403: 400 bounding boxes\n",
      "Line 1404: 400 bounding boxes\n",
      "Line 1405: 400 bounding boxes\n",
      "Line 1406: 400 bounding boxes\n",
      "Line 1407: 400 bounding boxes\n",
      "Line 1408: 400 bounding boxes\n",
      "Line 1409: 400 bounding boxes\n",
      "Line 1410: 400 bounding boxes\n",
      "Line 1411: 400 bounding boxes\n",
      "Line 1412: 400 bounding boxes\n",
      "Line 1413: 400 bounding boxes\n",
      "Line 1414: 400 bounding boxes\n",
      "Line 1415: 400 bounding boxes\n",
      "Line 1416: 400 bounding boxes\n",
      "Line 1417: 400 bounding boxes\n",
      "Line 1418: 400 bounding boxes\n",
      "Line 1419: 400 bounding boxes\n",
      "Line 1420: 400 bounding boxes\n",
      "Line 1421: 400 bounding boxes\n",
      "Line 1422: 400 bounding boxes\n",
      "Line 1423: 400 bounding boxes\n",
      "Line 1424: 400 bounding boxes\n",
      "Line 1425: 400 bounding boxes\n",
      "Line 1426: 400 bounding boxes\n",
      "Line 1427: 400 bounding boxes\n",
      "Line 1428: 400 bounding boxes\n",
      "Line 1429: 400 bounding boxes\n",
      "Line 1430: 400 bounding boxes\n",
      "Line 1431: 400 bounding boxes\n",
      "Line 1432: 400 bounding boxes\n",
      "Line 1433: 400 bounding boxes\n",
      "Line 1434: 400 bounding boxes\n",
      "Line 1435: 400 bounding boxes\n",
      "Line 1436: 400 bounding boxes\n",
      "Line 1437: 400 bounding boxes\n",
      "Line 1438: 400 bounding boxes\n",
      "Line 1439: 400 bounding boxes\n",
      "Line 1440: 400 bounding boxes\n",
      "Line 1441: 400 bounding boxes\n",
      "Line 1442: 400 bounding boxes\n",
      "Line 1443: 400 bounding boxes\n",
      "Line 1444: 400 bounding boxes\n",
      "Line 1445: 400 bounding boxes\n",
      "Line 1446: 400 bounding boxes\n",
      "Line 1447: 400 bounding boxes\n",
      "Line 1448: 400 bounding boxes\n",
      "Line 1449: 400 bounding boxes\n",
      "Line 1450: 400 bounding boxes\n",
      "Line 1451: 400 bounding boxes\n",
      "Line 1452: 400 bounding boxes\n",
      "Line 1453: 400 bounding boxes\n",
      "Line 1454: 400 bounding boxes\n",
      "Line 1455: 400 bounding boxes\n",
      "Line 1456: 400 bounding boxes\n",
      "Line 1457: 400 bounding boxes\n",
      "Line 1458: 400 bounding boxes\n",
      "Line 1459: 400 bounding boxes\n",
      "Line 1460: 400 bounding boxes\n",
      "Line 1461: 400 bounding boxes\n",
      "Line 1462: 400 bounding boxes\n",
      "Line 1463: 400 bounding boxes\n",
      "Line 1464: 400 bounding boxes\n",
      "Line 1465: 400 bounding boxes\n",
      "Line 1466: 400 bounding boxes\n",
      "Line 1467: 400 bounding boxes\n",
      "Line 1468: 400 bounding boxes\n",
      "Line 1469: 400 bounding boxes\n",
      "Line 1470: 400 bounding boxes\n",
      "Line 1471: 400 bounding boxes\n",
      "Line 1472: 400 bounding boxes\n",
      "Line 1473: 400 bounding boxes\n",
      "Line 1474: 400 bounding boxes\n",
      "Line 1475: 400 bounding boxes\n",
      "Line 1476: 400 bounding boxes\n",
      "Line 1477: 400 bounding boxes\n",
      "Line 1478: 400 bounding boxes\n",
      "Line 1479: 400 bounding boxes\n",
      "Line 1480: 400 bounding boxes\n",
      "Line 1481: 400 bounding boxes\n",
      "Line 1482: 400 bounding boxes\n",
      "Line 1483: 400 bounding boxes\n",
      "Line 1484: 400 bounding boxes\n",
      "Line 1485: 400 bounding boxes\n",
      "Line 1486: 400 bounding boxes\n",
      "Line 1487: 400 bounding boxes\n",
      "Line 1488: 400 bounding boxes\n",
      "Line 1489: 400 bounding boxes\n",
      "Line 1490: 400 bounding boxes\n",
      "Line 1491: 400 bounding boxes\n",
      "Line 1492: 400 bounding boxes\n",
      "Line 1493: 400 bounding boxes\n",
      "Line 1494: 400 bounding boxes\n",
      "Line 1495: 400 bounding boxes\n",
      "Line 1496: 400 bounding boxes\n",
      "Line 1497: 400 bounding boxes\n",
      "Line 1498: 400 bounding boxes\n",
      "Line 1499: 400 bounding boxes\n",
      "Line 1500: 400 bounding boxes\n",
      "Line 1501: 400 bounding boxes\n",
      "Line 1502: 400 bounding boxes\n",
      "Line 1503: 400 bounding boxes\n",
      "Line 1504: 400 bounding boxes\n",
      "Line 1505: 400 bounding boxes\n",
      "Line 1506: 400 bounding boxes\n",
      "Line 1507: 400 bounding boxes\n",
      "Line 1508: 400 bounding boxes\n",
      "Line 1509: 400 bounding boxes\n",
      "Line 1510: 400 bounding boxes\n",
      "Line 1511: 400 bounding boxes\n",
      "Line 1512: 400 bounding boxes\n",
      "Line 1513: 400 bounding boxes\n",
      "Line 1514: 400 bounding boxes\n",
      "Line 1515: 400 bounding boxes\n",
      "Line 1516: 400 bounding boxes\n",
      "Line 1517: 400 bounding boxes\n",
      "Line 1518: 400 bounding boxes\n",
      "Line 1519: 400 bounding boxes\n",
      "Line 1520: 400 bounding boxes\n",
      "Line 1521: 400 bounding boxes\n",
      "Line 1522: 400 bounding boxes\n",
      "Line 1523: 400 bounding boxes\n",
      "Line 1524: 400 bounding boxes\n",
      "Line 1525: 400 bounding boxes\n",
      "Line 1526: 400 bounding boxes\n",
      "Line 1527: 400 bounding boxes\n",
      "Line 1528: 400 bounding boxes\n",
      "Line 1529: 400 bounding boxes\n",
      "Line 1530: 400 bounding boxes\n",
      "Line 1531: 400 bounding boxes\n",
      "Line 1532: 400 bounding boxes\n",
      "Line 1533: 400 bounding boxes\n",
      "Line 1534: 400 bounding boxes\n",
      "Line 1535: 400 bounding boxes\n",
      "Line 1536: 400 bounding boxes\n",
      "Line 1537: 400 bounding boxes\n",
      "Line 1538: 400 bounding boxes\n",
      "Line 1539: 400 bounding boxes\n",
      "Line 1540: 400 bounding boxes\n",
      "Line 1541: 400 bounding boxes\n",
      "Line 1542: 400 bounding boxes\n",
      "Line 1543: 400 bounding boxes\n",
      "Line 1544: 400 bounding boxes\n",
      "Line 1545: 400 bounding boxes\n",
      "Line 1546: 400 bounding boxes\n",
      "Line 1547: 400 bounding boxes\n",
      "Line 1548: 400 bounding boxes\n",
      "Line 1549: 400 bounding boxes\n",
      "Line 1550: 400 bounding boxes\n",
      "Line 1551: 400 bounding boxes\n",
      "Line 1552: 400 bounding boxes\n",
      "Line 1553: 400 bounding boxes\n",
      "Line 1554: 400 bounding boxes\n",
      "Line 1555: 400 bounding boxes\n",
      "Line 1556: 400 bounding boxes\n",
      "Line 1557: 400 bounding boxes\n",
      "Line 1558: 400 bounding boxes\n",
      "Line 1559: 400 bounding boxes\n",
      "Line 1560: 400 bounding boxes\n",
      "Line 1561: 400 bounding boxes\n",
      "Line 1562: 400 bounding boxes\n",
      "Line 1563: 400 bounding boxes\n",
      "Line 1564: 400 bounding boxes\n",
      "Line 1565: 400 bounding boxes\n",
      "Line 1566: 400 bounding boxes\n",
      "Line 1567: 400 bounding boxes\n",
      "Line 1568: 400 bounding boxes\n",
      "Line 1569: 400 bounding boxes\n",
      "Line 1570: 400 bounding boxes\n",
      "Line 1571: 400 bounding boxes\n",
      "Line 1572: 400 bounding boxes\n",
      "Line 1573: 400 bounding boxes\n",
      "Line 1574: 400 bounding boxes\n",
      "Line 1575: 400 bounding boxes\n",
      "Line 1576: 400 bounding boxes\n",
      "Line 1577: 400 bounding boxes\n",
      "Line 1578: 400 bounding boxes\n",
      "Line 1579: 400 bounding boxes\n",
      "Line 1580: 400 bounding boxes\n",
      "Line 1581: 400 bounding boxes\n",
      "Line 1582: 400 bounding boxes\n",
      "Line 1583: 400 bounding boxes\n",
      "Line 1584: 400 bounding boxes\n",
      "Line 1585: 400 bounding boxes\n",
      "Line 1586: 400 bounding boxes\n",
      "Line 1587: 400 bounding boxes\n",
      "Line 1588: 400 bounding boxes\n",
      "Line 1589: 400 bounding boxes\n",
      "Line 1590: 400 bounding boxes\n",
      "Line 1591: 400 bounding boxes\n",
      "Line 1592: 400 bounding boxes\n",
      "Line 1593: 400 bounding boxes\n",
      "Line 1594: 400 bounding boxes\n",
      "Line 1595: 400 bounding boxes\n",
      "Line 1596: 400 bounding boxes\n",
      "Line 1597: 400 bounding boxes\n",
      "Line 1598: 400 bounding boxes\n",
      "Line 1599: 400 bounding boxes\n",
      "Line 1600: 400 bounding boxes\n",
      "Line 1601: 400 bounding boxes\n",
      "Line 1602: 400 bounding boxes\n",
      "Line 1603: 400 bounding boxes\n",
      "Line 1604: 400 bounding boxes\n",
      "Line 1605: 400 bounding boxes\n",
      "Line 1606: 400 bounding boxes\n",
      "Line 1607: 400 bounding boxes\n",
      "Line 1608: 400 bounding boxes\n",
      "Line 1609: 400 bounding boxes\n",
      "Line 1610: 400 bounding boxes\n",
      "Line 1611: 400 bounding boxes\n",
      "Line 1612: 400 bounding boxes\n",
      "Line 1613: 400 bounding boxes\n",
      "Line 1614: 400 bounding boxes\n",
      "Line 1615: 400 bounding boxes\n",
      "Line 1616: 400 bounding boxes\n",
      "Line 1617: 400 bounding boxes\n",
      "Line 1618: 400 bounding boxes\n",
      "Line 1619: 400 bounding boxes\n",
      "Line 1620: 400 bounding boxes\n",
      "Line 1621: 400 bounding boxes\n",
      "Line 1622: 400 bounding boxes\n",
      "Line 1623: 400 bounding boxes\n",
      "Line 1624: 400 bounding boxes\n",
      "Line 1625: 400 bounding boxes\n",
      "Line 1626: 400 bounding boxes\n",
      "Line 1627: 400 bounding boxes\n",
      "Line 1628: 400 bounding boxes\n",
      "Line 1629: 400 bounding boxes\n",
      "Line 1630: 400 bounding boxes\n",
      "Line 1631: 400 bounding boxes\n",
      "Line 1632: 400 bounding boxes\n",
      "Line 1633: 400 bounding boxes\n",
      "Line 1634: 400 bounding boxes\n",
      "Line 1635: 400 bounding boxes\n",
      "Line 1636: 400 bounding boxes\n",
      "Line 1637: 400 bounding boxes\n",
      "Line 1638: 400 bounding boxes\n",
      "Line 1639: 400 bounding boxes\n",
      "Line 1640: 400 bounding boxes\n",
      "Line 1641: 400 bounding boxes\n",
      "Line 1642: 400 bounding boxes\n",
      "Line 1643: 400 bounding boxes\n",
      "Line 1644: 400 bounding boxes\n",
      "Line 1645: 400 bounding boxes\n",
      "Line 1646: 400 bounding boxes\n",
      "Line 1647: 400 bounding boxes\n",
      "Line 1648: 400 bounding boxes\n",
      "Line 1649: 400 bounding boxes\n",
      "Line 1650: 400 bounding boxes\n",
      "Line 1651: 400 bounding boxes\n",
      "Line 1652: 400 bounding boxes\n",
      "Line 1653: 400 bounding boxes\n",
      "Line 1654: 400 bounding boxes\n",
      "Line 1655: 400 bounding boxes\n",
      "Line 1656: 400 bounding boxes\n",
      "Line 1657: 400 bounding boxes\n",
      "Line 1658: 400 bounding boxes\n",
      "Line 1659: 400 bounding boxes\n",
      "Line 1660: 400 bounding boxes\n",
      "Line 1661: 400 bounding boxes\n",
      "Line 1662: 400 bounding boxes\n",
      "Line 1663: 400 bounding boxes\n",
      "Line 1664: 400 bounding boxes\n",
      "Line 1665: 400 bounding boxes\n",
      "Line 1666: 400 bounding boxes\n",
      "Line 1667: 400 bounding boxes\n",
      "Line 1668: 400 bounding boxes\n",
      "Line 1669: 400 bounding boxes\n",
      "Line 1670: 400 bounding boxes\n",
      "Line 1671: 400 bounding boxes\n",
      "Line 1672: 400 bounding boxes\n",
      "Line 1673: 400 bounding boxes\n",
      "Line 1674: 400 bounding boxes\n",
      "Line 1675: 400 bounding boxes\n",
      "Line 1676: 400 bounding boxes\n",
      "Line 1677: 400 bounding boxes\n",
      "Line 1678: 400 bounding boxes\n",
      "Line 1679: 400 bounding boxes\n",
      "Line 1680: 400 bounding boxes\n",
      "Line 1681: 400 bounding boxes\n",
      "Line 1682: 400 bounding boxes\n",
      "Line 1683: 400 bounding boxes\n",
      "Line 1684: 400 bounding boxes\n",
      "Line 1685: 400 bounding boxes\n",
      "Line 1686: 400 bounding boxes\n",
      "Line 1687: 400 bounding boxes\n",
      "Line 1688: 400 bounding boxes\n",
      "Line 1689: 400 bounding boxes\n",
      "Line 1690: 400 bounding boxes\n",
      "Line 1691: 400 bounding boxes\n",
      "Line 1692: 400 bounding boxes\n",
      "Line 1693: 400 bounding boxes\n",
      "Line 1694: 400 bounding boxes\n",
      "Line 1695: 400 bounding boxes\n",
      "Line 1696: 400 bounding boxes\n",
      "Line 1697: 400 bounding boxes\n",
      "Line 1698: 400 bounding boxes\n",
      "Line 1699: 400 bounding boxes\n",
      "Line 1700: 400 bounding boxes\n",
      "Line 1701: 400 bounding boxes\n",
      "Line 1702: 400 bounding boxes\n",
      "Line 1703: 400 bounding boxes\n",
      "Line 1704: 400 bounding boxes\n",
      "Line 1705: 400 bounding boxes\n",
      "Line 1706: 400 bounding boxes\n",
      "Line 1707: 400 bounding boxes\n",
      "Line 1708: 400 bounding boxes\n",
      "Line 1709: 400 bounding boxes\n",
      "Line 1710: 400 bounding boxes\n",
      "Line 1711: 400 bounding boxes\n",
      "Line 1712: 400 bounding boxes\n",
      "Line 1713: 400 bounding boxes\n",
      "Line 1714: 400 bounding boxes\n",
      "Line 1715: 400 bounding boxes\n",
      "Line 1716: 400 bounding boxes\n",
      "Line 1717: 400 bounding boxes\n",
      "Line 1718: 400 bounding boxes\n",
      "Line 1719: 400 bounding boxes\n",
      "Line 1720: 400 bounding boxes\n",
      "Line 1721: 400 bounding boxes\n",
      "Line 1722: 400 bounding boxes\n",
      "Line 1723: 400 bounding boxes\n",
      "Line 1724: 400 bounding boxes\n",
      "Line 1725: 400 bounding boxes\n",
      "Line 1726: 400 bounding boxes\n",
      "Line 1727: 400 bounding boxes\n",
      "Line 1728: 400 bounding boxes\n",
      "Line 1729: 400 bounding boxes\n",
      "Line 1730: 400 bounding boxes\n",
      "Line 1731: 400 bounding boxes\n",
      "Line 1732: 400 bounding boxes\n",
      "Line 1733: 400 bounding boxes\n",
      "Line 1734: 400 bounding boxes\n",
      "Line 1735: 400 bounding boxes\n",
      "Line 1736: 400 bounding boxes\n",
      "Line 1737: 400 bounding boxes\n",
      "Line 1738: 400 bounding boxes\n",
      "Line 1739: 400 bounding boxes\n",
      "Line 1740: 400 bounding boxes\n",
      "Line 1741: 400 bounding boxes\n",
      "Line 1742: 400 bounding boxes\n",
      "Line 1743: 400 bounding boxes\n",
      "Line 1744: 400 bounding boxes\n",
      "Line 1745: 400 bounding boxes\n",
      "Line 1746: 400 bounding boxes\n",
      "Line 1747: 400 bounding boxes\n",
      "Line 1748: 400 bounding boxes\n",
      "Line 1749: 400 bounding boxes\n",
      "Line 1750: 400 bounding boxes\n",
      "Line 1751: 400 bounding boxes\n",
      "Line 1752: 400 bounding boxes\n",
      "Line 1753: 400 bounding boxes\n",
      "Line 1754: 400 bounding boxes\n",
      "Line 1755: 400 bounding boxes\n",
      "Line 1756: 400 bounding boxes\n",
      "Line 1757: 400 bounding boxes\n",
      "Line 1758: 400 bounding boxes\n",
      "Line 1759: 400 bounding boxes\n",
      "Line 1760: 400 bounding boxes\n",
      "Line 1761: 400 bounding boxes\n",
      "Line 1762: 400 bounding boxes\n",
      "Line 1763: 400 bounding boxes\n",
      "Line 1764: 400 bounding boxes\n",
      "Line 1765: 400 bounding boxes\n",
      "Line 1766: 400 bounding boxes\n",
      "Line 1767: 400 bounding boxes\n",
      "Line 1768: 400 bounding boxes\n",
      "Line 1769: 400 bounding boxes\n",
      "Line 1770: 400 bounding boxes\n",
      "Line 1771: 400 bounding boxes\n",
      "Line 1772: 400 bounding boxes\n",
      "Line 1773: 400 bounding boxes\n",
      "Line 1774: 400 bounding boxes\n",
      "Line 1775: 400 bounding boxes\n",
      "Line 1776: 400 bounding boxes\n",
      "Line 1777: 400 bounding boxes\n",
      "Line 1778: 400 bounding boxes\n",
      "Line 1779: 400 bounding boxes\n",
      "Line 1780: 400 bounding boxes\n",
      "Line 1781: 400 bounding boxes\n",
      "Line 1782: 400 bounding boxes\n",
      "Line 1783: 400 bounding boxes\n",
      "Line 1784: 400 bounding boxes\n",
      "Line 1785: 400 bounding boxes\n",
      "Line 1786: 400 bounding boxes\n",
      "Line 1787: 400 bounding boxes\n",
      "Line 1788: 400 bounding boxes\n",
      "Line 1789: 400 bounding boxes\n",
      "Line 1790: 400 bounding boxes\n",
      "Line 1791: 400 bounding boxes\n",
      "Line 1792: 400 bounding boxes\n",
      "Line 1793: 400 bounding boxes\n",
      "Line 1794: 400 bounding boxes\n",
      "Line 1795: 400 bounding boxes\n",
      "Line 1796: 400 bounding boxes\n",
      "Line 1797: 400 bounding boxes\n",
      "Line 1798: 400 bounding boxes\n",
      "Line 1799: 400 bounding boxes\n",
      "Line 1800: 400 bounding boxes\n",
      "Line 1801: 400 bounding boxes\n",
      "Line 1802: 400 bounding boxes\n",
      "Line 1803: 400 bounding boxes\n",
      "Line 1804: 400 bounding boxes\n",
      "Line 1805: 400 bounding boxes\n",
      "Line 1806: 400 bounding boxes\n",
      "Line 1807: 400 bounding boxes\n",
      "Line 1808: 400 bounding boxes\n",
      "Line 1809: 400 bounding boxes\n",
      "Line 1810: 400 bounding boxes\n",
      "Line 1811: 400 bounding boxes\n",
      "Line 1812: 400 bounding boxes\n",
      "Line 1813: 400 bounding boxes\n",
      "Line 1814: 400 bounding boxes\n",
      "Line 1815: 400 bounding boxes\n",
      "Line 1816: 400 bounding boxes\n",
      "Line 1817: 400 bounding boxes\n",
      "Line 1818: 400 bounding boxes\n",
      "Line 1819: 400 bounding boxes\n",
      "Line 1820: 400 bounding boxes\n",
      "Line 1821: 400 bounding boxes\n",
      "Line 1822: 400 bounding boxes\n",
      "Line 1823: 400 bounding boxes\n",
      "Line 1824: 400 bounding boxes\n",
      "Line 1825: 400 bounding boxes\n",
      "Line 1826: 400 bounding boxes\n",
      "Line 1827: 400 bounding boxes\n",
      "Line 1828: 400 bounding boxes\n",
      "Line 1829: 400 bounding boxes\n",
      "Line 1830: 400 bounding boxes\n",
      "Line 1831: 400 bounding boxes\n",
      "Line 1832: 400 bounding boxes\n",
      "Line 1833: 400 bounding boxes\n",
      "Line 1834: 400 bounding boxes\n",
      "Line 1835: 400 bounding boxes\n",
      "Line 1836: 400 bounding boxes\n",
      "Line 1837: 400 bounding boxes\n",
      "Line 1838: 400 bounding boxes\n",
      "Line 1839: 400 bounding boxes\n",
      "Line 1840: 400 bounding boxes\n",
      "Line 1841: 400 bounding boxes\n",
      "Line 1842: 400 bounding boxes\n",
      "Line 1843: 400 bounding boxes\n",
      "Line 1844: 400 bounding boxes\n",
      "Line 1845: 400 bounding boxes\n",
      "Line 1846: 400 bounding boxes\n",
      "Line 1847: 400 bounding boxes\n",
      "Line 1848: 400 bounding boxes\n",
      "Line 1849: 400 bounding boxes\n",
      "Line 1850: 400 bounding boxes\n",
      "Line 1851: 400 bounding boxes\n",
      "Line 1852: 400 bounding boxes\n",
      "Line 1853: 400 bounding boxes\n",
      "Line 1854: 400 bounding boxes\n",
      "Line 1855: 400 bounding boxes\n",
      "Line 1856: 400 bounding boxes\n",
      "Line 1857: 400 bounding boxes\n",
      "Line 1858: 400 bounding boxes\n",
      "Line 1859: 400 bounding boxes\n",
      "Line 1860: 400 bounding boxes\n",
      "Line 1861: 400 bounding boxes\n",
      "Line 1862: 400 bounding boxes\n",
      "Line 1863: 400 bounding boxes\n",
      "Line 1864: 400 bounding boxes\n",
      "Line 1865: 400 bounding boxes\n",
      "Line 1866: 400 bounding boxes\n",
      "Line 1867: 400 bounding boxes\n",
      "Line 1868: 400 bounding boxes\n",
      "Line 1869: 400 bounding boxes\n",
      "Line 1870: 400 bounding boxes\n",
      "Line 1871: 400 bounding boxes\n",
      "Line 1872: 400 bounding boxes\n",
      "Line 1873: 400 bounding boxes\n",
      "Line 1874: 400 bounding boxes\n",
      "Line 1875: 400 bounding boxes\n",
      "Line 1876: 400 bounding boxes\n",
      "Line 1877: 400 bounding boxes\n",
      "Line 1878: 400 bounding boxes\n",
      "Line 1879: 400 bounding boxes\n",
      "Line 1880: 400 bounding boxes\n",
      "Line 1881: 400 bounding boxes\n",
      "Line 1882: 400 bounding boxes\n",
      "Line 1883: 400 bounding boxes\n",
      "Line 1884: 400 bounding boxes\n",
      "Line 1885: 400 bounding boxes\n",
      "Line 1886: 400 bounding boxes\n",
      "Line 1887: 400 bounding boxes\n",
      "Line 1888: 400 bounding boxes\n",
      "Line 1889: 400 bounding boxes\n",
      "Line 1890: 400 bounding boxes\n",
      "Line 1891: 400 bounding boxes\n",
      "Line 1892: 400 bounding boxes\n",
      "Line 1893: 400 bounding boxes\n",
      "Line 1894: 400 bounding boxes\n",
      "Line 1895: 400 bounding boxes\n",
      "Line 1896: 400 bounding boxes\n",
      "Line 1897: 400 bounding boxes\n",
      "Line 1898: 400 bounding boxes\n",
      "Line 1899: 400 bounding boxes\n",
      "Line 1900: 400 bounding boxes\n",
      "Line 1901: 400 bounding boxes\n",
      "Line 1902: 400 bounding boxes\n",
      "Line 1903: 400 bounding boxes\n",
      "Line 1904: 400 bounding boxes\n",
      "Line 1905: 400 bounding boxes\n",
      "Line 1906: 400 bounding boxes\n",
      "Line 1907: 400 bounding boxes\n",
      "Line 1908: 400 bounding boxes\n",
      "Line 1909: 400 bounding boxes\n",
      "Line 1910: 400 bounding boxes\n",
      "Line 1911: 400 bounding boxes\n",
      "Line 1912: 400 bounding boxes\n",
      "Line 1913: 400 bounding boxes\n",
      "Line 1914: 400 bounding boxes\n",
      "Line 1915: 400 bounding boxes\n",
      "Line 1916: 400 bounding boxes\n",
      "Line 1917: 400 bounding boxes\n",
      "Line 1918: 400 bounding boxes\n",
      "Line 1919: 400 bounding boxes\n",
      "Line 1920: 400 bounding boxes\n",
      "Line 1921: 400 bounding boxes\n",
      "Line 1922: 400 bounding boxes\n",
      "Line 1923: 400 bounding boxes\n",
      "Line 1924: 400 bounding boxes\n",
      "Line 1925: 400 bounding boxes\n",
      "Line 1926: 400 bounding boxes\n",
      "Line 1927: 400 bounding boxes\n",
      "Line 1928: 400 bounding boxes\n",
      "Line 1929: 400 bounding boxes\n",
      "Line 1930: 400 bounding boxes\n",
      "Line 1931: 400 bounding boxes\n",
      "Line 1932: 400 bounding boxes\n",
      "Line 1933: 400 bounding boxes\n",
      "Line 1934: 400 bounding boxes\n",
      "Line 1935: 400 bounding boxes\n",
      "Line 1936: 400 bounding boxes\n",
      "Line 1937: 400 bounding boxes\n",
      "Line 1938: 400 bounding boxes\n",
      "Line 1939: 400 bounding boxes\n",
      "Line 1940: 400 bounding boxes\n",
      "Line 1941: 400 bounding boxes\n",
      "Line 1942: 400 bounding boxes\n",
      "Line 1943: 400 bounding boxes\n",
      "Line 1944: 400 bounding boxes\n",
      "Line 1945: 400 bounding boxes\n",
      "Line 1946: 400 bounding boxes\n",
      "Line 1947: 400 bounding boxes\n",
      "Line 1948: 400 bounding boxes\n",
      "Line 1949: 400 bounding boxes\n",
      "Line 1950: 400 bounding boxes\n",
      "Line 1951: 400 bounding boxes\n",
      "Line 1952: 400 bounding boxes\n",
      "Line 1953: 400 bounding boxes\n",
      "Line 1954: 400 bounding boxes\n",
      "Line 1955: 400 bounding boxes\n",
      "Line 1956: 400 bounding boxes\n",
      "Line 1957: 400 bounding boxes\n",
      "Line 1958: 400 bounding boxes\n",
      "Line 1959: 400 bounding boxes\n",
      "Line 1960: 400 bounding boxes\n",
      "Line 1961: 400 bounding boxes\n",
      "Line 1962: 400 bounding boxes\n",
      "Line 1963: 400 bounding boxes\n",
      "Line 1964: 400 bounding boxes\n",
      "Line 1965: 400 bounding boxes\n",
      "Line 1966: 400 bounding boxes\n",
      "Line 1967: 400 bounding boxes\n",
      "Line 1968: 400 bounding boxes\n",
      "Line 1969: 400 bounding boxes\n",
      "Line 1970: 400 bounding boxes\n",
      "Line 1971: 400 bounding boxes\n",
      "Line 1972: 400 bounding boxes\n",
      "Line 1973: 400 bounding boxes\n",
      "Line 1974: 400 bounding boxes\n",
      "Line 1975: 400 bounding boxes\n",
      "Line 1976: 400 bounding boxes\n",
      "Line 1977: 400 bounding boxes\n",
      "Line 1978: 400 bounding boxes\n",
      "Line 1979: 400 bounding boxes\n",
      "Line 1980: 400 bounding boxes\n",
      "Line 1981: 400 bounding boxes\n",
      "Line 1982: 400 bounding boxes\n",
      "Line 1983: 400 bounding boxes\n",
      "Line 1984: 400 bounding boxes\n",
      "Line 1985: 400 bounding boxes\n",
      "Line 1986: 400 bounding boxes\n",
      "Line 1987: 400 bounding boxes\n",
      "Line 1988: 400 bounding boxes\n",
      "Line 1989: 400 bounding boxes\n",
      "Line 1990: 400 bounding boxes\n",
      "Line 1991: 400 bounding boxes\n",
      "Line 1992: 400 bounding boxes\n",
      "Line 1993: 400 bounding boxes\n",
      "Line 1994: 400 bounding boxes\n",
      "Line 1995: 400 bounding boxes\n",
      "Line 1996: 400 bounding boxes\n",
      "Line 1997: 400 bounding boxes\n",
      "Line 1998: 400 bounding boxes\n",
      "Line 1999: 400 bounding boxes\n",
      "Line 2000: 400 bounding boxes\n",
      "Line 2001: 400 bounding boxes\n",
      "Line 2002: 400 bounding boxes\n",
      "Line 2003: 400 bounding boxes\n",
      "Line 2004: 400 bounding boxes\n",
      "Line 2005: 400 bounding boxes\n",
      "Line 2006: 400 bounding boxes\n",
      "Line 2007: 400 bounding boxes\n",
      "Line 2008: 400 bounding boxes\n",
      "Line 2009: 400 bounding boxes\n",
      "Line 2010: 400 bounding boxes\n",
      "Line 2011: 400 bounding boxes\n",
      "Line 2012: 400 bounding boxes\n",
      "Line 2013: 400 bounding boxes\n",
      "Line 2014: 400 bounding boxes\n",
      "Line 2015: 400 bounding boxes\n",
      "Line 2016: 400 bounding boxes\n",
      "Line 2017: 400 bounding boxes\n",
      "Line 2018: 400 bounding boxes\n",
      "Line 2019: 400 bounding boxes\n",
      "Line 2020: 400 bounding boxes\n",
      "Line 2021: 400 bounding boxes\n",
      "Line 2022: 400 bounding boxes\n",
      "Line 2023: 400 bounding boxes\n",
      "Line 2024: 400 bounding boxes\n",
      "Line 2025: 400 bounding boxes\n",
      "Line 2026: 400 bounding boxes\n",
      "Line 2027: 400 bounding boxes\n",
      "Line 2028: 400 bounding boxes\n",
      "Line 2029: 400 bounding boxes\n",
      "Line 2030: 400 bounding boxes\n",
      "Line 2031: 400 bounding boxes\n",
      "Line 2032: 400 bounding boxes\n",
      "Line 2033: 400 bounding boxes\n",
      "Line 2034: 400 bounding boxes\n",
      "Line 2035: 400 bounding boxes\n",
      "Line 2036: 400 bounding boxes\n",
      "Line 2037: 400 bounding boxes\n",
      "Line 2038: 400 bounding boxes\n",
      "Line 2039: 400 bounding boxes\n",
      "Line 2040: 400 bounding boxes\n",
      "Line 2041: 400 bounding boxes\n",
      "Line 2042: 400 bounding boxes\n",
      "Line 2043: 400 bounding boxes\n",
      "Line 2044: 400 bounding boxes\n",
      "Line 2045: 400 bounding boxes\n",
      "Line 2046: 400 bounding boxes\n",
      "Line 2047: 400 bounding boxes\n",
      "Line 2048: 400 bounding boxes\n",
      "Line 2049: 400 bounding boxes\n",
      "Line 2050: 400 bounding boxes\n",
      "Line 2051: 400 bounding boxes\n",
      "Line 2052: 400 bounding boxes\n",
      "Line 2053: 400 bounding boxes\n",
      "Line 2054: 400 bounding boxes\n",
      "Line 2055: 400 bounding boxes\n",
      "Line 2056: 400 bounding boxes\n",
      "Line 2057: 400 bounding boxes\n",
      "Line 2058: 400 bounding boxes\n",
      "Line 2059: 400 bounding boxes\n",
      "Line 2060: 400 bounding boxes\n",
      "Line 2061: 400 bounding boxes\n",
      "Line 2062: 400 bounding boxes\n",
      "Line 2063: 400 bounding boxes\n",
      "Line 2064: 400 bounding boxes\n",
      "Line 2065: 400 bounding boxes\n",
      "Line 2066: 400 bounding boxes\n",
      "Line 2067: 400 bounding boxes\n",
      "Line 2068: 400 bounding boxes\n",
      "Line 2069: 400 bounding boxes\n",
      "Line 2070: 400 bounding boxes\n",
      "Line 2071: 400 bounding boxes\n",
      "Line 2072: 400 bounding boxes\n",
      "Line 2073: 400 bounding boxes\n",
      "Line 2074: 400 bounding boxes\n",
      "Line 2075: 400 bounding boxes\n",
      "Line 2076: 400 bounding boxes\n",
      "Line 2077: 400 bounding boxes\n",
      "Line 2078: 400 bounding boxes\n",
      "Line 2079: 400 bounding boxes\n",
      "Line 2080: 400 bounding boxes\n",
      "Line 2081: 400 bounding boxes\n",
      "Line 2082: 400 bounding boxes\n",
      "Line 2083: 400 bounding boxes\n",
      "Line 2084: 400 bounding boxes\n",
      "Line 2085: 400 bounding boxes\n",
      "Line 2086: 400 bounding boxes\n",
      "Line 2087: 400 bounding boxes\n",
      "Line 2088: 400 bounding boxes\n",
      "Line 2089: 400 bounding boxes\n",
      "Line 2090: 400 bounding boxes\n",
      "Line 2091: 400 bounding boxes\n",
      "Line 2092: 400 bounding boxes\n",
      "Line 2093: 400 bounding boxes\n",
      "Line 2094: 400 bounding boxes\n",
      "Line 2095: 400 bounding boxes\n",
      "Line 2096: 400 bounding boxes\n",
      "Line 2097: 400 bounding boxes\n",
      "Line 2098: 400 bounding boxes\n",
      "Line 2099: 400 bounding boxes\n",
      "Line 2100: 400 bounding boxes\n",
      "Line 2101: 400 bounding boxes\n",
      "Line 2102: 400 bounding boxes\n",
      "Line 2103: 400 bounding boxes\n",
      "Line 2104: 400 bounding boxes\n",
      "Line 2105: 400 bounding boxes\n",
      "Line 2106: 400 bounding boxes\n",
      "Line 2107: 400 bounding boxes\n",
      "Line 2108: 400 bounding boxes\n",
      "Line 2109: 400 bounding boxes\n",
      "Line 2110: 400 bounding boxes\n",
      "Line 2111: 400 bounding boxes\n",
      "Line 2112: 400 bounding boxes\n",
      "Line 2113: 400 bounding boxes\n",
      "Line 2114: 400 bounding boxes\n",
      "Line 2115: 400 bounding boxes\n",
      "Line 2116: 400 bounding boxes\n",
      "Line 2117: 400 bounding boxes\n",
      "Line 2118: 400 bounding boxes\n",
      "Line 2119: 400 bounding boxes\n",
      "Line 2120: 400 bounding boxes\n",
      "Line 2121: 400 bounding boxes\n",
      "Line 2122: 400 bounding boxes\n",
      "Line 2123: 400 bounding boxes\n",
      "Line 2124: 400 bounding boxes\n",
      "Line 2125: 400 bounding boxes\n",
      "Line 2126: 400 bounding boxes\n",
      "Line 2127: 400 bounding boxes\n",
      "Line 2128: 400 bounding boxes\n",
      "Line 2129: 400 bounding boxes\n",
      "Line 2130: 400 bounding boxes\n",
      "Line 2131: 400 bounding boxes\n",
      "Line 2132: 400 bounding boxes\n",
      "Line 2133: 400 bounding boxes\n",
      "Line 2134: 400 bounding boxes\n",
      "Line 2135: 400 bounding boxes\n",
      "Line 2136: 400 bounding boxes\n",
      "Line 2137: 400 bounding boxes\n",
      "Line 2138: 400 bounding boxes\n",
      "Line 2139: 400 bounding boxes\n",
      "Line 2140: 400 bounding boxes\n",
      "Line 2141: 400 bounding boxes\n",
      "Line 2142: 400 bounding boxes\n",
      "Line 2143: 400 bounding boxes\n",
      "Line 2144: 400 bounding boxes\n",
      "Line 2145: 400 bounding boxes\n",
      "Line 2146: 400 bounding boxes\n",
      "Line 2147: 400 bounding boxes\n",
      "Line 2148: 400 bounding boxes\n",
      "Line 2149: 400 bounding boxes\n",
      "Line 2150: 400 bounding boxes\n",
      "Line 2151: 400 bounding boxes\n",
      "Line 2152: 400 bounding boxes\n",
      "Line 2153: 400 bounding boxes\n",
      "Line 2154: 400 bounding boxes\n",
      "Line 2155: 400 bounding boxes\n",
      "Line 2156: 400 bounding boxes\n",
      "Line 2157: 400 bounding boxes\n",
      "Line 2158: 400 bounding boxes\n",
      "Line 2159: 400 bounding boxes\n",
      "Line 2160: 400 bounding boxes\n",
      "Line 2161: 400 bounding boxes\n",
      "Line 2162: 400 bounding boxes\n",
      "Line 2163: 400 bounding boxes\n",
      "Line 2164: 400 bounding boxes\n",
      "Line 2165: 400 bounding boxes\n",
      "Line 2166: 400 bounding boxes\n",
      "Line 2167: 400 bounding boxes\n",
      "Line 2168: 400 bounding boxes\n",
      "Line 2169: 400 bounding boxes\n",
      "Line 2170: 400 bounding boxes\n",
      "Line 2171: 400 bounding boxes\n",
      "Line 2172: 400 bounding boxes\n",
      "Line 2173: 400 bounding boxes\n",
      "Line 2174: 400 bounding boxes\n",
      "Line 2175: 400 bounding boxes\n",
      "Line 2176: 400 bounding boxes\n",
      "Line 2177: 400 bounding boxes\n",
      "Line 2178: 400 bounding boxes\n",
      "Line 2179: 400 bounding boxes\n",
      "Line 2180: 400 bounding boxes\n",
      "Line 2181: 400 bounding boxes\n",
      "Line 2182: 400 bounding boxes\n",
      "Line 2183: 400 bounding boxes\n",
      "Line 2184: 400 bounding boxes\n",
      "Line 2185: 400 bounding boxes\n",
      "Line 2186: 400 bounding boxes\n",
      "Line 2187: 400 bounding boxes\n",
      "Line 2188: 400 bounding boxes\n",
      "Line 2189: 400 bounding boxes\n",
      "Line 2190: 400 bounding boxes\n",
      "Line 2191: 400 bounding boxes\n",
      "Line 2192: 400 bounding boxes\n",
      "Line 2193: 400 bounding boxes\n",
      "Line 2194: 400 bounding boxes\n",
      "Line 2195: 400 bounding boxes\n",
      "Line 2196: 400 bounding boxes\n",
      "Line 2197: 400 bounding boxes\n",
      "Line 2198: 400 bounding boxes\n",
      "Line 2199: 400 bounding boxes\n",
      "Line 2200: 400 bounding boxes\n",
      "Line 2201: 400 bounding boxes\n",
      "Line 2202: 400 bounding boxes\n",
      "Line 2203: 400 bounding boxes\n",
      "Line 2204: 400 bounding boxes\n",
      "Line 2205: 400 bounding boxes\n",
      "Line 2206: 400 bounding boxes\n",
      "Line 2207: 400 bounding boxes\n",
      "Line 2208: 400 bounding boxes\n",
      "Line 2209: 400 bounding boxes\n",
      "Line 2210: 400 bounding boxes\n",
      "Line 2211: 400 bounding boxes\n",
      "Line 2212: 400 bounding boxes\n",
      "Line 2213: 400 bounding boxes\n",
      "Line 2214: 400 bounding boxes\n",
      "Line 2215: 400 bounding boxes\n",
      "Line 2216: 400 bounding boxes\n",
      "Line 2217: 400 bounding boxes\n",
      "Line 2218: 400 bounding boxes\n",
      "Line 2219: 400 bounding boxes\n",
      "Line 2220: 400 bounding boxes\n",
      "Line 2221: 400 bounding boxes\n",
      "Line 2222: 400 bounding boxes\n",
      "Line 2223: 400 bounding boxes\n",
      "Line 2224: 400 bounding boxes\n",
      "Line 2225: 400 bounding boxes\n",
      "Line 2226: 400 bounding boxes\n",
      "Line 2227: 400 bounding boxes\n",
      "Line 2228: 400 bounding boxes\n",
      "Line 2229: 400 bounding boxes\n",
      "Line 2230: 400 bounding boxes\n",
      "Line 2231: 400 bounding boxes\n",
      "Line 2232: 400 bounding boxes\n",
      "Line 2233: 400 bounding boxes\n",
      "Line 2234: 400 bounding boxes\n",
      "Line 2235: 400 bounding boxes\n",
      "Line 2236: 400 bounding boxes\n",
      "Line 2237: 400 bounding boxes\n",
      "Line 2238: 400 bounding boxes\n",
      "Line 2239: 400 bounding boxes\n",
      "Line 2240: 400 bounding boxes\n",
      "Line 2241: 400 bounding boxes\n",
      "Line 2242: 400 bounding boxes\n",
      "Line 2243: 400 bounding boxes\n",
      "Line 2244: 400 bounding boxes\n",
      "Line 2245: 400 bounding boxes\n",
      "Line 2246: 400 bounding boxes\n",
      "Line 2247: 400 bounding boxes\n",
      "Line 2248: 400 bounding boxes\n",
      "Line 2249: 400 bounding boxes\n",
      "Line 2250: 400 bounding boxes\n",
      "Line 2251: 400 bounding boxes\n",
      "Line 2252: 400 bounding boxes\n",
      "Line 2253: 400 bounding boxes\n",
      "Line 2254: 400 bounding boxes\n",
      "Line 2255: 400 bounding boxes\n",
      "Line 2256: 400 bounding boxes\n",
      "Line 2257: 400 bounding boxes\n",
      "Line 2258: 400 bounding boxes\n",
      "Line 2259: 400 bounding boxes\n",
      "Line 2260: 400 bounding boxes\n",
      "Line 2261: 400 bounding boxes\n",
      "Line 2262: 400 bounding boxes\n",
      "Line 2263: 400 bounding boxes\n",
      "Line 2264: 400 bounding boxes\n",
      "Line 2265: 400 bounding boxes\n",
      "Line 2266: 400 bounding boxes\n",
      "Line 2267: 400 bounding boxes\n",
      "Line 2268: 400 bounding boxes\n",
      "Line 2269: 400 bounding boxes\n",
      "Line 2270: 400 bounding boxes\n",
      "Line 2271: 400 bounding boxes\n",
      "Line 2272: 400 bounding boxes\n",
      "Line 2273: 400 bounding boxes\n",
      "Line 2274: 400 bounding boxes\n",
      "Line 2275: 400 bounding boxes\n",
      "Line 2276: 400 bounding boxes\n",
      "Line 2277: 400 bounding boxes\n",
      "Line 2278: 400 bounding boxes\n",
      "Line 2279: 400 bounding boxes\n",
      "Line 2280: 400 bounding boxes\n",
      "Line 2281: 400 bounding boxes\n",
      "Line 2282: 400 bounding boxes\n",
      "Line 2283: 400 bounding boxes\n",
      "Line 2284: 400 bounding boxes\n",
      "Line 2285: 400 bounding boxes\n",
      "Line 2286: 400 bounding boxes\n",
      "Line 2287: 400 bounding boxes\n",
      "Line 2288: 400 bounding boxes\n",
      "Line 2289: 400 bounding boxes\n",
      "Line 2290: 400 bounding boxes\n",
      "Line 2291: 400 bounding boxes\n",
      "Line 2292: 400 bounding boxes\n",
      "Line 2293: 400 bounding boxes\n",
      "Line 2294: 400 bounding boxes\n",
      "Line 2295: 400 bounding boxes\n",
      "Line 2296: 400 bounding boxes\n",
      "Line 2297: 400 bounding boxes\n",
      "Line 2298: 400 bounding boxes\n",
      "Line 2299: 400 bounding boxes\n",
      "Line 2300: 400 bounding boxes\n",
      "Line 2301: 400 bounding boxes\n",
      "Line 2302: 400 bounding boxes\n",
      "Line 2303: 400 bounding boxes\n",
      "Line 2304: 400 bounding boxes\n",
      "Line 2305: 400 bounding boxes\n",
      "Line 2306: 400 bounding boxes\n",
      "Line 2307: 400 bounding boxes\n",
      "Line 2308: 400 bounding boxes\n",
      "Line 2309: 400 bounding boxes\n",
      "Line 2310: 400 bounding boxes\n",
      "Line 2311: 400 bounding boxes\n",
      "Line 2312: 400 bounding boxes\n",
      "Line 2313: 400 bounding boxes\n",
      "Line 2314: 400 bounding boxes\n",
      "Line 2315: 400 bounding boxes\n",
      "Line 2316: 400 bounding boxes\n",
      "Line 2317: 400 bounding boxes\n",
      "Line 2318: 400 bounding boxes\n",
      "Line 2319: 400 bounding boxes\n",
      "Line 2320: 400 bounding boxes\n",
      "Line 2321: 400 bounding boxes\n",
      "Line 2322: 400 bounding boxes\n",
      "Line 2323: 400 bounding boxes\n",
      "Line 2324: 400 bounding boxes\n",
      "Line 2325: 400 bounding boxes\n",
      "Line 2326: 400 bounding boxes\n",
      "Line 2327: 400 bounding boxes\n",
      "Line 2328: 400 bounding boxes\n",
      "Line 2329: 400 bounding boxes\n",
      "Line 2330: 400 bounding boxes\n",
      "Line 2331: 400 bounding boxes\n",
      "Line 2332: 400 bounding boxes\n",
      "Line 2333: 400 bounding boxes\n",
      "Line 2334: 400 bounding boxes\n",
      "Line 2335: 400 bounding boxes\n",
      "Line 2336: 400 bounding boxes\n",
      "Line 2337: 400 bounding boxes\n",
      "Line 2338: 400 bounding boxes\n",
      "Line 2339: 400 bounding boxes\n",
      "Line 2340: 400 bounding boxes\n",
      "Line 2341: 400 bounding boxes\n",
      "Line 2342: 400 bounding boxes\n",
      "Line 2343: 400 bounding boxes\n",
      "Line 2344: 400 bounding boxes\n",
      "Line 2345: 400 bounding boxes\n",
      "Line 2346: 400 bounding boxes\n",
      "Line 2347: 400 bounding boxes\n",
      "Line 2348: 400 bounding boxes\n",
      "Line 2349: 400 bounding boxes\n",
      "Line 2350: 400 bounding boxes\n",
      "Line 2351: 400 bounding boxes\n",
      "Line 2352: 400 bounding boxes\n",
      "Line 2353: 400 bounding boxes\n",
      "Line 2354: 400 bounding boxes\n",
      "Line 2355: 400 bounding boxes\n",
      "Line 2356: 400 bounding boxes\n",
      "Line 2357: 400 bounding boxes\n",
      "Line 2358: 400 bounding boxes\n",
      "Line 2359: 400 bounding boxes\n",
      "Line 2360: 400 bounding boxes\n",
      "Line 2361: 400 bounding boxes\n",
      "Line 2362: 400 bounding boxes\n",
      "Line 2363: 400 bounding boxes\n",
      "Line 2364: 400 bounding boxes\n",
      "Line 2365: 400 bounding boxes\n",
      "Line 2366: 400 bounding boxes\n",
      "Line 2367: 400 bounding boxes\n",
      "Line 2368: 400 bounding boxes\n",
      "Line 2369: 400 bounding boxes\n",
      "Line 2370: 400 bounding boxes\n",
      "Line 2371: 400 bounding boxes\n",
      "Line 2372: 400 bounding boxes\n",
      "Line 2373: 400 bounding boxes\n",
      "Line 2374: 400 bounding boxes\n",
      "Line 2375: 400 bounding boxes\n",
      "Line 2376: 400 bounding boxes\n",
      "Line 2377: 400 bounding boxes\n",
      "Line 2378: 400 bounding boxes\n",
      "Line 2379: 400 bounding boxes\n",
      "Line 2380: 400 bounding boxes\n",
      "Line 2381: 400 bounding boxes\n",
      "Line 2382: 400 bounding boxes\n",
      "Line 2383: 400 bounding boxes\n",
      "Line 2384: 400 bounding boxes\n",
      "Line 2385: 400 bounding boxes\n",
      "Line 2386: 400 bounding boxes\n",
      "Line 2387: 400 bounding boxes\n",
      "Line 2388: 400 bounding boxes\n",
      "Line 2389: 400 bounding boxes\n",
      "Line 2390: 400 bounding boxes\n",
      "Line 2391: 400 bounding boxes\n",
      "Line 2392: 400 bounding boxes\n",
      "Line 2393: 400 bounding boxes\n",
      "Line 2394: 400 bounding boxes\n",
      "Line 2395: 400 bounding boxes\n",
      "Line 2396: 400 bounding boxes\n",
      "Line 2397: 400 bounding boxes\n",
      "Line 2398: 400 bounding boxes\n",
      "Line 2399: 400 bounding boxes\n",
      "Line 2400: 400 bounding boxes\n",
      "Line 2401: 400 bounding boxes\n",
      "Line 2402: 400 bounding boxes\n",
      "Line 2403: 400 bounding boxes\n",
      "Line 2404: 400 bounding boxes\n",
      "Line 2405: 400 bounding boxes\n",
      "Line 2406: 400 bounding boxes\n",
      "Line 2407: 400 bounding boxes\n",
      "Line 2408: 400 bounding boxes\n",
      "Line 2409: 400 bounding boxes\n",
      "Line 2410: 400 bounding boxes\n",
      "Line 2411: 400 bounding boxes\n",
      "Line 2412: 400 bounding boxes\n",
      "Line 2413: 400 bounding boxes\n",
      "Line 2414: 400 bounding boxes\n",
      "Line 2415: 400 bounding boxes\n",
      "Line 2416: 400 bounding boxes\n",
      "Line 2417: 400 bounding boxes\n",
      "Line 2418: 400 bounding boxes\n",
      "Line 2419: 400 bounding boxes\n",
      "Line 2420: 400 bounding boxes\n",
      "Line 2421: 400 bounding boxes\n",
      "Line 2422: 400 bounding boxes\n",
      "Line 2423: 400 bounding boxes\n",
      "Line 2424: 400 bounding boxes\n",
      "Line 2425: 400 bounding boxes\n",
      "Line 2426: 400 bounding boxes\n",
      "Line 2427: 400 bounding boxes\n",
      "Line 2428: 400 bounding boxes\n",
      "Line 2429: 400 bounding boxes\n",
      "Line 2430: 400 bounding boxes\n",
      "Line 2431: 400 bounding boxes\n",
      "Line 2432: 400 bounding boxes\n",
      "Line 2433: 400 bounding boxes\n",
      "Line 2434: 400 bounding boxes\n",
      "Line 2435: 400 bounding boxes\n",
      "Line 2436: 400 bounding boxes\n",
      "Line 2437: 400 bounding boxes\n",
      "Line 2438: 400 bounding boxes\n",
      "Line 2439: 400 bounding boxes\n",
      "Line 2440: 400 bounding boxes\n",
      "Line 2441: 400 bounding boxes\n",
      "Line 2442: 400 bounding boxes\n",
      "Line 2443: 400 bounding boxes\n",
      "Line 2444: 400 bounding boxes\n",
      "Line 2445: 400 bounding boxes\n",
      "Line 2446: 400 bounding boxes\n",
      "Line 2447: 400 bounding boxes\n",
      "Line 2448: 400 bounding boxes\n",
      "Line 2449: 400 bounding boxes\n",
      "Line 2450: 400 bounding boxes\n",
      "Line 2451: 400 bounding boxes\n",
      "Line 2452: 400 bounding boxes\n",
      "Line 2453: 400 bounding boxes\n",
      "Line 2454: 400 bounding boxes\n",
      "Line 2455: 400 bounding boxes\n",
      "Line 2456: 400 bounding boxes\n",
      "Line 2457: 400 bounding boxes\n",
      "Line 2458: 400 bounding boxes\n",
      "Line 2459: 400 bounding boxes\n",
      "Line 2460: 400 bounding boxes\n",
      "Line 2461: 400 bounding boxes\n",
      "Line 2462: 400 bounding boxes\n",
      "Line 2463: 400 bounding boxes\n",
      "Line 2464: 400 bounding boxes\n",
      "Line 2465: 400 bounding boxes\n",
      "Line 2466: 400 bounding boxes\n",
      "Line 2467: 400 bounding boxes\n",
      "Line 2468: 400 bounding boxes\n",
      "Line 2469: 400 bounding boxes\n",
      "Line 2470: 400 bounding boxes\n",
      "Line 2471: 400 bounding boxes\n",
      "Line 2472: 400 bounding boxes\n",
      "Line 2473: 400 bounding boxes\n",
      "Line 2474: 400 bounding boxes\n",
      "Line 2475: 400 bounding boxes\n",
      "Line 2476: 400 bounding boxes\n",
      "Line 2477: 400 bounding boxes\n",
      "Line 2478: 400 bounding boxes\n",
      "Line 2479: 400 bounding boxes\n",
      "Line 2480: 400 bounding boxes\n",
      "Line 2481: 400 bounding boxes\n",
      "Line 2482: 400 bounding boxes\n",
      "Line 2483: 400 bounding boxes\n",
      "Line 2484: 400 bounding boxes\n",
      "Line 2485: 400 bounding boxes\n",
      "Line 2486: 400 bounding boxes\n",
      "Line 2487: 400 bounding boxes\n",
      "Line 2488: 400 bounding boxes\n",
      "Line 2489: 400 bounding boxes\n",
      "Line 2490: 400 bounding boxes\n",
      "Line 2491: 400 bounding boxes\n",
      "Line 2492: 400 bounding boxes\n",
      "Line 2493: 400 bounding boxes\n",
      "Line 2494: 400 bounding boxes\n",
      "Line 2495: 400 bounding boxes\n",
      "Line 2496: 400 bounding boxes\n",
      "Line 2497: 400 bounding boxes\n",
      "Line 2498: 400 bounding boxes\n",
      "Line 2499: 400 bounding boxes\n",
      "Line 2500: 400 bounding boxes\n",
      "Line 2501: 400 bounding boxes\n",
      "Line 2502: 400 bounding boxes\n",
      "Line 2503: 400 bounding boxes\n",
      "Line 2504: 400 bounding boxes\n",
      "Line 2505: 400 bounding boxes\n",
      "Line 2506: 400 bounding boxes\n",
      "Line 2507: 400 bounding boxes\n",
      "Line 2508: 400 bounding boxes\n",
      "Line 2509: 400 bounding boxes\n",
      "Line 2510: 400 bounding boxes\n",
      "Line 2511: 400 bounding boxes\n",
      "Line 2512: 400 bounding boxes\n",
      "Line 2513: 400 bounding boxes\n",
      "Line 2514: 400 bounding boxes\n",
      "Line 2515: 400 bounding boxes\n",
      "Line 2516: 400 bounding boxes\n",
      "Line 2517: 400 bounding boxes\n",
      "Line 2518: 400 bounding boxes\n",
      "Line 2519: 400 bounding boxes\n",
      "Line 2520: 400 bounding boxes\n",
      "Line 2521: 400 bounding boxes\n",
      "Line 2522: 400 bounding boxes\n",
      "Line 2523: 400 bounding boxes\n",
      "Line 2524: 400 bounding boxes\n",
      "Line 2525: 400 bounding boxes\n",
      "Line 2526: 400 bounding boxes\n",
      "Line 2527: 400 bounding boxes\n",
      "Line 2528: 400 bounding boxes\n",
      "Line 2529: 400 bounding boxes\n",
      "Line 2530: 400 bounding boxes\n",
      "Line 2531: 400 bounding boxes\n",
      "Line 2532: 400 bounding boxes\n",
      "Line 2533: 400 bounding boxes\n",
      "Line 2534: 400 bounding boxes\n",
      "Line 2535: 400 bounding boxes\n",
      "Line 2536: 400 bounding boxes\n",
      "Line 2537: 400 bounding boxes\n",
      "Line 2538: 400 bounding boxes\n",
      "Line 2539: 400 bounding boxes\n",
      "Line 2540: 400 bounding boxes\n",
      "Line 2541: 400 bounding boxes\n",
      "Line 2542: 400 bounding boxes\n",
      "Line 2543: 400 bounding boxes\n",
      "Line 2544: 400 bounding boxes\n",
      "Line 2545: 400 bounding boxes\n",
      "Line 2546: 400 bounding boxes\n",
      "Line 2547: 400 bounding boxes\n",
      "Line 2548: 400 bounding boxes\n",
      "Line 2549: 400 bounding boxes\n",
      "Line 2550: 400 bounding boxes\n",
      "Line 2551: 400 bounding boxes\n",
      "Line 2552: 400 bounding boxes\n",
      "Line 2553: 400 bounding boxes\n",
      "Line 2554: 400 bounding boxes\n",
      "Line 2555: 400 bounding boxes\n",
      "Line 2556: 400 bounding boxes\n",
      "Line 2557: 400 bounding boxes\n",
      "Line 2558: 400 bounding boxes\n",
      "Line 2559: 400 bounding boxes\n",
      "Line 2560: 400 bounding boxes\n",
      "Line 2561: 400 bounding boxes\n",
      "Line 2562: 400 bounding boxes\n",
      "Line 2563: 400 bounding boxes\n",
      "Line 2564: 400 bounding boxes\n",
      "Line 2565: 400 bounding boxes\n",
      "Line 2566: 400 bounding boxes\n",
      "Line 2567: 400 bounding boxes\n",
      "Line 2568: 400 bounding boxes\n",
      "Line 2569: 400 bounding boxes\n",
      "Line 2570: 400 bounding boxes\n",
      "Line 2571: 400 bounding boxes\n",
      "Line 2572: 400 bounding boxes\n",
      "Line 2573: 400 bounding boxes\n",
      "Line 2574: 400 bounding boxes\n",
      "Line 2575: 400 bounding boxes\n",
      "Line 2576: 400 bounding boxes\n",
      "Line 2577: 400 bounding boxes\n",
      "Line 2578: 400 bounding boxes\n",
      "Line 2579: 400 bounding boxes\n",
      "Line 2580: 400 bounding boxes\n",
      "Line 2581: 400 bounding boxes\n",
      "Line 2582: 400 bounding boxes\n",
      "Line 2583: 400 bounding boxes\n",
      "Line 2584: 400 bounding boxes\n",
      "Line 2585: 400 bounding boxes\n",
      "Line 2586: 400 bounding boxes\n",
      "Line 2587: 400 bounding boxes\n",
      "Line 2588: 400 bounding boxes\n",
      "Line 2589: 400 bounding boxes\n",
      "Line 2590: 400 bounding boxes\n",
      "Line 2591: 400 bounding boxes\n",
      "Line 2592: 400 bounding boxes\n",
      "Line 2593: 400 bounding boxes\n",
      "Line 2594: 400 bounding boxes\n",
      "Line 2595: 400 bounding boxes\n",
      "Line 2596: 400 bounding boxes\n",
      "Line 2597: 400 bounding boxes\n",
      "Line 2598: 400 bounding boxes\n",
      "Line 2599: 400 bounding boxes\n",
      "Line 2600: 400 bounding boxes\n",
      "Line 2601: 400 bounding boxes\n",
      "Line 2602: 400 bounding boxes\n",
      "Line 2603: 400 bounding boxes\n",
      "Line 2604: 400 bounding boxes\n",
      "Line 2605: 400 bounding boxes\n",
      "Line 2606: 400 bounding boxes\n",
      "Line 2607: 400 bounding boxes\n",
      "Line 2608: 400 bounding boxes\n",
      "Line 2609: 400 bounding boxes\n",
      "Line 2610: 400 bounding boxes\n",
      "Line 2611: 400 bounding boxes\n",
      "Line 2612: 400 bounding boxes\n",
      "Line 2613: 400 bounding boxes\n",
      "Line 2614: 400 bounding boxes\n",
      "Line 2615: 400 bounding boxes\n",
      "Line 2616: 400 bounding boxes\n",
      "Line 2617: 400 bounding boxes\n",
      "Line 2618: 400 bounding boxes\n",
      "Line 2619: 400 bounding boxes\n",
      "Line 2620: 400 bounding boxes\n",
      "Line 2621: 400 bounding boxes\n",
      "Line 2622: 400 bounding boxes\n",
      "Line 2623: 400 bounding boxes\n",
      "Line 2624: 400 bounding boxes\n",
      "Line 2625: 400 bounding boxes\n",
      "Line 2626: 400 bounding boxes\n",
      "Line 2627: 400 bounding boxes\n",
      "Line 2628: 400 bounding boxes\n",
      "Line 2629: 400 bounding boxes\n",
      "Line 2630: 400 bounding boxes\n",
      "Line 2631: 400 bounding boxes\n",
      "Line 2632: 400 bounding boxes\n",
      "Line 2633: 400 bounding boxes\n",
      "Line 2634: 400 bounding boxes\n",
      "Line 2635: 400 bounding boxes\n",
      "Line 2636: 400 bounding boxes\n",
      "Line 2637: 400 bounding boxes\n",
      "Line 2638: 400 bounding boxes\n",
      "Line 2639: 400 bounding boxes\n",
      "Line 2640: 400 bounding boxes\n",
      "Line 2641: 400 bounding boxes\n",
      "Line 2642: 400 bounding boxes\n",
      "Line 2643: 400 bounding boxes\n",
      "Line 2644: 400 bounding boxes\n",
      "Line 2645: 400 bounding boxes\n",
      "Line 2646: 400 bounding boxes\n",
      "Line 2647: 400 bounding boxes\n",
      "Line 2648: 400 bounding boxes\n",
      "Line 2649: 400 bounding boxes\n",
      "Line 2650: 400 bounding boxes\n",
      "Line 2651: 400 bounding boxes\n",
      "Line 2652: 400 bounding boxes\n",
      "Line 2653: 400 bounding boxes\n",
      "Line 2654: 400 bounding boxes\n",
      "Line 2655: 400 bounding boxes\n",
      "Line 2656: 400 bounding boxes\n",
      "Line 2657: 400 bounding boxes\n",
      "Line 2658: 400 bounding boxes\n",
      "Line 2659: 400 bounding boxes\n",
      "Line 2660: 400 bounding boxes\n",
      "Line 2661: 400 bounding boxes\n",
      "Line 2662: 400 bounding boxes\n",
      "Line 2663: 400 bounding boxes\n",
      "Line 2664: 400 bounding boxes\n",
      "Line 2665: 400 bounding boxes\n",
      "Line 2666: 400 bounding boxes\n",
      "Line 2667: 400 bounding boxes\n",
      "Line 2668: 400 bounding boxes\n",
      "Line 2669: 400 bounding boxes\n",
      "Line 2670: 400 bounding boxes\n",
      "Line 2671: 400 bounding boxes\n",
      "Line 2672: 400 bounding boxes\n",
      "Line 2673: 400 bounding boxes\n",
      "Line 2674: 400 bounding boxes\n",
      "Line 2675: 400 bounding boxes\n",
      "Line 2676: 400 bounding boxes\n",
      "Line 2677: 400 bounding boxes\n",
      "Line 2678: 400 bounding boxes\n",
      "Line 2679: 400 bounding boxes\n",
      "Line 2680: 400 bounding boxes\n",
      "Line 2681: 400 bounding boxes\n",
      "Line 2682: 400 bounding boxes\n",
      "Line 2683: 400 bounding boxes\n",
      "Line 2684: 400 bounding boxes\n",
      "Line 2685: 400 bounding boxes\n",
      "Line 2686: 400 bounding boxes\n",
      "Line 2687: 400 bounding boxes\n",
      "Line 2688: 400 bounding boxes\n",
      "Line 2689: 400 bounding boxes\n",
      "Line 2690: 400 bounding boxes\n",
      "Line 2691: 400 bounding boxes\n",
      "Line 2692: 400 bounding boxes\n",
      "Line 2693: 400 bounding boxes\n",
      "Line 2694: 400 bounding boxes\n",
      "Line 2695: 400 bounding boxes\n",
      "Line 2696: 400 bounding boxes\n",
      "Line 2697: 400 bounding boxes\n",
      "Line 2698: 400 bounding boxes\n",
      "Line 2699: 400 bounding boxes\n",
      "Line 2700: 400 bounding boxes\n",
      "Line 2701: 400 bounding boxes\n",
      "Line 2702: 400 bounding boxes\n",
      "Line 2703: 400 bounding boxes\n",
      "Line 2704: 400 bounding boxes\n",
      "Line 2705: 400 bounding boxes\n",
      "Line 2706: 400 bounding boxes\n",
      "Line 2707: 400 bounding boxes\n",
      "Line 2708: 400 bounding boxes\n",
      "Line 2709: 400 bounding boxes\n",
      "Line 2710: 400 bounding boxes\n",
      "Line 2711: 400 bounding boxes\n",
      "Line 2712: 400 bounding boxes\n",
      "Line 2713: 400 bounding boxes\n",
      "Line 2714: 400 bounding boxes\n",
      "Line 2715: 400 bounding boxes\n",
      "Line 2716: 400 bounding boxes\n",
      "Line 2717: 400 bounding boxes\n",
      "Line 2718: 400 bounding boxes\n",
      "Line 2719: 400 bounding boxes\n",
      "Line 2720: 400 bounding boxes\n",
      "Line 2721: 400 bounding boxes\n",
      "Line 2722: 400 bounding boxes\n",
      "Line 2723: 400 bounding boxes\n",
      "Line 2724: 400 bounding boxes\n",
      "Line 2725: 400 bounding boxes\n",
      "Line 2726: 400 bounding boxes\n",
      "Line 2727: 400 bounding boxes\n",
      "Line 2728: 400 bounding boxes\n",
      "Line 2729: 400 bounding boxes\n",
      "Line 2730: 400 bounding boxes\n",
      "Line 2731: 400 bounding boxes\n",
      "Line 2732: 400 bounding boxes\n",
      "Line 2733: 400 bounding boxes\n",
      "Line 2734: 400 bounding boxes\n",
      "Line 2735: 400 bounding boxes\n",
      "Line 2736: 400 bounding boxes\n",
      "Line 2737: 400 bounding boxes\n",
      "Line 2738: 400 bounding boxes\n",
      "Line 2739: 400 bounding boxes\n",
      "Line 2740: 400 bounding boxes\n",
      "Line 2741: 400 bounding boxes\n",
      "Line 2742: 400 bounding boxes\n",
      "Line 2743: 400 bounding boxes\n",
      "Line 2744: 400 bounding boxes\n",
      "Line 2745: 400 bounding boxes\n",
      "Line 2746: 400 bounding boxes\n",
      "Line 2747: 400 bounding boxes\n",
      "Line 2748: 400 bounding boxes\n",
      "Line 2749: 400 bounding boxes\n",
      "Line 2750: 400 bounding boxes\n",
      "Line 2751: 400 bounding boxes\n",
      "Line 2752: 400 bounding boxes\n",
      "Line 2753: 400 bounding boxes\n",
      "Line 2754: 400 bounding boxes\n",
      "Line 2755: 400 bounding boxes\n",
      "Line 2756: 400 bounding boxes\n",
      "Line 2757: 400 bounding boxes\n",
      "Line 2758: 400 bounding boxes\n",
      "Line 2759: 400 bounding boxes\n",
      "Line 2760: 400 bounding boxes\n",
      "Line 2761: 400 bounding boxes\n",
      "Line 2762: 400 bounding boxes\n",
      "Line 2763: 400 bounding boxes\n",
      "Line 2764: 400 bounding boxes\n",
      "Line 2765: 400 bounding boxes\n",
      "Line 2766: 400 bounding boxes\n",
      "Line 2767: 400 bounding boxes\n",
      "Line 2768: 400 bounding boxes\n",
      "Line 2769: 400 bounding boxes\n",
      "Line 2770: 400 bounding boxes\n",
      "Line 2771: 400 bounding boxes\n",
      "Line 2772: 400 bounding boxes\n",
      "Line 2773: 400 bounding boxes\n",
      "Line 2774: 400 bounding boxes\n",
      "Line 2775: 400 bounding boxes\n",
      "Line 2776: 400 bounding boxes\n",
      "Line 2777: 400 bounding boxes\n",
      "Line 2778: 400 bounding boxes\n",
      "Line 2779: 400 bounding boxes\n",
      "Line 2780: 400 bounding boxes\n",
      "Line 2781: 400 bounding boxes\n",
      "Line 2782: 400 bounding boxes\n",
      "Line 2783: 400 bounding boxes\n",
      "Line 2784: 400 bounding boxes\n",
      "Line 2785: 400 bounding boxes\n",
      "Line 2786: 400 bounding boxes\n",
      "Line 2787: 400 bounding boxes\n",
      "Line 2788: 400 bounding boxes\n",
      "Line 2789: 400 bounding boxes\n",
      "Line 2790: 400 bounding boxes\n",
      "Line 2791: 400 bounding boxes\n",
      "Line 2792: 400 bounding boxes\n",
      "Line 2793: 400 bounding boxes\n",
      "Line 2794: 400 bounding boxes\n",
      "Line 2795: 400 bounding boxes\n",
      "Line 2796: 400 bounding boxes\n",
      "Line 2797: 400 bounding boxes\n",
      "Line 2798: 400 bounding boxes\n",
      "Line 2799: 400 bounding boxes\n",
      "Line 2800: 400 bounding boxes\n",
      "Line 2801: 400 bounding boxes\n",
      "Line 2802: 400 bounding boxes\n",
      "Line 2803: 400 bounding boxes\n",
      "Line 2804: 400 bounding boxes\n",
      "Line 2805: 400 bounding boxes\n",
      "Line 2806: 400 bounding boxes\n",
      "Line 2807: 400 bounding boxes\n",
      "Line 2808: 400 bounding boxes\n",
      "Line 2809: 400 bounding boxes\n",
      "Line 2810: 400 bounding boxes\n",
      "Line 2811: 400 bounding boxes\n",
      "Line 2812: 400 bounding boxes\n",
      "Line 2813: 400 bounding boxes\n",
      "Line 2814: 400 bounding boxes\n",
      "Line 2815: 400 bounding boxes\n",
      "Line 2816: 400 bounding boxes\n",
      "Line 2817: 400 bounding boxes\n",
      "Line 2818: 400 bounding boxes\n",
      "Line 2819: 400 bounding boxes\n",
      "Line 2820: 400 bounding boxes\n",
      "Line 2821: 400 bounding boxes\n",
      "Line 2822: 400 bounding boxes\n",
      "Line 2823: 400 bounding boxes\n",
      "Line 2824: 400 bounding boxes\n",
      "Line 2825: 400 bounding boxes\n",
      "Line 2826: 400 bounding boxes\n",
      "Line 2827: 400 bounding boxes\n",
      "Line 2828: 400 bounding boxes\n",
      "Line 2829: 400 bounding boxes\n",
      "Line 2830: 400 bounding boxes\n",
      "Line 2831: 400 bounding boxes\n",
      "Line 2832: 400 bounding boxes\n",
      "Line 2833: 400 bounding boxes\n",
      "Line 2834: 400 bounding boxes\n",
      "Line 2835: 400 bounding boxes\n",
      "Line 2836: 400 bounding boxes\n",
      "Line 2837: 400 bounding boxes\n",
      "Line 2838: 400 bounding boxes\n",
      "Line 2839: 400 bounding boxes\n",
      "Line 2840: 400 bounding boxes\n",
      "Line 2841: 400 bounding boxes\n",
      "Line 2842: 400 bounding boxes\n",
      "Line 2843: 400 bounding boxes\n",
      "Line 2844: 400 bounding boxes\n",
      "Line 2845: 400 bounding boxes\n",
      "Line 2846: 400 bounding boxes\n",
      "Line 2847: 400 bounding boxes\n",
      "Line 2848: 400 bounding boxes\n",
      "Line 2849: 400 bounding boxes\n",
      "Line 2850: 400 bounding boxes\n",
      "Line 2851: 400 bounding boxes\n",
      "Line 2852: 400 bounding boxes\n",
      "Line 2853: 400 bounding boxes\n",
      "Line 2854: 400 bounding boxes\n",
      "Line 2855: 400 bounding boxes\n",
      "Line 2856: 400 bounding boxes\n",
      "Line 2857: 400 bounding boxes\n",
      "Line 2858: 400 bounding boxes\n",
      "Line 2859: 400 bounding boxes\n",
      "Line 2860: 400 bounding boxes\n",
      "Line 2861: 400 bounding boxes\n",
      "Line 2862: 400 bounding boxes\n",
      "Line 2863: 400 bounding boxes\n",
      "Line 2864: 400 bounding boxes\n",
      "Line 2865: 400 bounding boxes\n",
      "Line 2866: 400 bounding boxes\n",
      "Line 2867: 400 bounding boxes\n",
      "Line 2868: 400 bounding boxes\n",
      "Line 2869: 400 bounding boxes\n",
      "Line 2870: 400 bounding boxes\n",
      "Line 2871: 400 bounding boxes\n",
      "Line 2872: 400 bounding boxes\n",
      "Line 2873: 400 bounding boxes\n",
      "Line 2874: 400 bounding boxes\n",
      "Line 2875: 400 bounding boxes\n",
      "Line 2876: 400 bounding boxes\n",
      "Line 2877: 400 bounding boxes\n",
      "Line 2878: 400 bounding boxes\n",
      "Line 2879: 400 bounding boxes\n",
      "Line 2880: 400 bounding boxes\n",
      "Line 2881: 400 bounding boxes\n",
      "Line 2882: 400 bounding boxes\n",
      "Line 2883: 400 bounding boxes\n",
      "Line 2884: 400 bounding boxes\n",
      "Line 2885: 400 bounding boxes\n",
      "Line 2886: 400 bounding boxes\n",
      "Line 2887: 400 bounding boxes\n",
      "Line 2888: 400 bounding boxes\n",
      "Line 2889: 400 bounding boxes\n",
      "Line 2890: 400 bounding boxes\n",
      "Line 2891: 400 bounding boxes\n",
      "Line 2892: 400 bounding boxes\n",
      "Line 2893: 400 bounding boxes\n",
      "Line 2894: 400 bounding boxes\n",
      "Line 2895: 400 bounding boxes\n",
      "Line 2896: 400 bounding boxes\n",
      "Line 2897: 400 bounding boxes\n",
      "Line 2898: 400 bounding boxes\n",
      "Line 2899: 400 bounding boxes\n",
      "Line 2900: 400 bounding boxes\n",
      "Line 2901: 400 bounding boxes\n",
      "Line 2902: 400 bounding boxes\n",
      "Line 2903: 400 bounding boxes\n",
      "Line 2904: 400 bounding boxes\n",
      "Line 2905: 400 bounding boxes\n",
      "Line 2906: 400 bounding boxes\n",
      "Line 2907: 400 bounding boxes\n",
      "Line 2908: 400 bounding boxes\n",
      "Line 2909: 400 bounding boxes\n",
      "Line 2910: 400 bounding boxes\n",
      "Line 2911: 400 bounding boxes\n",
      "Line 2912: 400 bounding boxes\n",
      "Line 2913: 400 bounding boxes\n",
      "Line 2914: 400 bounding boxes\n",
      "Line 2915: 400 bounding boxes\n",
      "Line 2916: 400 bounding boxes\n",
      "Line 2917: 400 bounding boxes\n",
      "Line 2918: 400 bounding boxes\n",
      "Line 2919: 400 bounding boxes\n",
      "Line 2920: 400 bounding boxes\n",
      "Line 2921: 400 bounding boxes\n",
      "Line 2922: 400 bounding boxes\n",
      "Line 2923: 400 bounding boxes\n",
      "Line 2924: 400 bounding boxes\n",
      "Line 2925: 400 bounding boxes\n",
      "Line 2926: 400 bounding boxes\n",
      "Line 2927: 400 bounding boxes\n",
      "Line 2928: 400 bounding boxes\n",
      "Line 2929: 400 bounding boxes\n",
      "Line 2930: 400 bounding boxes\n",
      "Line 2931: 400 bounding boxes\n",
      "Line 2932: 400 bounding boxes\n",
      "Line 2933: 400 bounding boxes\n",
      "Line 2934: 400 bounding boxes\n",
      "Line 2935: 400 bounding boxes\n",
      "Line 2936: 400 bounding boxes\n",
      "Line 2937: 400 bounding boxes\n",
      "Line 2938: 400 bounding boxes\n",
      "Line 2939: 400 bounding boxes\n",
      "Line 2940: 400 bounding boxes\n",
      "Line 2941: 400 bounding boxes\n",
      "Line 2942: 400 bounding boxes\n",
      "Line 2943: 400 bounding boxes\n",
      "Line 2944: 400 bounding boxes\n",
      "Line 2945: 400 bounding boxes\n",
      "Line 2946: 400 bounding boxes\n",
      "Line 2947: 400 bounding boxes\n",
      "Line 2948: 400 bounding boxes\n",
      "Line 2949: 400 bounding boxes\n",
      "Line 2950: 400 bounding boxes\n",
      "Line 2951: 400 bounding boxes\n",
      "Line 2952: 400 bounding boxes\n",
      "Line 2953: 400 bounding boxes\n",
      "Line 2954: 400 bounding boxes\n",
      "Line 2955: 400 bounding boxes\n",
      "Line 2956: 400 bounding boxes\n",
      "Line 2957: 400 bounding boxes\n",
      "Line 2958: 400 bounding boxes\n",
      "Line 2959: 400 bounding boxes\n",
      "Line 2960: 400 bounding boxes\n",
      "Line 2961: 400 bounding boxes\n",
      "Line 2962: 400 bounding boxes\n",
      "Line 2963: 400 bounding boxes\n",
      "Line 2964: 400 bounding boxes\n",
      "Line 2965: 400 bounding boxes\n",
      "Line 2966: 400 bounding boxes\n",
      "Line 2967: 400 bounding boxes\n",
      "Line 2968: 400 bounding boxes\n",
      "Line 2969: 400 bounding boxes\n",
      "Line 2970: 400 bounding boxes\n",
      "Line 2971: 400 bounding boxes\n",
      "Line 2972: 400 bounding boxes\n",
      "Line 2973: 400 bounding boxes\n",
      "Line 2974: 400 bounding boxes\n",
      "Line 2975: 400 bounding boxes\n",
      "Line 2976: 400 bounding boxes\n",
      "Line 2977: 400 bounding boxes\n",
      "Line 2978: 400 bounding boxes\n",
      "Line 2979: 400 bounding boxes\n",
      "Line 2980: 400 bounding boxes\n",
      "Line 2981: 400 bounding boxes\n",
      "Line 2982: 400 bounding boxes\n",
      "Line 2983: 400 bounding boxes\n",
      "Line 2984: 400 bounding boxes\n",
      "Line 2985: 400 bounding boxes\n",
      "Line 2986: 400 bounding boxes\n",
      "Line 2987: 400 bounding boxes\n",
      "Line 2988: 400 bounding boxes\n",
      "Line 2989: 400 bounding boxes\n",
      "Line 2990: 400 bounding boxes\n",
      "Line 2991: 400 bounding boxes\n",
      "Line 2992: 400 bounding boxes\n",
      "Line 2993: 400 bounding boxes\n",
      "Line 2994: 400 bounding boxes\n",
      "Line 2995: 400 bounding boxes\n",
      "Line 2996: 400 bounding boxes\n",
      "Line 2997: 400 bounding boxes\n",
      "Line 2998: 400 bounding boxes\n",
      "Line 2999: 400 bounding boxes\n",
      "Line 3000: 400 bounding boxes\n",
      "Line 3001: 400 bounding boxes\n",
      "Line 3002: 400 bounding boxes\n",
      "Line 3003: 400 bounding boxes\n",
      "Line 3004: 400 bounding boxes\n",
      "Line 3005: 400 bounding boxes\n",
      "Line 3006: 400 bounding boxes\n",
      "Line 3007: 400 bounding boxes\n",
      "Line 3008: 400 bounding boxes\n",
      "Line 3009: 400 bounding boxes\n",
      "Line 3010: 400 bounding boxes\n",
      "Line 3011: 400 bounding boxes\n",
      "Line 3012: 400 bounding boxes\n",
      "Line 3013: 400 bounding boxes\n",
      "Line 3014: 400 bounding boxes\n",
      "Line 3015: 400 bounding boxes\n",
      "Line 3016: 400 bounding boxes\n",
      "Line 3017: 400 bounding boxes\n",
      "Line 3018: 400 bounding boxes\n",
      "Line 3019: 400 bounding boxes\n",
      "Line 3020: 400 bounding boxes\n",
      "Line 3021: 400 bounding boxes\n",
      "Line 3022: 400 bounding boxes\n",
      "Line 3023: 400 bounding boxes\n",
      "Line 3024: 400 bounding boxes\n",
      "Line 3025: 400 bounding boxes\n",
      "Line 3026: 400 bounding boxes\n",
      "Line 3027: 400 bounding boxes\n",
      "Line 3028: 400 bounding boxes\n",
      "Line 3029: 400 bounding boxes\n",
      "Line 3030: 400 bounding boxes\n",
      "Line 3031: 400 bounding boxes\n",
      "Line 3032: 400 bounding boxes\n",
      "Line 3033: 400 bounding boxes\n",
      "Line 3034: 400 bounding boxes\n",
      "Line 3035: 400 bounding boxes\n",
      "Line 3036: 400 bounding boxes\n",
      "Line 3037: 400 bounding boxes\n",
      "Line 3038: 400 bounding boxes\n",
      "Line 3039: 400 bounding boxes\n",
      "Line 3040: 400 bounding boxes\n",
      "Line 3041: 400 bounding boxes\n",
      "Line 3042: 400 bounding boxes\n",
      "Line 3043: 400 bounding boxes\n",
      "Line 3044: 400 bounding boxes\n",
      "Line 3045: 400 bounding boxes\n",
      "Line 3046: 400 bounding boxes\n",
      "Line 3047: 400 bounding boxes\n",
      "Line 3048: 400 bounding boxes\n",
      "Line 3049: 400 bounding boxes\n",
      "Line 3050: 400 bounding boxes\n",
      "Line 3051: 400 bounding boxes\n",
      "Line 3052: 400 bounding boxes\n",
      "Line 3053: 400 bounding boxes\n",
      "Line 3054: 400 bounding boxes\n",
      "Line 3055: 400 bounding boxes\n",
      "Line 3056: 400 bounding boxes\n",
      "Line 3057: 400 bounding boxes\n",
      "Line 3058: 400 bounding boxes\n",
      "Line 3059: 400 bounding boxes\n",
      "Line 3060: 400 bounding boxes\n",
      "Line 3061: 400 bounding boxes\n",
      "Line 3062: 400 bounding boxes\n",
      "Line 3063: 400 bounding boxes\n",
      "Line 3064: 400 bounding boxes\n",
      "Line 3065: 400 bounding boxes\n",
      "Line 3066: 400 bounding boxes\n",
      "Line 3067: 400 bounding boxes\n",
      "Line 3068: 400 bounding boxes\n",
      "Line 3069: 400 bounding boxes\n",
      "Line 3070: 400 bounding boxes\n",
      "Line 3071: 400 bounding boxes\n",
      "Line 3072: 400 bounding boxes\n",
      "Line 3073: 400 bounding boxes\n",
      "Line 3074: 400 bounding boxes\n",
      "Line 3075: 400 bounding boxes\n",
      "Line 3076: 400 bounding boxes\n",
      "Line 3077: 400 bounding boxes\n",
      "Line 3078: 400 bounding boxes\n",
      "Line 3079: 400 bounding boxes\n",
      "Line 3080: 400 bounding boxes\n",
      "Line 3081: 400 bounding boxes\n",
      "Line 3082: 400 bounding boxes\n",
      "Line 3083: 400 bounding boxes\n",
      "Line 3084: 400 bounding boxes\n",
      "Line 3085: 400 bounding boxes\n",
      "Line 3086: 400 bounding boxes\n",
      "Line 3087: 400 bounding boxes\n",
      "Line 3088: 400 bounding boxes\n",
      "Line 3089: 400 bounding boxes\n",
      "Line 3090: 400 bounding boxes\n",
      "Line 3091: 400 bounding boxes\n",
      "Line 3092: 400 bounding boxes\n",
      "Line 3093: 400 bounding boxes\n",
      "Line 3094: 400 bounding boxes\n",
      "Line 3095: 400 bounding boxes\n",
      "Line 3096: 400 bounding boxes\n",
      "Line 3097: 400 bounding boxes\n",
      "Line 3098: 400 bounding boxes\n",
      "Line 3099: 400 bounding boxes\n",
      "Line 3100: 400 bounding boxes\n",
      "Line 3101: 400 bounding boxes\n",
      "Line 3102: 400 bounding boxes\n",
      "Line 3103: 400 bounding boxes\n",
      "Line 3104: 400 bounding boxes\n",
      "Line 3105: 400 bounding boxes\n",
      "Line 3106: 400 bounding boxes\n",
      "Line 3107: 400 bounding boxes\n",
      "Line 3108: 400 bounding boxes\n",
      "Line 3109: 400 bounding boxes\n",
      "Line 3110: 400 bounding boxes\n",
      "Line 3111: 400 bounding boxes\n",
      "Line 3112: 400 bounding boxes\n",
      "Line 3113: 400 bounding boxes\n",
      "Line 3114: 400 bounding boxes\n",
      "Line 3115: 400 bounding boxes\n",
      "Line 3116: 400 bounding boxes\n",
      "Line 3117: 400 bounding boxes\n",
      "Line 3118: 400 bounding boxes\n",
      "Line 3119: 400 bounding boxes\n",
      "Line 3120: 400 bounding boxes\n",
      "Line 3121: 400 bounding boxes\n",
      "Line 3122: 400 bounding boxes\n",
      "Line 3123: 400 bounding boxes\n",
      "Line 3124: 400 bounding boxes\n",
      "Line 3125: 400 bounding boxes\n",
      "Line 3126: 400 bounding boxes\n",
      "Line 3127: 400 bounding boxes\n",
      "Line 3128: 400 bounding boxes\n",
      "Line 3129: 400 bounding boxes\n",
      "Line 3130: 400 bounding boxes\n",
      "Line 3131: 400 bounding boxes\n",
      "Line 3132: 400 bounding boxes\n",
      "Line 3133: 400 bounding boxes\n",
      "Line 3134: 400 bounding boxes\n",
      "Line 3135: 400 bounding boxes\n",
      "Line 3136: 400 bounding boxes\n",
      "Line 3137: 400 bounding boxes\n",
      "Line 3138: 400 bounding boxes\n",
      "Line 3139: 400 bounding boxes\n",
      "Line 3140: 400 bounding boxes\n",
      "Line 3141: 400 bounding boxes\n",
      "Line 3142: 400 bounding boxes\n",
      "Line 3143: 400 bounding boxes\n",
      "Line 3144: 400 bounding boxes\n",
      "Line 3145: 400 bounding boxes\n",
      "Line 3146: 400 bounding boxes\n",
      "Line 3147: 400 bounding boxes\n",
      "Line 3148: 400 bounding boxes\n",
      "Line 3149: 400 bounding boxes\n",
      "Line 3150: 400 bounding boxes\n",
      "Line 3151: 400 bounding boxes\n",
      "Line 3152: 400 bounding boxes\n",
      "Line 3153: 400 bounding boxes\n",
      "Line 3154: 400 bounding boxes\n",
      "Line 3155: 400 bounding boxes\n",
      "Line 3156: 400 bounding boxes\n",
      "Line 3157: 400 bounding boxes\n",
      "Line 3158: 400 bounding boxes\n",
      "Line 3159: 400 bounding boxes\n",
      "Line 3160: 400 bounding boxes\n",
      "Line 3161: 400 bounding boxes\n",
      "Line 3162: 400 bounding boxes\n",
      "Line 3163: 400 bounding boxes\n",
      "Line 3164: 400 bounding boxes\n",
      "Line 3165: 400 bounding boxes\n",
      "Line 3166: 400 bounding boxes\n",
      "Line 3167: 400 bounding boxes\n",
      "Line 3168: 400 bounding boxes\n",
      "Line 3169: 400 bounding boxes\n",
      "Line 3170: 400 bounding boxes\n",
      "Line 3171: 400 bounding boxes\n",
      "Line 3172: 400 bounding boxes\n",
      "Line 3173: 400 bounding boxes\n",
      "Line 3174: 400 bounding boxes\n",
      "Line 3175: 400 bounding boxes\n",
      "Line 3176: 400 bounding boxes\n",
      "Line 3177: 400 bounding boxes\n",
      "Line 3178: 400 bounding boxes\n",
      "Line 3179: 400 bounding boxes\n",
      "Line 3180: 400 bounding boxes\n",
      "Line 3181: 400 bounding boxes\n",
      "Line 3182: 400 bounding boxes\n",
      "Line 3183: 400 bounding boxes\n",
      "Line 3184: 400 bounding boxes\n",
      "Line 3185: 400 bounding boxes\n",
      "Line 3186: 400 bounding boxes\n",
      "Line 3187: 400 bounding boxes\n",
      "Line 3188: 400 bounding boxes\n",
      "Line 3189: 400 bounding boxes\n",
      "Line 3190: 400 bounding boxes\n",
      "Line 3191: 400 bounding boxes\n",
      "Line 3192: 400 bounding boxes\n",
      "Line 3193: 400 bounding boxes\n",
      "Line 3194: 400 bounding boxes\n",
      "Line 3195: 400 bounding boxes\n",
      "Line 3196: 400 bounding boxes\n",
      "Line 3197: 400 bounding boxes\n",
      "Line 3198: 400 bounding boxes\n",
      "Line 3199: 400 bounding boxes\n",
      "Line 3200: 400 bounding boxes\n",
      "Line 3201: 400 bounding boxes\n",
      "Line 3202: 400 bounding boxes\n",
      "Line 3203: 400 bounding boxes\n",
      "Line 3204: 400 bounding boxes\n",
      "Line 3205: 400 bounding boxes\n",
      "Line 3206: 400 bounding boxes\n",
      "Line 3207: 400 bounding boxes\n",
      "Line 3208: 400 bounding boxes\n",
      "Line 3209: 400 bounding boxes\n",
      "Line 3210: 400 bounding boxes\n",
      "Line 3211: 400 bounding boxes\n",
      "Line 3212: 400 bounding boxes\n",
      "Line 3213: 400 bounding boxes\n",
      "Line 3214: 400 bounding boxes\n",
      "Line 3215: 400 bounding boxes\n",
      "Line 3216: 400 bounding boxes\n",
      "Line 3217: 400 bounding boxes\n",
      "Line 3218: 400 bounding boxes\n",
      "Line 3219: 400 bounding boxes\n",
      "Line 3220: 400 bounding boxes\n",
      "Line 3221: 400 bounding boxes\n",
      "Line 3222: 400 bounding boxes\n",
      "Line 3223: 400 bounding boxes\n",
      "Line 3224: 400 bounding boxes\n",
      "Line 3225: 400 bounding boxes\n",
      "Line 3226: 400 bounding boxes\n",
      "Line 3227: 400 bounding boxes\n",
      "Line 3228: 400 bounding boxes\n",
      "Line 3229: 400 bounding boxes\n",
      "Line 3230: 400 bounding boxes\n",
      "Line 3231: 400 bounding boxes\n",
      "Line 3232: 400 bounding boxes\n",
      "Line 3233: 400 bounding boxes\n",
      "Line 3234: 400 bounding boxes\n",
      "Line 3235: 400 bounding boxes\n",
      "Line 3236: 400 bounding boxes\n",
      "Line 3237: 400 bounding boxes\n",
      "Line 3238: 400 bounding boxes\n",
      "Line 3239: 400 bounding boxes\n",
      "Line 3240: 400 bounding boxes\n",
      "Line 3241: 400 bounding boxes\n",
      "Line 3242: 400 bounding boxes\n",
      "Line 3243: 400 bounding boxes\n",
      "Line 3244: 400 bounding boxes\n",
      "Line 3245: 400 bounding boxes\n",
      "Line 3246: 400 bounding boxes\n",
      "Line 3247: 400 bounding boxes\n",
      "Line 3248: 400 bounding boxes\n",
      "Line 3249: 400 bounding boxes\n",
      "Line 3250: 400 bounding boxes\n",
      "Line 3251: 400 bounding boxes\n",
      "Line 3252: 400 bounding boxes\n",
      "Line 3253: 400 bounding boxes\n",
      "Line 3254: 400 bounding boxes\n",
      "Line 3255: 400 bounding boxes\n",
      "Line 3256: 400 bounding boxes\n",
      "Line 3257: 400 bounding boxes\n",
      "Line 3258: 400 bounding boxes\n",
      "Line 3259: 400 bounding boxes\n",
      "Line 3260: 400 bounding boxes\n",
      "Line 3261: 400 bounding boxes\n",
      "Line 3262: 400 bounding boxes\n",
      "Line 3263: 400 bounding boxes\n",
      "Line 3264: 400 bounding boxes\n",
      "Line 3265: 400 bounding boxes\n",
      "Line 3266: 400 bounding boxes\n",
      "Line 3267: 400 bounding boxes\n",
      "Line 3268: 400 bounding boxes\n",
      "Line 3269: 400 bounding boxes\n",
      "Line 3270: 400 bounding boxes\n",
      "Line 3271: 400 bounding boxes\n",
      "Line 3272: 400 bounding boxes\n",
      "Line 3273: 400 bounding boxes\n",
      "Line 3274: 400 bounding boxes\n",
      "Line 3275: 400 bounding boxes\n",
      "Line 3276: 400 bounding boxes\n",
      "Line 3277: 400 bounding boxes\n",
      "Line 3278: 400 bounding boxes\n",
      "Line 3279: 400 bounding boxes\n",
      "Line 3280: 400 bounding boxes\n",
      "Line 3281: 400 bounding boxes\n",
      "Line 3282: 400 bounding boxes\n",
      "Line 3283: 400 bounding boxes\n",
      "Line 3284: 400 bounding boxes\n",
      "Line 3285: 400 bounding boxes\n",
      "Line 3286: 400 bounding boxes\n",
      "Line 3287: 400 bounding boxes\n",
      "Line 3288: 400 bounding boxes\n",
      "Line 3289: 400 bounding boxes\n",
      "Line 3290: 400 bounding boxes\n",
      "Line 3291: 400 bounding boxes\n",
      "Line 3292: 400 bounding boxes\n",
      "Line 3293: 400 bounding boxes\n",
      "Line 3294: 400 bounding boxes\n",
      "Line 3295: 400 bounding boxes\n",
      "Line 3296: 400 bounding boxes\n",
      "Line 3297: 400 bounding boxes\n",
      "Line 3298: 400 bounding boxes\n",
      "Line 3299: 400 bounding boxes\n",
      "Line 3300: 400 bounding boxes\n",
      "Line 3301: 400 bounding boxes\n",
      "Line 3302: 400 bounding boxes\n",
      "Line 3303: 400 bounding boxes\n",
      "Line 3304: 400 bounding boxes\n",
      "Line 3305: 400 bounding boxes\n",
      "Line 3306: 400 bounding boxes\n",
      "Line 3307: 400 bounding boxes\n",
      "Line 3308: 400 bounding boxes\n",
      "Line 3309: 400 bounding boxes\n",
      "Line 3310: 400 bounding boxes\n",
      "Line 3311: 400 bounding boxes\n",
      "Line 3312: 400 bounding boxes\n",
      "Line 3313: 400 bounding boxes\n",
      "Line 3314: 400 bounding boxes\n",
      "Line 3315: 400 bounding boxes\n",
      "Line 3316: 400 bounding boxes\n",
      "Line 3317: 400 bounding boxes\n",
      "Line 3318: 400 bounding boxes\n",
      "Line 3319: 400 bounding boxes\n",
      "Line 3320: 400 bounding boxes\n",
      "Line 3321: 400 bounding boxes\n",
      "Line 3322: 400 bounding boxes\n",
      "Line 3323: 400 bounding boxes\n",
      "Line 3324: 400 bounding boxes\n",
      "Line 3325: 400 bounding boxes\n",
      "Line 3326: 400 bounding boxes\n",
      "Line 3327: 400 bounding boxes\n",
      "Line 3328: 400 bounding boxes\n",
      "Line 3329: 400 bounding boxes\n",
      "Line 3330: 400 bounding boxes\n",
      "Line 3331: 400 bounding boxes\n",
      "Line 3332: 400 bounding boxes\n",
      "Line 3333: 400 bounding boxes\n",
      "Line 3334: 400 bounding boxes\n",
      "Line 3335: 400 bounding boxes\n",
      "Line 3336: 400 bounding boxes\n",
      "Line 3337: 400 bounding boxes\n",
      "Line 3338: 400 bounding boxes\n",
      "Line 3339: 400 bounding boxes\n",
      "Line 3340: 400 bounding boxes\n",
      "Line 3341: 400 bounding boxes\n",
      "Line 3342: 400 bounding boxes\n",
      "Line 3343: 400 bounding boxes\n",
      "Line 3344: 400 bounding boxes\n",
      "Line 3345: 400 bounding boxes\n",
      "Line 3346: 400 bounding boxes\n",
      "Line 3347: 400 bounding boxes\n",
      "Line 3348: 400 bounding boxes\n",
      "Line 3349: 400 bounding boxes\n",
      "Line 3350: 400 bounding boxes\n",
      "Line 3351: 400 bounding boxes\n",
      "Line 3352: 400 bounding boxes\n",
      "Line 3353: 400 bounding boxes\n",
      "Line 3354: 400 bounding boxes\n",
      "Line 3355: 400 bounding boxes\n",
      "Line 3356: 400 bounding boxes\n",
      "Line 3357: 400 bounding boxes\n",
      "Line 3358: 400 bounding boxes\n",
      "Line 3359: 400 bounding boxes\n",
      "Line 3360: 400 bounding boxes\n",
      "Line 3361: 400 bounding boxes\n",
      "Line 3362: 400 bounding boxes\n",
      "Line 3363: 400 bounding boxes\n",
      "Line 3364: 400 bounding boxes\n",
      "Line 3365: 400 bounding boxes\n",
      "Line 3366: 400 bounding boxes\n",
      "Line 3367: 400 bounding boxes\n",
      "Line 3368: 400 bounding boxes\n",
      "Line 3369: 400 bounding boxes\n",
      "Line 3370: 400 bounding boxes\n",
      "Line 3371: 400 bounding boxes\n",
      "Line 3372: 400 bounding boxes\n",
      "Line 3373: 400 bounding boxes\n",
      "Line 3374: 400 bounding boxes\n",
      "Line 3375: 400 bounding boxes\n",
      "Line 3376: 400 bounding boxes\n",
      "Line 3377: 400 bounding boxes\n",
      "Line 3378: 400 bounding boxes\n",
      "Line 3379: 400 bounding boxes\n",
      "Line 3380: 400 bounding boxes\n",
      "Line 3381: 400 bounding boxes\n",
      "Line 3382: 400 bounding boxes\n",
      "Line 3383: 400 bounding boxes\n",
      "Line 3384: 400 bounding boxes\n",
      "Line 3385: 400 bounding boxes\n",
      "Line 3386: 400 bounding boxes\n",
      "Line 3387: 400 bounding boxes\n",
      "Line 3388: 400 bounding boxes\n",
      "Line 3389: 400 bounding boxes\n",
      "Line 3390: 400 bounding boxes\n",
      "Line 3391: 400 bounding boxes\n",
      "Line 3392: 400 bounding boxes\n",
      "Line 3393: 400 bounding boxes\n",
      "Line 3394: 400 bounding boxes\n",
      "Line 3395: 400 bounding boxes\n",
      "Line 3396: 400 bounding boxes\n",
      "Line 3397: 400 bounding boxes\n",
      "Line 3398: 400 bounding boxes\n",
      "Line 3399: 400 bounding boxes\n",
      "Line 3400: 400 bounding boxes\n",
      "Line 3401: 400 bounding boxes\n",
      "Line 3402: 400 bounding boxes\n",
      "Line 3403: 400 bounding boxes\n",
      "Line 3404: 400 bounding boxes\n",
      "Line 3405: 400 bounding boxes\n",
      "Line 3406: 400 bounding boxes\n",
      "Line 3407: 400 bounding boxes\n",
      "Line 3408: 400 bounding boxes\n",
      "Line 3409: 400 bounding boxes\n",
      "Line 3410: 400 bounding boxes\n",
      "Line 3411: 400 bounding boxes\n",
      "Line 3412: 400 bounding boxes\n",
      "Line 3413: 400 bounding boxes\n",
      "Line 3414: 400 bounding boxes\n",
      "Line 3415: 400 bounding boxes\n",
      "Line 3416: 400 bounding boxes\n",
      "Line 3417: 400 bounding boxes\n",
      "Line 3418: 400 bounding boxes\n",
      "Line 3419: 400 bounding boxes\n",
      "Line 3420: 400 bounding boxes\n",
      "Line 3421: 400 bounding boxes\n",
      "Line 3422: 400 bounding boxes\n",
      "Line 3423: 400 bounding boxes\n",
      "Line 3424: 400 bounding boxes\n",
      "Line 3425: 400 bounding boxes\n",
      "Line 3426: 400 bounding boxes\n",
      "Line 3427: 400 bounding boxes\n",
      "Line 3428: 400 bounding boxes\n",
      "Line 3429: 400 bounding boxes\n",
      "Line 3430: 400 bounding boxes\n",
      "Line 3431: 400 bounding boxes\n",
      "Line 3432: 400 bounding boxes\n",
      "Line 3433: 400 bounding boxes\n",
      "Line 3434: 400 bounding boxes\n",
      "Line 3435: 400 bounding boxes\n",
      "Line 3436: 400 bounding boxes\n",
      "Line 3437: 400 bounding boxes\n",
      "Line 3438: 400 bounding boxes\n",
      "Line 3439: 400 bounding boxes\n",
      "Line 3440: 400 bounding boxes\n",
      "Line 3441: 400 bounding boxes\n",
      "Line 3442: 400 bounding boxes\n",
      "Line 3443: 400 bounding boxes\n",
      "Line 3444: 400 bounding boxes\n",
      "Line 3445: 400 bounding boxes\n",
      "Line 3446: 400 bounding boxes\n",
      "Line 3447: 400 bounding boxes\n",
      "Line 3448: 400 bounding boxes\n",
      "Line 3449: 400 bounding boxes\n",
      "Line 3450: 400 bounding boxes\n",
      "Line 3451: 400 bounding boxes\n",
      "Line 3452: 400 bounding boxes\n",
      "Line 3453: 400 bounding boxes\n",
      "Line 3454: 400 bounding boxes\n",
      "Line 3455: 400 bounding boxes\n",
      "Line 3456: 400 bounding boxes\n",
      "Line 3457: 400 bounding boxes\n",
      "Line 3458: 400 bounding boxes\n",
      "Line 3459: 400 bounding boxes\n",
      "Line 3460: 400 bounding boxes\n",
      "Line 3461: 400 bounding boxes\n",
      "Line 3462: 400 bounding boxes\n",
      "Line 3463: 400 bounding boxes\n",
      "Line 3464: 400 bounding boxes\n",
      "Line 3465: 400 bounding boxes\n",
      "Line 3466: 400 bounding boxes\n",
      "Line 3467: 400 bounding boxes\n",
      "Line 3468: 400 bounding boxes\n",
      "Line 3469: 400 bounding boxes\n",
      "Line 3470: 400 bounding boxes\n",
      "Line 3471: 400 bounding boxes\n",
      "Line 3472: 400 bounding boxes\n",
      "Line 3473: 400 bounding boxes\n",
      "Line 3474: 400 bounding boxes\n",
      "Line 3475: 400 bounding boxes\n",
      "Line 3476: 400 bounding boxes\n",
      "Line 3477: 400 bounding boxes\n",
      "Line 3478: 400 bounding boxes\n",
      "Line 3479: 400 bounding boxes\n",
      "Line 3480: 400 bounding boxes\n",
      "Line 3481: 400 bounding boxes\n",
      "Line 3482: 400 bounding boxes\n",
      "Line 3483: 400 bounding boxes\n",
      "Line 3484: 400 bounding boxes\n",
      "Line 3485: 400 bounding boxes\n",
      "Line 3486: 400 bounding boxes\n",
      "Line 3487: 400 bounding boxes\n",
      "Line 3488: 400 bounding boxes\n",
      "Line 3489: 400 bounding boxes\n",
      "Line 3490: 400 bounding boxes\n",
      "Line 3491: 400 bounding boxes\n",
      "Line 3492: 400 bounding boxes\n",
      "Line 3493: 400 bounding boxes\n",
      "Line 3494: 400 bounding boxes\n",
      "Line 3495: 400 bounding boxes\n",
      "Line 3496: 400 bounding boxes\n",
      "Line 3497: 400 bounding boxes\n",
      "Line 3498: 400 bounding boxes\n",
      "Line 3499: 400 bounding boxes\n",
      "Line 3500: 400 bounding boxes\n",
      "Line 3501: 400 bounding boxes\n",
      "Line 3502: 400 bounding boxes\n",
      "Line 3503: 400 bounding boxes\n",
      "Line 3504: 400 bounding boxes\n",
      "Line 3505: 400 bounding boxes\n",
      "Line 3506: 400 bounding boxes\n",
      "Line 3507: 400 bounding boxes\n",
      "Line 3508: 400 bounding boxes\n",
      "Line 3509: 400 bounding boxes\n",
      "Line 3510: 400 bounding boxes\n",
      "Line 3511: 400 bounding boxes\n",
      "Line 3512: 400 bounding boxes\n",
      "Line 3513: 400 bounding boxes\n",
      "Line 3514: 400 bounding boxes\n",
      "Line 3515: 400 bounding boxes\n",
      "Line 3516: 400 bounding boxes\n",
      "Line 3517: 400 bounding boxes\n",
      "Line 3518: 400 bounding boxes\n",
      "Line 3519: 400 bounding boxes\n",
      "Line 3520: 400 bounding boxes\n",
      "Line 3521: 400 bounding boxes\n",
      "Line 3522: 400 bounding boxes\n",
      "Line 3523: 400 bounding boxes\n",
      "Line 3524: 400 bounding boxes\n",
      "Line 3525: 400 bounding boxes\n",
      "Line 3526: 400 bounding boxes\n",
      "Line 3527: 400 bounding boxes\n",
      "Line 3528: 400 bounding boxes\n",
      "Line 3529: 400 bounding boxes\n",
      "Line 3530: 400 bounding boxes\n",
      "Line 3531: 400 bounding boxes\n",
      "Line 3532: 400 bounding boxes\n",
      "Line 3533: 400 bounding boxes\n",
      "Line 3534: 400 bounding boxes\n",
      "Line 3535: 400 bounding boxes\n",
      "Line 3536: 400 bounding boxes\n",
      "Line 3537: 400 bounding boxes\n",
      "Line 3538: 400 bounding boxes\n",
      "Line 3539: 400 bounding boxes\n",
      "Line 3540: 400 bounding boxes\n",
      "Line 3541: 400 bounding boxes\n",
      "Line 3542: 400 bounding boxes\n",
      "Line 3543: 400 bounding boxes\n",
      "Line 3544: 400 bounding boxes\n",
      "Line 3545: 400 bounding boxes\n",
      "Line 3546: 400 bounding boxes\n",
      "Line 3547: 400 bounding boxes\n",
      "Line 3548: 400 bounding boxes\n",
      "Line 3549: 400 bounding boxes\n",
      "Line 3550: 400 bounding boxes\n",
      "Line 3551: 400 bounding boxes\n",
      "Line 3552: 400 bounding boxes\n",
      "Line 3553: 400 bounding boxes\n",
      "Line 3554: 400 bounding boxes\n",
      "Line 3555: 400 bounding boxes\n",
      "Line 3556: 400 bounding boxes\n",
      "Line 3557: 400 bounding boxes\n",
      "Line 3558: 400 bounding boxes\n",
      "Line 3559: 400 bounding boxes\n",
      "Line 3560: 400 bounding boxes\n",
      "Line 3561: 400 bounding boxes\n",
      "Line 3562: 400 bounding boxes\n",
      "Line 3563: 400 bounding boxes\n",
      "Line 3564: 400 bounding boxes\n",
      "Line 3565: 400 bounding boxes\n",
      "Line 3566: 400 bounding boxes\n",
      "Line 3567: 400 bounding boxes\n",
      "Line 3568: 400 bounding boxes\n",
      "Line 3569: 400 bounding boxes\n",
      "Line 3570: 400 bounding boxes\n",
      "Line 3571: 400 bounding boxes\n",
      "Line 3572: 400 bounding boxes\n",
      "Line 3573: 400 bounding boxes\n",
      "Line 3574: 400 bounding boxes\n",
      "Line 3575: 400 bounding boxes\n",
      "Line 3576: 400 bounding boxes\n",
      "Line 3577: 400 bounding boxes\n",
      "Line 3578: 400 bounding boxes\n",
      "Line 3579: 400 bounding boxes\n",
      "Line 3580: 400 bounding boxes\n",
      "Line 3581: 400 bounding boxes\n",
      "Line 3582: 400 bounding boxes\n",
      "Line 3583: 400 bounding boxes\n",
      "Line 3584: 400 bounding boxes\n",
      "Line 3585: 400 bounding boxes\n",
      "Line 3586: 400 bounding boxes\n",
      "Line 3587: 400 bounding boxes\n",
      "Line 3588: 400 bounding boxes\n",
      "Line 3589: 400 bounding boxes\n",
      "Line 3590: 400 bounding boxes\n",
      "Line 3591: 400 bounding boxes\n",
      "Line 3592: 400 bounding boxes\n",
      "Line 3593: 400 bounding boxes\n",
      "Line 3594: 400 bounding boxes\n",
      "Line 3595: 400 bounding boxes\n",
      "Line 3596: 400 bounding boxes\n",
      "Line 3597: 400 bounding boxes\n",
      "Line 3598: 400 bounding boxes\n",
      "Line 3599: 400 bounding boxes\n",
      "Line 3600: 400 bounding boxes\n",
      "Line 3601: 400 bounding boxes\n",
      "Line 3602: 400 bounding boxes\n",
      "Line 3603: 400 bounding boxes\n",
      "Line 3604: 400 bounding boxes\n",
      "Line 3605: 400 bounding boxes\n",
      "Line 3606: 400 bounding boxes\n",
      "Line 3607: 400 bounding boxes\n",
      "Line 3608: 400 bounding boxes\n",
      "Line 3609: 400 bounding boxes\n",
      "Line 3610: 400 bounding boxes\n",
      "Line 3611: 400 bounding boxes\n",
      "Line 3612: 400 bounding boxes\n",
      "Line 3613: 400 bounding boxes\n",
      "Line 3614: 400 bounding boxes\n",
      "Line 3615: 400 bounding boxes\n",
      "Line 3616: 400 bounding boxes\n",
      "Line 3617: 400 bounding boxes\n",
      "Line 3618: 400 bounding boxes\n",
      "Line 3619: 400 bounding boxes\n",
      "Line 3620: 400 bounding boxes\n",
      "Line 3621: 400 bounding boxes\n",
      "Line 3622: 400 bounding boxes\n",
      "Line 3623: 400 bounding boxes\n",
      "Line 3624: 400 bounding boxes\n",
      "Line 3625: 400 bounding boxes\n",
      "Line 3626: 400 bounding boxes\n",
      "Line 3627: 400 bounding boxes\n",
      "Line 3628: 400 bounding boxes\n",
      "Line 3629: 400 bounding boxes\n",
      "Line 3630: 400 bounding boxes\n",
      "Line 3631: 400 bounding boxes\n",
      "Line 3632: 400 bounding boxes\n",
      "Line 3633: 400 bounding boxes\n",
      "Line 3634: 400 bounding boxes\n",
      "Line 3635: 400 bounding boxes\n",
      "Line 3636: 400 bounding boxes\n",
      "Line 3637: 400 bounding boxes\n",
      "Line 3638: 400 bounding boxes\n",
      "Line 3639: 400 bounding boxes\n",
      "Line 3640: 400 bounding boxes\n",
      "Line 3641: 400 bounding boxes\n",
      "Line 3642: 400 bounding boxes\n",
      "Line 3643: 400 bounding boxes\n",
      "Line 3644: 400 bounding boxes\n",
      "Line 3645: 400 bounding boxes\n",
      "Line 3646: 400 bounding boxes\n",
      "Line 3647: 400 bounding boxes\n",
      "Line 3648: 400 bounding boxes\n",
      "Line 3649: 400 bounding boxes\n",
      "Line 3650: 400 bounding boxes\n",
      "Line 3651: 400 bounding boxes\n",
      "Line 3652: 400 bounding boxes\n",
      "Line 3653: 400 bounding boxes\n",
      "Line 3654: 400 bounding boxes\n",
      "Line 3655: 400 bounding boxes\n",
      "Line 3656: 400 bounding boxes\n",
      "Line 3657: 400 bounding boxes\n",
      "Line 3658: 400 bounding boxes\n",
      "Line 3659: 400 bounding boxes\n",
      "Line 3660: 400 bounding boxes\n",
      "Line 3661: 400 bounding boxes\n",
      "Line 3662: 400 bounding boxes\n",
      "Line 3663: 400 bounding boxes\n",
      "Line 3664: 400 bounding boxes\n",
      "Line 3665: 400 bounding boxes\n",
      "Line 3666: 400 bounding boxes\n",
      "Line 3667: 400 bounding boxes\n",
      "Line 3668: 400 bounding boxes\n",
      "Line 3669: 400 bounding boxes\n",
      "Line 3670: 400 bounding boxes\n",
      "Line 3671: 400 bounding boxes\n",
      "Line 3672: 400 bounding boxes\n",
      "Line 3673: 400 bounding boxes\n",
      "Line 3674: 400 bounding boxes\n",
      "Line 3675: 400 bounding boxes\n",
      "Line 3676: 400 bounding boxes\n",
      "Line 3677: 400 bounding boxes\n",
      "Line 3678: 400 bounding boxes\n",
      "Line 3679: 400 bounding boxes\n",
      "Line 3680: 400 bounding boxes\n",
      "Line 3681: 400 bounding boxes\n",
      "Line 3682: 400 bounding boxes\n",
      "Line 3683: 400 bounding boxes\n",
      "Line 3684: 400 bounding boxes\n",
      "Line 3685: 400 bounding boxes\n",
      "Line 3686: 400 bounding boxes\n",
      "Line 3687: 400 bounding boxes\n",
      "Line 3688: 400 bounding boxes\n",
      "Line 3689: 400 bounding boxes\n",
      "Line 3690: 400 bounding boxes\n",
      "Line 3691: 400 bounding boxes\n",
      "Line 3692: 400 bounding boxes\n",
      "Line 3693: 400 bounding boxes\n",
      "Line 3694: 400 bounding boxes\n",
      "Line 3695: 400 bounding boxes\n",
      "Line 3696: 400 bounding boxes\n",
      "Line 3697: 400 bounding boxes\n",
      "Line 3698: 400 bounding boxes\n",
      "Line 3699: 400 bounding boxes\n",
      "Line 3700: 400 bounding boxes\n",
      "Line 3701: 400 bounding boxes\n",
      "Line 3702: 400 bounding boxes\n",
      "Line 3703: 400 bounding boxes\n",
      "Line 3704: 400 bounding boxes\n",
      "Line 3705: 400 bounding boxes\n",
      "Line 3706: 400 bounding boxes\n",
      "Line 3707: 400 bounding boxes\n",
      "Line 3708: 400 bounding boxes\n",
      "Line 3709: 400 bounding boxes\n",
      "Line 3710: 400 bounding boxes\n",
      "Line 3711: 400 bounding boxes\n",
      "Line 3712: 400 bounding boxes\n",
      "Line 3713: 400 bounding boxes\n",
      "Line 3714: 400 bounding boxes\n",
      "Line 3715: 400 bounding boxes\n",
      "Line 3716: 400 bounding boxes\n",
      "Line 3717: 400 bounding boxes\n",
      "Line 3718: 400 bounding boxes\n",
      "Line 3719: 400 bounding boxes\n",
      "Line 3720: 400 bounding boxes\n",
      "Line 3721: 400 bounding boxes\n",
      "Line 3722: 400 bounding boxes\n",
      "Line 3723: 400 bounding boxes\n",
      "Line 3724: 400 bounding boxes\n",
      "Line 3725: 400 bounding boxes\n",
      "Line 3726: 400 bounding boxes\n",
      "Line 3727: 400 bounding boxes\n",
      "Line 3728: 400 bounding boxes\n",
      "Line 3729: 400 bounding boxes\n",
      "Line 3730: 400 bounding boxes\n",
      "Line 3731: 400 bounding boxes\n",
      "Line 3732: 400 bounding boxes\n",
      "Line 3733: 400 bounding boxes\n",
      "Line 3734: 400 bounding boxes\n",
      "Line 3735: 400 bounding boxes\n",
      "Line 3736: 400 bounding boxes\n",
      "Line 3737: 400 bounding boxes\n",
      "Line 3738: 400 bounding boxes\n",
      "Line 3739: 400 bounding boxes\n",
      "Line 3740: 400 bounding boxes\n",
      "Line 3741: 400 bounding boxes\n",
      "Line 3742: 400 bounding boxes\n",
      "Line 3743: 400 bounding boxes\n",
      "Line 3744: 400 bounding boxes\n",
      "Line 3745: 400 bounding boxes\n",
      "Line 3746: 400 bounding boxes\n",
      "Line 3747: 400 bounding boxes\n",
      "Line 3748: 400 bounding boxes\n",
      "Line 3749: 400 bounding boxes\n",
      "Line 3750: 400 bounding boxes\n",
      "Line 3751: 400 bounding boxes\n",
      "Line 3752: 400 bounding boxes\n",
      "Line 3753: 400 bounding boxes\n",
      "Line 3754: 400 bounding boxes\n",
      "Line 3755: 400 bounding boxes\n",
      "Line 3756: 400 bounding boxes\n",
      "Line 3757: 400 bounding boxes\n",
      "Line 3758: 400 bounding boxes\n",
      "Line 3759: 400 bounding boxes\n",
      "Line 3760: 400 bounding boxes\n",
      "Line 3761: 400 bounding boxes\n",
      "Line 3762: 400 bounding boxes\n",
      "Line 3763: 400 bounding boxes\n",
      "Line 3764: 400 bounding boxes\n",
      "Line 3765: 400 bounding boxes\n",
      "Line 3766: 400 bounding boxes\n",
      "Line 3767: 400 bounding boxes\n",
      "Line 3768: 400 bounding boxes\n",
      "Line 3769: 400 bounding boxes\n",
      "Line 3770: 400 bounding boxes\n",
      "Line 3771: 400 bounding boxes\n",
      "Line 3772: 400 bounding boxes\n",
      "Line 3773: 400 bounding boxes\n",
      "Line 3774: 400 bounding boxes\n",
      "Line 3775: 400 bounding boxes\n",
      "Line 3776: 400 bounding boxes\n",
      "Line 3777: 400 bounding boxes\n",
      "Line 3778: 400 bounding boxes\n",
      "Line 3779: 400 bounding boxes\n",
      "Line 3780: 400 bounding boxes\n",
      "Line 3781: 400 bounding boxes\n",
      "Line 3782: 400 bounding boxes\n",
      "Line 3783: 400 bounding boxes\n",
      "Line 3784: 400 bounding boxes\n",
      "Line 3785: 400 bounding boxes\n",
      "Line 3786: 400 bounding boxes\n",
      "Line 3787: 400 bounding boxes\n",
      "Line 3788: 400 bounding boxes\n",
      "Line 3789: 400 bounding boxes\n",
      "Line 3790: 400 bounding boxes\n",
      "Line 3791: 400 bounding boxes\n",
      "Line 3792: 400 bounding boxes\n",
      "Line 3793: 400 bounding boxes\n",
      "Line 3794: 400 bounding boxes\n",
      "Line 3795: 400 bounding boxes\n",
      "Line 3796: 400 bounding boxes\n",
      "Line 3797: 400 bounding boxes\n",
      "Line 3798: 400 bounding boxes\n",
      "Line 3799: 400 bounding boxes\n",
      "Line 3800: 400 bounding boxes\n",
      "Line 3801: 400 bounding boxes\n",
      "Line 3802: 400 bounding boxes\n",
      "Line 3803: 400 bounding boxes\n",
      "Line 3804: 400 bounding boxes\n",
      "Line 3805: 400 bounding boxes\n",
      "Line 3806: 400 bounding boxes\n",
      "Line 3807: 400 bounding boxes\n",
      "Line 3808: 400 bounding boxes\n",
      "Line 3809: 400 bounding boxes\n",
      "Line 3810: 400 bounding boxes\n",
      "Line 3811: 400 bounding boxes\n",
      "Line 3812: 400 bounding boxes\n",
      "Line 3813: 400 bounding boxes\n",
      "Line 3814: 400 bounding boxes\n",
      "Line 3815: 400 bounding boxes\n",
      "Line 3816: 400 bounding boxes\n",
      "Line 3817: 400 bounding boxes\n",
      "Line 3818: 400 bounding boxes\n",
      "Line 3819: 400 bounding boxes\n",
      "Line 3820: 400 bounding boxes\n",
      "Line 3821: 400 bounding boxes\n",
      "Line 3822: 400 bounding boxes\n",
      "Line 3823: 400 bounding boxes\n",
      "Line 3824: 400 bounding boxes\n",
      "Line 3825: 400 bounding boxes\n",
      "Line 3826: 400 bounding boxes\n",
      "Line 3827: 400 bounding boxes\n",
      "Line 3828: 400 bounding boxes\n",
      "Line 3829: 400 bounding boxes\n",
      "Line 3830: 400 bounding boxes\n",
      "Line 3831: 400 bounding boxes\n",
      "Line 3832: 400 bounding boxes\n",
      "Line 3833: 400 bounding boxes\n",
      "Line 3834: 400 bounding boxes\n",
      "Line 3835: 400 bounding boxes\n",
      "Line 3836: 400 bounding boxes\n",
      "Line 3837: 400 bounding boxes\n",
      "Line 3838: 400 bounding boxes\n",
      "Line 3839: 400 bounding boxes\n",
      "Line 3840: 400 bounding boxes\n",
      "Line 3841: 400 bounding boxes\n",
      "Line 3842: 400 bounding boxes\n",
      "Line 3843: 400 bounding boxes\n",
      "Line 3844: 400 bounding boxes\n",
      "Line 3845: 400 bounding boxes\n",
      "Line 3846: 400 bounding boxes\n",
      "Line 3847: 400 bounding boxes\n",
      "Line 3848: 400 bounding boxes\n",
      "Line 3849: 400 bounding boxes\n",
      "Line 3850: 400 bounding boxes\n",
      "Line 3851: 400 bounding boxes\n",
      "Line 3852: 400 bounding boxes\n",
      "Line 3853: 400 bounding boxes\n",
      "Line 3854: 400 bounding boxes\n",
      "Line 3855: 400 bounding boxes\n",
      "Line 3856: 400 bounding boxes\n",
      "Line 3857: 400 bounding boxes\n",
      "Line 3858: 400 bounding boxes\n",
      "Line 3859: 400 bounding boxes\n",
      "Line 3860: 400 bounding boxes\n",
      "Line 3861: 400 bounding boxes\n",
      "Line 3862: 400 bounding boxes\n",
      "Line 3863: 400 bounding boxes\n",
      "Line 3864: 400 bounding boxes\n",
      "Line 3865: 400 bounding boxes\n",
      "Line 3866: 400 bounding boxes\n",
      "Line 3867: 400 bounding boxes\n",
      "Line 3868: 400 bounding boxes\n",
      "Line 3869: 400 bounding boxes\n",
      "Line 3870: 400 bounding boxes\n",
      "Line 3871: 400 bounding boxes\n",
      "Line 3872: 400 bounding boxes\n",
      "Line 3873: 400 bounding boxes\n",
      "Line 3874: 400 bounding boxes\n",
      "Line 3875: 400 bounding boxes\n",
      "Line 3876: 400 bounding boxes\n",
      "Line 3877: 400 bounding boxes\n",
      "Line 3878: 400 bounding boxes\n",
      "Line 3879: 400 bounding boxes\n",
      "Line 3880: 400 bounding boxes\n",
      "Line 3881: 400 bounding boxes\n",
      "Line 3882: 400 bounding boxes\n",
      "Line 3883: 400 bounding boxes\n",
      "Line 3884: 400 bounding boxes\n",
      "Line 3885: 400 bounding boxes\n",
      "Line 3886: 400 bounding boxes\n",
      "Line 3887: 400 bounding boxes\n",
      "Line 3888: 400 bounding boxes\n",
      "Line 3889: 400 bounding boxes\n",
      "Line 3890: 400 bounding boxes\n",
      "Line 3891: 400 bounding boxes\n",
      "Line 3892: 400 bounding boxes\n",
      "Line 3893: 400 bounding boxes\n",
      "Line 3894: 400 bounding boxes\n",
      "Line 3895: 400 bounding boxes\n",
      "Line 3896: 400 bounding boxes\n",
      "Line 3897: 400 bounding boxes\n",
      "Line 3898: 400 bounding boxes\n",
      "Line 3899: 400 bounding boxes\n",
      "Line 3900: 400 bounding boxes\n",
      "Line 3901: 400 bounding boxes\n",
      "Line 3902: 400 bounding boxes\n",
      "Line 3903: 400 bounding boxes\n",
      "Line 3904: 400 bounding boxes\n",
      "Line 3905: 400 bounding boxes\n",
      "Line 3906: 400 bounding boxes\n",
      "Line 3907: 400 bounding boxes\n",
      "Line 3908: 400 bounding boxes\n",
      "Line 3909: 400 bounding boxes\n",
      "Line 3910: 400 bounding boxes\n",
      "Line 3911: 400 bounding boxes\n",
      "Line 3912: 400 bounding boxes\n",
      "Line 3913: 400 bounding boxes\n",
      "Line 3914: 400 bounding boxes\n",
      "Line 3915: 400 bounding boxes\n",
      "Line 3916: 400 bounding boxes\n",
      "Line 3917: 400 bounding boxes\n",
      "Line 3918: 400 bounding boxes\n",
      "Line 3919: 400 bounding boxes\n",
      "Line 3920: 400 bounding boxes\n",
      "Line 3921: 400 bounding boxes\n",
      "Line 3922: 400 bounding boxes\n",
      "Line 3923: 400 bounding boxes\n",
      "Line 3924: 400 bounding boxes\n",
      "Line 3925: 400 bounding boxes\n",
      "Line 3926: 400 bounding boxes\n",
      "Line 3927: 400 bounding boxes\n",
      "Line 3928: 400 bounding boxes\n",
      "Line 3929: 400 bounding boxes\n",
      "Line 3930: 400 bounding boxes\n",
      "Line 3931: 400 bounding boxes\n",
      "Line 3932: 400 bounding boxes\n",
      "Line 3933: 400 bounding boxes\n",
      "Line 3934: 400 bounding boxes\n",
      "Line 3935: 400 bounding boxes\n",
      "Line 3936: 400 bounding boxes\n",
      "Line 3937: 400 bounding boxes\n",
      "Line 3938: 400 bounding boxes\n",
      "Line 3939: 400 bounding boxes\n",
      "Line 3940: 400 bounding boxes\n",
      "Line 3941: 400 bounding boxes\n",
      "Line 3942: 400 bounding boxes\n",
      "Line 3943: 400 bounding boxes\n",
      "Line 3944: 400 bounding boxes\n",
      "Line 3945: 400 bounding boxes\n",
      "Line 3946: 400 bounding boxes\n",
      "Line 3947: 400 bounding boxes\n",
      "Line 3948: 400 bounding boxes\n",
      "Line 3949: 400 bounding boxes\n",
      "Line 3950: 400 bounding boxes\n",
      "Line 3951: 400 bounding boxes\n",
      "Line 3952: 400 bounding boxes\n",
      "Line 3953: 400 bounding boxes\n",
      "Line 3954: 400 bounding boxes\n",
      "Line 3955: 400 bounding boxes\n",
      "Line 3956: 400 bounding boxes\n",
      "Line 3957: 400 bounding boxes\n",
      "Line 3958: 400 bounding boxes\n",
      "Line 3959: 400 bounding boxes\n",
      "Line 3960: 400 bounding boxes\n",
      "Line 3961: 400 bounding boxes\n",
      "Line 3962: 400 bounding boxes\n",
      "Line 3963: 400 bounding boxes\n",
      "Line 3964: 400 bounding boxes\n",
      "Line 3965: 400 bounding boxes\n",
      "Line 3966: 400 bounding boxes\n",
      "Line 3967: 400 bounding boxes\n",
      "Line 3968: 400 bounding boxes\n",
      "Line 3969: 400 bounding boxes\n",
      "Line 3970: 400 bounding boxes\n",
      "Line 3971: 400 bounding boxes\n",
      "Line 3972: 400 bounding boxes\n",
      "Line 3973: 400 bounding boxes\n",
      "Line 3974: 400 bounding boxes\n",
      "Line 3975: 400 bounding boxes\n",
      "Line 3976: 400 bounding boxes\n",
      "Line 3977: 400 bounding boxes\n",
      "Line 3978: 400 bounding boxes\n",
      "Line 3979: 400 bounding boxes\n",
      "Line 3980: 400 bounding boxes\n",
      "Line 3981: 400 bounding boxes\n",
      "Line 3982: 400 bounding boxes\n",
      "Line 3983: 400 bounding boxes\n",
      "Line 3984: 400 bounding boxes\n",
      "Line 3985: 400 bounding boxes\n",
      "Line 3986: 400 bounding boxes\n",
      "Line 3987: 400 bounding boxes\n",
      "Line 3988: 400 bounding boxes\n",
      "Line 3989: 400 bounding boxes\n",
      "Line 3990: 400 bounding boxes\n",
      "Line 3991: 400 bounding boxes\n",
      "Line 3992: 400 bounding boxes\n",
      "Line 3993: 400 bounding boxes\n",
      "Line 3994: 400 bounding boxes\n",
      "Line 3995: 400 bounding boxes\n",
      "Line 3996: 400 bounding boxes\n",
      "Line 3997: 400 bounding boxes\n",
      "Line 3998: 400 bounding boxes\n",
      "Line 3999: 400 bounding boxes\n",
      "Line 4000: 400 bounding boxes\n",
      "Line 4001: 400 bounding boxes\n",
      "Line 4002: 400 bounding boxes\n",
      "Line 4003: 400 bounding boxes\n",
      "Line 4004: 400 bounding boxes\n",
      "Line 4005: 400 bounding boxes\n",
      "Line 4006: 400 bounding boxes\n",
      "Line 4007: 400 bounding boxes\n",
      "Line 4008: 400 bounding boxes\n",
      "Line 4009: 400 bounding boxes\n",
      "Line 4010: 400 bounding boxes\n",
      "Line 4011: 400 bounding boxes\n",
      "Line 4012: 400 bounding boxes\n",
      "Line 4013: 400 bounding boxes\n",
      "Line 4014: 400 bounding boxes\n",
      "Line 4015: 400 bounding boxes\n",
      "Line 4016: 400 bounding boxes\n",
      "Line 4017: 400 bounding boxes\n",
      "Line 4018: 400 bounding boxes\n",
      "Line 4019: 400 bounding boxes\n",
      "Line 4020: 400 bounding boxes\n",
      "Line 4021: 400 bounding boxes\n",
      "Line 4022: 400 bounding boxes\n",
      "Line 4023: 400 bounding boxes\n",
      "Line 4024: 400 bounding boxes\n",
      "Line 4025: 400 bounding boxes\n",
      "Line 4026: 400 bounding boxes\n",
      "Line 4027: 400 bounding boxes\n",
      "Line 4028: 400 bounding boxes\n",
      "Line 4029: 400 bounding boxes\n",
      "Line 4030: 400 bounding boxes\n",
      "Line 4031: 400 bounding boxes\n",
      "Line 4032: 400 bounding boxes\n",
      "Line 4033: 400 bounding boxes\n",
      "Line 4034: 400 bounding boxes\n",
      "Line 4035: 400 bounding boxes\n",
      "Line 4036: 400 bounding boxes\n",
      "Line 4037: 400 bounding boxes\n",
      "Line 4038: 400 bounding boxes\n",
      "Line 4039: 400 bounding boxes\n",
      "Line 4040: 400 bounding boxes\n",
      "Line 4041: 400 bounding boxes\n",
      "Line 4042: 400 bounding boxes\n",
      "Line 4043: 400 bounding boxes\n",
      "Line 4044: 400 bounding boxes\n",
      "Line 4045: 400 bounding boxes\n",
      "Line 4046: 400 bounding boxes\n",
      "Line 4047: 400 bounding boxes\n",
      "Line 4048: 400 bounding boxes\n",
      "Line 4049: 400 bounding boxes\n",
      "Line 4050: 400 bounding boxes\n",
      "Line 4051: 400 bounding boxes\n",
      "Line 4052: 400 bounding boxes\n",
      "Line 4053: 400 bounding boxes\n",
      "Line 4054: 400 bounding boxes\n",
      "Line 4055: 400 bounding boxes\n",
      "Line 4056: 400 bounding boxes\n",
      "Line 4057: 400 bounding boxes\n",
      "Line 4058: 400 bounding boxes\n",
      "Line 4059: 400 bounding boxes\n",
      "Line 4060: 400 bounding boxes\n",
      "Line 4061: 400 bounding boxes\n",
      "Line 4062: 400 bounding boxes\n",
      "Line 4063: 400 bounding boxes\n",
      "Line 4064: 400 bounding boxes\n",
      "Line 4065: 400 bounding boxes\n",
      "Line 4066: 400 bounding boxes\n",
      "Line 4067: 400 bounding boxes\n",
      "Line 4068: 400 bounding boxes\n",
      "Line 4069: 400 bounding boxes\n",
      "Line 4070: 400 bounding boxes\n",
      "Line 4071: 400 bounding boxes\n",
      "Line 4072: 400 bounding boxes\n",
      "Line 4073: 400 bounding boxes\n",
      "Line 4074: 400 bounding boxes\n",
      "Line 4075: 400 bounding boxes\n",
      "Line 4076: 400 bounding boxes\n",
      "Line 4077: 400 bounding boxes\n",
      "Line 4078: 400 bounding boxes\n",
      "Line 4079: 400 bounding boxes\n",
      "Line 4080: 400 bounding boxes\n",
      "Line 4081: 400 bounding boxes\n",
      "Line 4082: 400 bounding boxes\n",
      "Line 4083: 400 bounding boxes\n",
      "Line 4084: 400 bounding boxes\n",
      "Line 4085: 400 bounding boxes\n",
      "Line 4086: 400 bounding boxes\n",
      "Line 4087: 400 bounding boxes\n",
      "Line 4088: 400 bounding boxes\n",
      "Line 4089: 400 bounding boxes\n",
      "Line 4090: 400 bounding boxes\n",
      "Line 4091: 400 bounding boxes\n",
      "Line 4092: 400 bounding boxes\n",
      "Line 4093: 400 bounding boxes\n",
      "Line 4094: 400 bounding boxes\n",
      "Line 4095: 400 bounding boxes\n",
      "Line 4096: 400 bounding boxes\n",
      "Line 4097: 400 bounding boxes\n",
      "Line 4098: 400 bounding boxes\n",
      "Line 4099: 400 bounding boxes\n",
      "Line 4100: 400 bounding boxes\n",
      "Line 4101: 400 bounding boxes\n",
      "Line 4102: 400 bounding boxes\n",
      "Line 4103: 400 bounding boxes\n",
      "Line 4104: 400 bounding boxes\n",
      "Line 4105: 400 bounding boxes\n",
      "Line 4106: 400 bounding boxes\n",
      "Line 4107: 400 bounding boxes\n",
      "Line 4108: 400 bounding boxes\n",
      "Line 4109: 400 bounding boxes\n",
      "Line 4110: 400 bounding boxes\n",
      "Line 4111: 400 bounding boxes\n",
      "Line 4112: 400 bounding boxes\n",
      "Line 4113: 400 bounding boxes\n",
      "Line 4114: 400 bounding boxes\n",
      "Line 4115: 400 bounding boxes\n",
      "Line 4116: 400 bounding boxes\n",
      "Line 4117: 400 bounding boxes\n",
      "Line 4118: 400 bounding boxes\n",
      "Line 4119: 400 bounding boxes\n",
      "Line 4120: 400 bounding boxes\n",
      "Line 4121: 400 bounding boxes\n",
      "Line 4122: 400 bounding boxes\n",
      "Line 4123: 400 bounding boxes\n",
      "Line 4124: 400 bounding boxes\n",
      "Line 4125: 400 bounding boxes\n",
      "Line 4126: 400 bounding boxes\n",
      "Line 4127: 400 bounding boxes\n",
      "Line 4128: 400 bounding boxes\n",
      "Line 4129: 400 bounding boxes\n",
      "Line 4130: 400 bounding boxes\n",
      "Line 4131: 400 bounding boxes\n",
      "Line 4132: 400 bounding boxes\n",
      "Line 4133: 400 bounding boxes\n",
      "Line 4134: 400 bounding boxes\n",
      "Line 4135: 400 bounding boxes\n",
      "Line 4136: 400 bounding boxes\n",
      "Line 4137: 400 bounding boxes\n",
      "Line 4138: 400 bounding boxes\n",
      "Line 4139: 400 bounding boxes\n",
      "Line 4140: 400 bounding boxes\n",
      "Line 4141: 400 bounding boxes\n",
      "Line 4142: 400 bounding boxes\n",
      "Line 4143: 400 bounding boxes\n",
      "Line 4144: 400 bounding boxes\n",
      "Line 4145: 400 bounding boxes\n",
      "Line 4146: 400 bounding boxes\n",
      "Line 4147: 400 bounding boxes\n",
      "Line 4148: 400 bounding boxes\n",
      "Line 4149: 400 bounding boxes\n",
      "Line 4150: 400 bounding boxes\n",
      "Line 4151: 400 bounding boxes\n",
      "Line 4152: 400 bounding boxes\n",
      "Line 4153: 400 bounding boxes\n",
      "Line 4154: 400 bounding boxes\n",
      "Line 4155: 400 bounding boxes\n",
      "Line 4156: 400 bounding boxes\n",
      "Line 4157: 400 bounding boxes\n",
      "Line 4158: 400 bounding boxes\n",
      "Line 4159: 400 bounding boxes\n",
      "Line 4160: 400 bounding boxes\n",
      "Line 4161: 400 bounding boxes\n",
      "Line 4162: 400 bounding boxes\n",
      "Line 4163: 400 bounding boxes\n",
      "Line 4164: 400 bounding boxes\n",
      "Line 4165: 400 bounding boxes\n",
      "Line 4166: 400 bounding boxes\n",
      "Line 4167: 400 bounding boxes\n",
      "Line 4168: 400 bounding boxes\n",
      "Line 4169: 400 bounding boxes\n",
      "Line 4170: 400 bounding boxes\n",
      "Line 4171: 400 bounding boxes\n",
      "Line 4172: 400 bounding boxes\n",
      "Line 4173: 400 bounding boxes\n",
      "Line 4174: 400 bounding boxes\n",
      "Line 4175: 400 bounding boxes\n",
      "Line 4176: 400 bounding boxes\n",
      "Line 4177: 400 bounding boxes\n",
      "Line 4178: 400 bounding boxes\n",
      "Line 4179: 400 bounding boxes\n",
      "Line 4180: 400 bounding boxes\n",
      "Line 4181: 400 bounding boxes\n",
      "Line 4182: 400 bounding boxes\n",
      "Line 4183: 400 bounding boxes\n",
      "Line 4184: 400 bounding boxes\n",
      "Line 4185: 400 bounding boxes\n",
      "Line 4186: 400 bounding boxes\n",
      "Line 4187: 400 bounding boxes\n",
      "Line 4188: 400 bounding boxes\n",
      "Line 4189: 400 bounding boxes\n",
      "Line 4190: 400 bounding boxes\n",
      "Line 4191: 400 bounding boxes\n",
      "Line 4192: 400 bounding boxes\n",
      "Line 4193: 400 bounding boxes\n",
      "Line 4194: 400 bounding boxes\n",
      "Line 4195: 400 bounding boxes\n",
      "Line 4196: 400 bounding boxes\n",
      "Line 4197: 400 bounding boxes\n",
      "Line 4198: 400 bounding boxes\n",
      "Line 4199: 400 bounding boxes\n",
      "Line 4200: 400 bounding boxes\n",
      "Line 4201: 400 bounding boxes\n",
      "Line 4202: 400 bounding boxes\n",
      "Line 4203: 400 bounding boxes\n",
      "Line 4204: 400 bounding boxes\n",
      "Line 4205: 400 bounding boxes\n",
      "Line 4206: 400 bounding boxes\n",
      "Line 4207: 400 bounding boxes\n",
      "Line 4208: 400 bounding boxes\n",
      "Line 4209: 400 bounding boxes\n",
      "Line 4210: 400 bounding boxes\n",
      "Line 4211: 400 bounding boxes\n",
      "Line 4212: 400 bounding boxes\n",
      "Line 4213: 400 bounding boxes\n",
      "Line 4214: 400 bounding boxes\n",
      "Line 4215: 400 bounding boxes\n",
      "Line 4216: 400 bounding boxes\n",
      "Line 4217: 400 bounding boxes\n",
      "Line 4218: 400 bounding boxes\n",
      "Line 4219: 400 bounding boxes\n",
      "Line 4220: 400 bounding boxes\n",
      "Line 4221: 400 bounding boxes\n",
      "Line 4222: 400 bounding boxes\n",
      "Line 4223: 400 bounding boxes\n",
      "Line 4224: 400 bounding boxes\n",
      "Line 4225: 400 bounding boxes\n",
      "Line 4226: 400 bounding boxes\n",
      "Line 4227: 400 bounding boxes\n",
      "Line 4228: 400 bounding boxes\n",
      "Line 4229: 400 bounding boxes\n",
      "Line 4230: 400 bounding boxes\n",
      "Line 4231: 400 bounding boxes\n",
      "Line 4232: 400 bounding boxes\n",
      "Line 4233: 400 bounding boxes\n",
      "Line 4234: 400 bounding boxes\n",
      "Line 4235: 400 bounding boxes\n",
      "Line 4236: 400 bounding boxes\n",
      "Line 4237: 400 bounding boxes\n",
      "Line 4238: 400 bounding boxes\n",
      "Line 4239: 400 bounding boxes\n",
      "Line 4240: 400 bounding boxes\n",
      "Line 4241: 400 bounding boxes\n",
      "Line 4242: 400 bounding boxes\n",
      "Line 4243: 400 bounding boxes\n",
      "Line 4244: 400 bounding boxes\n",
      "Line 4245: 400 bounding boxes\n",
      "Line 4246: 400 bounding boxes\n",
      "Line 4247: 400 bounding boxes\n",
      "Line 4248: 400 bounding boxes\n",
      "Line 4249: 400 bounding boxes\n",
      "Line 4250: 400 bounding boxes\n",
      "Line 4251: 400 bounding boxes\n",
      "Line 4252: 400 bounding boxes\n",
      "Line 4253: 400 bounding boxes\n",
      "Line 4254: 400 bounding boxes\n",
      "Line 4255: 400 bounding boxes\n",
      "Line 4256: 400 bounding boxes\n",
      "Line 4257: 400 bounding boxes\n",
      "Line 4258: 400 bounding boxes\n",
      "Line 4259: 400 bounding boxes\n",
      "Line 4260: 400 bounding boxes\n",
      "Line 4261: 400 bounding boxes\n",
      "Line 4262: 400 bounding boxes\n",
      "Line 4263: 400 bounding boxes\n",
      "Line 4264: 400 bounding boxes\n",
      "Line 4265: 400 bounding boxes\n",
      "Line 4266: 400 bounding boxes\n",
      "Line 4267: 400 bounding boxes\n",
      "Line 4268: 400 bounding boxes\n",
      "Line 4269: 400 bounding boxes\n",
      "Line 4270: 400 bounding boxes\n",
      "Line 4271: 400 bounding boxes\n",
      "Line 4272: 400 bounding boxes\n",
      "Line 4273: 400 bounding boxes\n",
      "Line 4274: 400 bounding boxes\n",
      "Line 4275: 400 bounding boxes\n",
      "Line 4276: 400 bounding boxes\n",
      "Line 4277: 400 bounding boxes\n",
      "Line 4278: 400 bounding boxes\n",
      "Line 4279: 400 bounding boxes\n",
      "Line 4280: 400 bounding boxes\n",
      "Line 4281: 400 bounding boxes\n",
      "Line 4282: 400 bounding boxes\n",
      "Line 4283: 400 bounding boxes\n",
      "Line 4284: 400 bounding boxes\n",
      "Line 4285: 400 bounding boxes\n",
      "Line 4286: 400 bounding boxes\n",
      "Line 4287: 400 bounding boxes\n",
      "Line 4288: 400 bounding boxes\n",
      "Line 4289: 400 bounding boxes\n",
      "Line 4290: 400 bounding boxes\n",
      "Line 4291: 400 bounding boxes\n",
      "Line 4292: 400 bounding boxes\n",
      "Line 4293: 400 bounding boxes\n",
      "Line 4294: 400 bounding boxes\n",
      "Line 4295: 400 bounding boxes\n",
      "Line 4296: 400 bounding boxes\n",
      "Line 4297: 400 bounding boxes\n",
      "Line 4298: 400 bounding boxes\n",
      "Line 4299: 400 bounding boxes\n",
      "Line 4300: 400 bounding boxes\n",
      "Line 4301: 400 bounding boxes\n",
      "Line 4302: 400 bounding boxes\n",
      "Line 4303: 400 bounding boxes\n",
      "Line 4304: 400 bounding boxes\n",
      "Line 4305: 400 bounding boxes\n",
      "Line 4306: 400 bounding boxes\n",
      "Line 4307: 400 bounding boxes\n",
      "Line 4308: 400 bounding boxes\n",
      "Line 4309: 400 bounding boxes\n",
      "Line 4310: 400 bounding boxes\n",
      "Line 4311: 400 bounding boxes\n",
      "Line 4312: 400 bounding boxes\n",
      "Line 4313: 400 bounding boxes\n",
      "Line 4314: 400 bounding boxes\n",
      "Line 4315: 400 bounding boxes\n",
      "Line 4316: 400 bounding boxes\n",
      "Line 4317: 400 bounding boxes\n",
      "Line 4318: 400 bounding boxes\n",
      "Line 4319: 400 bounding boxes\n",
      "Line 4320: 400 bounding boxes\n",
      "Line 4321: 400 bounding boxes\n",
      "Line 4322: 400 bounding boxes\n",
      "Line 4323: 400 bounding boxes\n",
      "Line 4324: 400 bounding boxes\n",
      "Line 4325: 400 bounding boxes\n",
      "Line 4326: 400 bounding boxes\n",
      "Line 4327: 400 bounding boxes\n",
      "Line 4328: 400 bounding boxes\n",
      "Line 4329: 400 bounding boxes\n",
      "Line 4330: 400 bounding boxes\n",
      "Line 4331: 400 bounding boxes\n",
      "Line 4332: 400 bounding boxes\n",
      "Line 4333: 400 bounding boxes\n",
      "Line 4334: 400 bounding boxes\n",
      "Line 4335: 400 bounding boxes\n",
      "Line 4336: 400 bounding boxes\n",
      "Line 4337: 400 bounding boxes\n",
      "Line 4338: 400 bounding boxes\n",
      "Line 4339: 400 bounding boxes\n",
      "Line 4340: 400 bounding boxes\n",
      "Line 4341: 400 bounding boxes\n",
      "Line 4342: 400 bounding boxes\n",
      "Line 4343: 400 bounding boxes\n",
      "Line 4344: 400 bounding boxes\n",
      "Line 4345: 400 bounding boxes\n",
      "Line 4346: 400 bounding boxes\n",
      "Line 4347: 400 bounding boxes\n",
      "Line 4348: 400 bounding boxes\n",
      "Line 4349: 400 bounding boxes\n",
      "Line 4350: 400 bounding boxes\n",
      "Line 4351: 400 bounding boxes\n",
      "Line 4352: 400 bounding boxes\n",
      "Line 4353: 400 bounding boxes\n",
      "Line 4354: 400 bounding boxes\n",
      "Line 4355: 400 bounding boxes\n",
      "Line 4356: 400 bounding boxes\n",
      "Line 4357: 400 bounding boxes\n",
      "Line 4358: 400 bounding boxes\n",
      "Line 4359: 400 bounding boxes\n",
      "Line 4360: 400 bounding boxes\n",
      "Line 4361: 400 bounding boxes\n",
      "Line 4362: 400 bounding boxes\n",
      "Line 4363: 400 bounding boxes\n",
      "Line 4364: 400 bounding boxes\n",
      "Line 4365: 400 bounding boxes\n",
      "Line 4366: 400 bounding boxes\n",
      "Line 4367: 400 bounding boxes\n",
      "Line 4368: 400 bounding boxes\n",
      "Line 4369: 400 bounding boxes\n",
      "Line 4370: 400 bounding boxes\n",
      "Line 4371: 400 bounding boxes\n",
      "Line 4372: 400 bounding boxes\n",
      "Line 4373: 400 bounding boxes\n",
      "Line 4374: 400 bounding boxes\n",
      "Line 4375: 400 bounding boxes\n",
      "Line 4376: 400 bounding boxes\n",
      "Line 4377: 400 bounding boxes\n",
      "Line 4378: 400 bounding boxes\n",
      "Line 4379: 400 bounding boxes\n",
      "Line 4380: 400 bounding boxes\n",
      "Line 4381: 400 bounding boxes\n",
      "Line 4382: 400 bounding boxes\n",
      "Line 4383: 400 bounding boxes\n",
      "Line 4384: 400 bounding boxes\n",
      "Line 4385: 400 bounding boxes\n",
      "Line 4386: 400 bounding boxes\n",
      "Line 4387: 400 bounding boxes\n",
      "Line 4388: 400 bounding boxes\n",
      "Line 4389: 400 bounding boxes\n",
      "Line 4390: 400 bounding boxes\n",
      "Line 4391: 400 bounding boxes\n",
      "Line 4392: 400 bounding boxes\n",
      "Line 4393: 400 bounding boxes\n",
      "Line 4394: 400 bounding boxes\n",
      "Line 4395: 400 bounding boxes\n",
      "Line 4396: 400 bounding boxes\n",
      "Line 4397: 400 bounding boxes\n",
      "Line 4398: 400 bounding boxes\n",
      "Line 4399: 400 bounding boxes\n",
      "Line 4400: 400 bounding boxes\n",
      "Line 4401: 400 bounding boxes\n",
      "Line 4402: 400 bounding boxes\n",
      "Line 4403: 400 bounding boxes\n",
      "Line 4404: 400 bounding boxes\n",
      "Line 4405: 400 bounding boxes\n",
      "Line 4406: 400 bounding boxes\n",
      "Line 4407: 400 bounding boxes\n",
      "Line 4408: 400 bounding boxes\n",
      "Line 4409: 400 bounding boxes\n",
      "Line 4410: 400 bounding boxes\n",
      "Line 4411: 400 bounding boxes\n",
      "Line 4412: 400 bounding boxes\n",
      "Line 4413: 400 bounding boxes\n",
      "Line 4414: 400 bounding boxes\n",
      "Line 4415: 400 bounding boxes\n",
      "Line 4416: 400 bounding boxes\n",
      "Line 4417: 400 bounding boxes\n",
      "Line 4418: 400 bounding boxes\n",
      "Line 4419: 400 bounding boxes\n",
      "Line 4420: 400 bounding boxes\n",
      "Line 4421: 400 bounding boxes\n",
      "Line 4422: 400 bounding boxes\n",
      "Line 4423: 400 bounding boxes\n",
      "Line 4424: 400 bounding boxes\n",
      "Line 4425: 400 bounding boxes\n",
      "Line 4426: 400 bounding boxes\n",
      "Line 4427: 400 bounding boxes\n",
      "Line 4428: 400 bounding boxes\n",
      "Line 4429: 400 bounding boxes\n",
      "Line 4430: 400 bounding boxes\n",
      "Line 4431: 400 bounding boxes\n",
      "Line 4432: 400 bounding boxes\n",
      "Line 4433: 400 bounding boxes\n",
      "Line 4434: 400 bounding boxes\n",
      "Line 4435: 400 bounding boxes\n",
      "Line 4436: 400 bounding boxes\n",
      "Line 4437: 400 bounding boxes\n",
      "Line 4438: 400 bounding boxes\n",
      "Line 4439: 400 bounding boxes\n",
      "Line 4440: 400 bounding boxes\n",
      "Line 4441: 400 bounding boxes\n",
      "Line 4442: 400 bounding boxes\n",
      "Line 4443: 400 bounding boxes\n",
      "Line 4444: 400 bounding boxes\n",
      "Line 4445: 400 bounding boxes\n",
      "Line 4446: 400 bounding boxes\n",
      "Line 4447: 400 bounding boxes\n",
      "Line 4448: 400 bounding boxes\n",
      "Line 4449: 400 bounding boxes\n",
      "Line 4450: 400 bounding boxes\n",
      "Line 4451: 400 bounding boxes\n",
      "Line 4452: 400 bounding boxes\n",
      "Line 4453: 400 bounding boxes\n",
      "Line 4454: 400 bounding boxes\n",
      "Line 4455: 400 bounding boxes\n",
      "Line 4456: 400 bounding boxes\n",
      "Line 4457: 400 bounding boxes\n",
      "Line 4458: 400 bounding boxes\n",
      "Line 4459: 400 bounding boxes\n",
      "Line 4460: 400 bounding boxes\n",
      "Line 4461: 400 bounding boxes\n",
      "Line 4462: 400 bounding boxes\n",
      "Line 4463: 400 bounding boxes\n",
      "Line 4464: 400 bounding boxes\n",
      "Line 4465: 400 bounding boxes\n",
      "Line 4466: 400 bounding boxes\n",
      "Line 4467: 400 bounding boxes\n",
      "Line 4468: 400 bounding boxes\n",
      "Line 4469: 400 bounding boxes\n",
      "Line 4470: 400 bounding boxes\n",
      "Line 4471: 400 bounding boxes\n",
      "Line 4472: 400 bounding boxes\n",
      "Line 4473: 400 bounding boxes\n",
      "Line 4474: 400 bounding boxes\n",
      "Line 4475: 400 bounding boxes\n",
      "Line 4476: 400 bounding boxes\n",
      "Line 4477: 400 bounding boxes\n",
      "Line 4478: 400 bounding boxes\n",
      "Line 4479: 400 bounding boxes\n",
      "Line 4480: 400 bounding boxes\n",
      "Line 4481: 400 bounding boxes\n",
      "Line 4482: 400 bounding boxes\n",
      "Line 4483: 400 bounding boxes\n",
      "Line 4484: 400 bounding boxes\n",
      "Line 4485: 400 bounding boxes\n",
      "Line 4486: 400 bounding boxes\n",
      "Line 4487: 400 bounding boxes\n",
      "Line 4488: 400 bounding boxes\n",
      "Line 4489: 400 bounding boxes\n",
      "Line 4490: 400 bounding boxes\n",
      "Line 4491: 400 bounding boxes\n",
      "Line 4492: 400 bounding boxes\n",
      "Line 4493: 400 bounding boxes\n",
      "Line 4494: 400 bounding boxes\n",
      "Line 4495: 400 bounding boxes\n",
      "Line 4496: 400 bounding boxes\n",
      "Line 4497: 400 bounding boxes\n",
      "Line 4498: 400 bounding boxes\n",
      "Line 4499: 400 bounding boxes\n",
      "Line 4500: 400 bounding boxes\n",
      "Line 4501: 400 bounding boxes\n",
      "Line 4502: 400 bounding boxes\n",
      "Line 4503: 400 bounding boxes\n",
      "Line 4504: 400 bounding boxes\n",
      "Line 4505: 400 bounding boxes\n",
      "Line 4506: 400 bounding boxes\n",
      "Line 4507: 400 bounding boxes\n",
      "Line 4508: 400 bounding boxes\n",
      "Line 4509: 400 bounding boxes\n",
      "Line 4510: 400 bounding boxes\n",
      "Line 4511: 400 bounding boxes\n",
      "Line 4512: 400 bounding boxes\n",
      "Line 4513: 400 bounding boxes\n",
      "Line 4514: 400 bounding boxes\n",
      "Line 4515: 400 bounding boxes\n",
      "Line 4516: 400 bounding boxes\n",
      "Line 4517: 400 bounding boxes\n",
      "Line 4518: 400 bounding boxes\n",
      "Line 4519: 400 bounding boxes\n",
      "Line 4520: 400 bounding boxes\n",
      "Line 4521: 400 bounding boxes\n",
      "Line 4522: 400 bounding boxes\n",
      "Line 4523: 400 bounding boxes\n",
      "Line 4524: 400 bounding boxes\n",
      "Line 4525: 400 bounding boxes\n",
      "Line 4526: 400 bounding boxes\n",
      "Line 4527: 400 bounding boxes\n",
      "Line 4528: 400 bounding boxes\n",
      "Line 4529: 400 bounding boxes\n",
      "Line 4530: 400 bounding boxes\n",
      "Line 4531: 400 bounding boxes\n",
      "Line 4532: 400 bounding boxes\n",
      "Line 4533: 400 bounding boxes\n",
      "Line 4534: 400 bounding boxes\n",
      "Line 4535: 400 bounding boxes\n",
      "Line 4536: 400 bounding boxes\n",
      "Line 4537: 400 bounding boxes\n",
      "Line 4538: 400 bounding boxes\n",
      "Line 4539: 400 bounding boxes\n",
      "Line 4540: 400 bounding boxes\n",
      "Line 4541: 400 bounding boxes\n",
      "Line 4542: 400 bounding boxes\n",
      "Line 4543: 400 bounding boxes\n",
      "Line 4544: 400 bounding boxes\n",
      "Line 4545: 400 bounding boxes\n",
      "Line 4546: 400 bounding boxes\n",
      "Line 4547: 400 bounding boxes\n",
      "Line 4548: 400 bounding boxes\n",
      "Line 4549: 400 bounding boxes\n",
      "Line 4550: 400 bounding boxes\n",
      "Line 4551: 400 bounding boxes\n",
      "Line 4552: 400 bounding boxes\n",
      "Line 4553: 400 bounding boxes\n",
      "Line 4554: 400 bounding boxes\n",
      "Line 4555: 400 bounding boxes\n",
      "Line 4556: 400 bounding boxes\n",
      "Line 4557: 400 bounding boxes\n",
      "Line 4558: 400 bounding boxes\n",
      "Line 4559: 400 bounding boxes\n",
      "Line 4560: 400 bounding boxes\n",
      "Line 4561: 400 bounding boxes\n",
      "Line 4562: 400 bounding boxes\n",
      "Line 4563: 400 bounding boxes\n",
      "Line 4564: 400 bounding boxes\n",
      "Line 4565: 400 bounding boxes\n",
      "Line 4566: 400 bounding boxes\n",
      "Line 4567: 400 bounding boxes\n",
      "Line 4568: 400 bounding boxes\n",
      "Line 4569: 400 bounding boxes\n",
      "Line 4570: 400 bounding boxes\n",
      "Line 4571: 400 bounding boxes\n",
      "Line 4572: 400 bounding boxes\n",
      "Line 4573: 400 bounding boxes\n",
      "Line 4574: 400 bounding boxes\n",
      "Line 4575: 400 bounding boxes\n",
      "Line 4576: 400 bounding boxes\n",
      "Line 4577: 400 bounding boxes\n",
      "Line 4578: 400 bounding boxes\n",
      "Line 4579: 400 bounding boxes\n",
      "Line 4580: 400 bounding boxes\n",
      "Line 4581: 400 bounding boxes\n",
      "Line 4582: 400 bounding boxes\n",
      "Line 4583: 400 bounding boxes\n",
      "Line 4584: 400 bounding boxes\n",
      "Line 4585: 400 bounding boxes\n",
      "Line 4586: 400 bounding boxes\n",
      "Line 4587: 400 bounding boxes\n",
      "Line 4588: 400 bounding boxes\n",
      "Line 4589: 400 bounding boxes\n",
      "Line 4590: 400 bounding boxes\n",
      "Line 4591: 400 bounding boxes\n",
      "Line 4592: 400 bounding boxes\n",
      "Line 4593: 400 bounding boxes\n",
      "Line 4594: 400 bounding boxes\n",
      "Line 4595: 400 bounding boxes\n",
      "Line 4596: 400 bounding boxes\n",
      "Line 4597: 400 bounding boxes\n",
      "Line 4598: 400 bounding boxes\n",
      "Line 4599: 400 bounding boxes\n",
      "Line 4600: 400 bounding boxes\n",
      "Line 4601: 400 bounding boxes\n",
      "Line 4602: 400 bounding boxes\n",
      "Line 4603: 400 bounding boxes\n",
      "Line 4604: 400 bounding boxes\n",
      "Line 4605: 400 bounding boxes\n",
      "Line 4606: 400 bounding boxes\n",
      "Line 4607: 400 bounding boxes\n",
      "Line 4608: 400 bounding boxes\n",
      "Line 4609: 400 bounding boxes\n",
      "Line 4610: 400 bounding boxes\n",
      "Line 4611: 400 bounding boxes\n",
      "Line 4612: 400 bounding boxes\n",
      "Line 4613: 400 bounding boxes\n",
      "Line 4614: 400 bounding boxes\n",
      "Line 4615: 400 bounding boxes\n",
      "Line 4616: 400 bounding boxes\n",
      "Line 4617: 400 bounding boxes\n",
      "Line 4618: 400 bounding boxes\n",
      "Line 4619: 400 bounding boxes\n",
      "Line 4620: 400 bounding boxes\n",
      "Line 4621: 400 bounding boxes\n",
      "Line 4622: 400 bounding boxes\n",
      "Line 4623: 400 bounding boxes\n",
      "Line 4624: 400 bounding boxes\n",
      "Line 4625: 400 bounding boxes\n",
      "Line 4626: 400 bounding boxes\n",
      "Line 4627: 400 bounding boxes\n",
      "Line 4628: 400 bounding boxes\n",
      "Line 4629: 400 bounding boxes\n",
      "Line 4630: 400 bounding boxes\n",
      "Line 4631: 400 bounding boxes\n",
      "Line 4632: 400 bounding boxes\n",
      "Line 4633: 400 bounding boxes\n",
      "Line 4634: 400 bounding boxes\n",
      "Line 4635: 400 bounding boxes\n",
      "Line 4636: 400 bounding boxes\n",
      "Line 4637: 400 bounding boxes\n",
      "Line 4638: 400 bounding boxes\n",
      "Line 4639: 400 bounding boxes\n",
      "Line 4640: 400 bounding boxes\n",
      "Line 4641: 400 bounding boxes\n",
      "Line 4642: 400 bounding boxes\n",
      "Line 4643: 400 bounding boxes\n",
      "Line 4644: 400 bounding boxes\n",
      "Line 4645: 400 bounding boxes\n",
      "Line 4646: 400 bounding boxes\n",
      "Line 4647: 400 bounding boxes\n",
      "Line 4648: 400 bounding boxes\n",
      "Line 4649: 400 bounding boxes\n",
      "Line 4650: 400 bounding boxes\n",
      "Line 4651: 400 bounding boxes\n",
      "Line 4652: 400 bounding boxes\n",
      "Line 4653: 400 bounding boxes\n",
      "Line 4654: 400 bounding boxes\n",
      "Line 4655: 400 bounding boxes\n",
      "Line 4656: 400 bounding boxes\n",
      "Line 4657: 400 bounding boxes\n",
      "Line 4658: 400 bounding boxes\n",
      "Line 4659: 400 bounding boxes\n",
      "Line 4660: 400 bounding boxes\n",
      "Line 4661: 400 bounding boxes\n",
      "Line 4662: 400 bounding boxes\n",
      "Line 4663: 400 bounding boxes\n",
      "Line 4664: 400 bounding boxes\n",
      "Line 4665: 400 bounding boxes\n",
      "Line 4666: 400 bounding boxes\n",
      "Line 4667: 400 bounding boxes\n",
      "Line 4668: 400 bounding boxes\n",
      "Line 4669: 400 bounding boxes\n",
      "Line 4670: 400 bounding boxes\n",
      "Line 4671: 400 bounding boxes\n",
      "Line 4672: 400 bounding boxes\n",
      "Line 4673: 400 bounding boxes\n",
      "Line 4674: 400 bounding boxes\n",
      "Line 4675: 400 bounding boxes\n",
      "Line 4676: 400 bounding boxes\n",
      "Line 4677: 400 bounding boxes\n",
      "Line 4678: 400 bounding boxes\n",
      "Line 4679: 400 bounding boxes\n",
      "Line 4680: 400 bounding boxes\n",
      "Line 4681: 400 bounding boxes\n",
      "Line 4682: 400 bounding boxes\n",
      "Line 4683: 400 bounding boxes\n",
      "Line 4684: 400 bounding boxes\n",
      "Line 4685: 400 bounding boxes\n",
      "Line 4686: 400 bounding boxes\n",
      "Line 4687: 400 bounding boxes\n",
      "Line 4688: 400 bounding boxes\n",
      "Line 4689: 400 bounding boxes\n",
      "Line 4690: 400 bounding boxes\n",
      "Line 4691: 400 bounding boxes\n",
      "Line 4692: 400 bounding boxes\n",
      "Line 4693: 400 bounding boxes\n",
      "Line 4694: 400 bounding boxes\n",
      "Line 4695: 400 bounding boxes\n",
      "Line 4696: 400 bounding boxes\n",
      "Line 4697: 400 bounding boxes\n",
      "Line 4698: 400 bounding boxes\n",
      "Line 4699: 400 bounding boxes\n",
      "Line 4700: 400 bounding boxes\n",
      "Line 4701: 400 bounding boxes\n",
      "Line 4702: 400 bounding boxes\n",
      "Line 4703: 400 bounding boxes\n",
      "Line 4704: 400 bounding boxes\n",
      "Line 4705: 400 bounding boxes\n",
      "Line 4706: 400 bounding boxes\n",
      "Line 4707: 400 bounding boxes\n",
      "Line 4708: 400 bounding boxes\n",
      "Line 4709: 400 bounding boxes\n",
      "Line 4710: 400 bounding boxes\n",
      "Line 4711: 400 bounding boxes\n",
      "Line 4712: 400 bounding boxes\n",
      "Line 4713: 400 bounding boxes\n",
      "Line 4714: 400 bounding boxes\n",
      "Line 4715: 400 bounding boxes\n",
      "Line 4716: 400 bounding boxes\n",
      "Line 4717: 400 bounding boxes\n",
      "Line 4718: 400 bounding boxes\n",
      "Line 4719: 400 bounding boxes\n",
      "Line 4720: 400 bounding boxes\n",
      "Line 4721: 400 bounding boxes\n",
      "Line 4722: 400 bounding boxes\n",
      "Line 4723: 400 bounding boxes\n",
      "Line 4724: 400 bounding boxes\n",
      "Line 4725: 400 bounding boxes\n",
      "Line 4726: 400 bounding boxes\n",
      "Line 4727: 400 bounding boxes\n",
      "Line 4728: 400 bounding boxes\n",
      "Line 4729: 400 bounding boxes\n",
      "Line 4730: 400 bounding boxes\n",
      "Line 4731: 400 bounding boxes\n",
      "Line 4732: 400 bounding boxes\n",
      "Line 4733: 400 bounding boxes\n",
      "Line 4734: 400 bounding boxes\n",
      "Line 4735: 400 bounding boxes\n",
      "Line 4736: 400 bounding boxes\n",
      "Line 4737: 400 bounding boxes\n",
      "Line 4738: 400 bounding boxes\n",
      "Line 4739: 400 bounding boxes\n",
      "Line 4740: 400 bounding boxes\n",
      "Line 4741: 400 bounding boxes\n",
      "Line 4742: 400 bounding boxes\n",
      "Line 4743: 400 bounding boxes\n",
      "Line 4744: 400 bounding boxes\n",
      "Line 4745: 400 bounding boxes\n",
      "Line 4746: 400 bounding boxes\n",
      "Line 4747: 400 bounding boxes\n",
      "Line 4748: 400 bounding boxes\n",
      "Line 4749: 400 bounding boxes\n",
      "Line 4750: 400 bounding boxes\n",
      "Line 4751: 400 bounding boxes\n",
      "Line 4752: 400 bounding boxes\n",
      "Line 4753: 400 bounding boxes\n",
      "Line 4754: 400 bounding boxes\n",
      "Line 4755: 400 bounding boxes\n",
      "Line 4756: 400 bounding boxes\n",
      "Line 4757: 400 bounding boxes\n",
      "Line 4758: 400 bounding boxes\n",
      "Line 4759: 400 bounding boxes\n",
      "Line 4760: 400 bounding boxes\n",
      "Line 4761: 400 bounding boxes\n",
      "Line 4762: 400 bounding boxes\n",
      "Line 4763: 400 bounding boxes\n",
      "Line 4764: 400 bounding boxes\n",
      "Line 4765: 400 bounding boxes\n",
      "Line 4766: 400 bounding boxes\n",
      "Line 4767: 400 bounding boxes\n",
      "Line 4768: 400 bounding boxes\n",
      "Line 4769: 400 bounding boxes\n",
      "Line 4770: 400 bounding boxes\n",
      "Line 4771: 400 bounding boxes\n",
      "Line 4772: 400 bounding boxes\n",
      "Line 4773: 400 bounding boxes\n",
      "Line 4774: 400 bounding boxes\n",
      "Line 4775: 400 bounding boxes\n",
      "Line 4776: 400 bounding boxes\n",
      "Line 4777: 400 bounding boxes\n",
      "Line 4778: 400 bounding boxes\n",
      "Line 4779: 400 bounding boxes\n",
      "Line 4780: 400 bounding boxes\n",
      "Line 4781: 400 bounding boxes\n",
      "Line 4782: 400 bounding boxes\n",
      "Line 4783: 400 bounding boxes\n",
      "Line 4784: 400 bounding boxes\n",
      "Line 4785: 400 bounding boxes\n",
      "Line 4786: 400 bounding boxes\n",
      "Line 4787: 400 bounding boxes\n",
      "Line 4788: 400 bounding boxes\n",
      "Line 4789: 400 bounding boxes\n",
      "Line 4790: 400 bounding boxes\n",
      "Line 4791: 400 bounding boxes\n",
      "Line 4792: 400 bounding boxes\n",
      "Line 4793: 400 bounding boxes\n",
      "Line 4794: 400 bounding boxes\n",
      "Line 4795: 400 bounding boxes\n",
      "Line 4796: 400 bounding boxes\n",
      "Line 4797: 400 bounding boxes\n",
      "Line 4798: 400 bounding boxes\n",
      "Line 4799: 400 bounding boxes\n",
      "Line 4800: 400 bounding boxes\n",
      "Line 4801: 400 bounding boxes\n",
      "Line 4802: 400 bounding boxes\n",
      "Line 4803: 400 bounding boxes\n",
      "Line 4804: 400 bounding boxes\n",
      "Line 4805: 400 bounding boxes\n",
      "Line 4806: 400 bounding boxes\n",
      "Line 4807: 400 bounding boxes\n",
      "Line 4808: 400 bounding boxes\n",
      "Line 4809: 400 bounding boxes\n",
      "Line 4810: 400 bounding boxes\n",
      "Line 4811: 400 bounding boxes\n",
      "Line 4812: 400 bounding boxes\n",
      "Line 4813: 400 bounding boxes\n",
      "Line 4814: 400 bounding boxes\n",
      "Line 4815: 400 bounding boxes\n",
      "Line 4816: 400 bounding boxes\n",
      "Line 4817: 400 bounding boxes\n",
      "Line 4818: 400 bounding boxes\n",
      "Line 4819: 400 bounding boxes\n",
      "Line 4820: 400 bounding boxes\n",
      "Line 4821: 400 bounding boxes\n",
      "Line 4822: 400 bounding boxes\n",
      "Line 4823: 400 bounding boxes\n",
      "Line 4824: 400 bounding boxes\n",
      "Line 4825: 400 bounding boxes\n",
      "Line 4826: 400 bounding boxes\n",
      "Line 4827: 400 bounding boxes\n",
      "Line 4828: 400 bounding boxes\n",
      "Line 4829: 400 bounding boxes\n",
      "Line 4830: 400 bounding boxes\n",
      "Line 4831: 400 bounding boxes\n",
      "Line 4832: 400 bounding boxes\n",
      "Line 4833: 400 bounding boxes\n",
      "Line 4834: 400 bounding boxes\n",
      "Line 4835: 400 bounding boxes\n",
      "Line 4836: 400 bounding boxes\n",
      "Line 4837: 400 bounding boxes\n",
      "Line 4838: 400 bounding boxes\n",
      "Line 4839: 400 bounding boxes\n",
      "Line 4840: 400 bounding boxes\n",
      "Line 4841: 400 bounding boxes\n",
      "Line 4842: 400 bounding boxes\n",
      "Line 4843: 400 bounding boxes\n",
      "Line 4844: 400 bounding boxes\n",
      "Line 4845: 400 bounding boxes\n",
      "Line 4846: 400 bounding boxes\n",
      "Line 4847: 400 bounding boxes\n",
      "Line 4848: 400 bounding boxes\n",
      "Line 4849: 400 bounding boxes\n",
      "Line 4850: 400 bounding boxes\n",
      "Line 4851: 400 bounding boxes\n",
      "Line 4852: 400 bounding boxes\n",
      "Line 4853: 400 bounding boxes\n",
      "Line 4854: 400 bounding boxes\n",
      "Line 4855: 400 bounding boxes\n",
      "Line 4856: 400 bounding boxes\n",
      "Line 4857: 400 bounding boxes\n",
      "Line 4858: 400 bounding boxes\n",
      "Line 4859: 400 bounding boxes\n",
      "Line 4860: 400 bounding boxes\n",
      "Line 4861: 400 bounding boxes\n",
      "Line 4862: 400 bounding boxes\n",
      "Line 4863: 400 bounding boxes\n",
      "Line 4864: 400 bounding boxes\n",
      "Line 4865: 400 bounding boxes\n",
      "Line 4866: 400 bounding boxes\n",
      "Line 4867: 400 bounding boxes\n",
      "Line 4868: 400 bounding boxes\n",
      "Line 4869: 400 bounding boxes\n",
      "Line 4870: 400 bounding boxes\n",
      "Line 4871: 400 bounding boxes\n",
      "1948400\n"
     ]
    }
   ],
   "source": [
    "#confidence score 기준으로 새로 뽑음\n",
    "#\n",
    "# 박스개수 지우거나 score 로 자를때 사용\n",
    "#\n",
    "\n",
    "import numpy as np\n",
    "import pandas as pd\n",
    "df = submission\n",
    "#df = pd.read_csv(rf\"C:\\Users\\z\\OneDrive - Sejong University\\바탕 화면\\네이버 부스트캠프 제출용\\네이버 부캠\\프로젝트2\\a\\ensemble용\\datasetensembleweight45odderasecreate.csv\")\n",
    "image_id_column = df['image_id']\n",
    "prediction_strings = df['PredictionString'].fillna('')\n",
    "# prediction_strings는 기존 코드에서 생성된 결과입니다.\n",
    "\n",
    "# 새로운 prediction_strings를 저장할 리스트\n",
    "filtered_prediction_strings = []\n",
    "\n",
    "# 바운딩 박스 개수를 저장할 리스트\n",
    "bbox_counts_per_line = []\n",
    "\n",
    "for prediction_string in prediction_strings:\n",
    "    # 바운딩 박스 문자열을 공백으로 나누어 리스트로 변환\n",
    "    boxes = prediction_string.strip().split()\n",
    "    \n",
    "    # 바운딩 박스가 있는 경우\n",
    "    if len(boxes) > 0:\n",
    "        # 각 바운딩 박스를 (label, score, x1, y1, x2, y2) 형태로 변환\n",
    "        num_boxes = len(boxes) // 6\n",
    "        box_data = []\n",
    "\n",
    "        for i in range(num_boxes):\n",
    "            label = int(boxes[i * 6])\n",
    "            score = float(boxes[i * 6 + 1])\n",
    "            x1 = float(boxes[i * 6 + 2])\n",
    "            y1 = float(boxes[i * 6 + 3])\n",
    "            x2 = float(boxes[i * 6 + 4])\n",
    "            y2 = float(boxes[i * 6 + 5])\n",
    "            \n",
    "            # confidence score가 0.05 이상인 바운딩 박스만 추가\n",
    "            #if score > 0.01:\n",
    "            box_data.append((label, score, x1, y1, x2, y2))\n",
    "        \n",
    "        # confidence score로 정렬\n",
    "        box_data.sort(key=lambda x: x[1], reverse=True)  # score 기준 내림차순 정렬\n",
    "        \n",
    "        # 상위 499개 바운딩 박스만 선택\n",
    "        \n",
    "        if len(box_data) > 400:\n",
    "            box_data = box_data[:400]\n",
    "\n",
    "        # 새로운 prediction_string 생성\n",
    "        new_prediction_string = ''\n",
    "        for box in box_data:\n",
    "            new_prediction_string += f\"{box[0]} {box[1]:.10f} {box[2]:.5f} {box[3]:.5f} {box[4]:.5f} {box[5]:.5f} \"\n",
    "            #new_prediction_string += f\"{box[0]} {box[1]:.3f} {box[2]:.2f} {box[3]:.2f} {box[4]:.2f} {box[5]:.2f} \"\n",
    "        \n",
    "        filtered_prediction_strings.append(new_prediction_string.strip())\n",
    "        \n",
    "        # 바운딩 박스 개수 저장\n",
    "        bbox_counts_per_line.append(len(box_data))\n",
    "    else:\n",
    "        # 바운딩 박스가 없는 경우는 그대로 추가\n",
    "        filtered_prediction_strings.append(prediction_string)\n",
    "        bbox_counts_per_line.append(0)  # 바운딩 박스가 없으므로 0으로 저장\n",
    "\n",
    "# 새로운 prediction_strings 업데이트\n",
    "\n",
    "submission = pd.DataFrame()\n",
    "submission['PredictionString'] = filtered_prediction_strings\n",
    "submission['image_id'] = image_id_column\n",
    "\n",
    "#======= 앙상블 결과 출력할 경로 지정 ========#\n",
    "submission.to_csv(\".\\datasetensembleweight_10241608.csv\", index=False)\n",
    "\n",
    "# 각 줄마다 바운딩 박스 개수 출력df\n",
    "total = 0\n",
    "for i, count in enumerate(bbox_counts_per_line):\n",
    "    print(f\"Line {i + 1}: {count} bounding boxes\")\n",
    "    total += count\n",
    "print(total)\n"
   ]
  },
  {
   "cell_type": "code",
   "execution_count": null,
   "id": "d204cada-8488-4f30-9b2e-cdf50fec3939",
   "metadata": {},
   "outputs": [],
   "source": []
  }
 ],
 "metadata": {
  "kernelspec": {
   "display_name": "Python (reboot)",
   "language": "python",
   "name": "new_env"
  },
  "language_info": {
   "codemirror_mode": {
    "name": "ipython",
    "version": 3
   },
   "file_extension": ".py",
   "mimetype": "text/x-python",
   "name": "python",
   "nbconvert_exporter": "python",
   "pygments_lexer": "ipython3",
   "version": "3.10.15"
  }
 },
 "nbformat": 4,
 "nbformat_minor": 5
}
